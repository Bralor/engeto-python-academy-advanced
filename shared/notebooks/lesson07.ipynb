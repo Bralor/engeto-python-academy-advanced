{
 "cells": [
  {
   "cell_type": "markdown",
   "metadata": {},
   "source": [
    "# Python akademie, pokročilí"
   ]
  },
  {
   "cell_type": "markdown",
   "metadata": {},
   "source": [
    "<br>\n",
    "\n",
    "## Obsah\n",
    "\n",
    "---\n",
    "\n",
    "1. [Prezentace](https://docs.google.com/presentation/d/1qjP9jFeUioAePlyRv9c7spgyQhSh7-KPJvF4HDvwG2M)\n",
    "1. [Úvod do IO]()\n",
    "2. [Textové soubory]()\n",
    "    - [Úvod k souborům]()\n",
    "    - [Čtení souborů]()\n",
    "    - [Zápis do souborů]()\n",
    "    - [Opakovaný zápis do souboru]()\n",
    "3. [Tabulkové soubory]()\n",
    "    - [Dialekt CSV souborů]()\n",
    "    - [Vytvoříš soubor s příp. `.csv`]()\n",
    "    - [DictWriter]()\n",
    "    - [Přečti obsah souboru `.csv`]()\n",
    "    - [DictReader]()\n",
    "4. [JSON soubory]()\n",
    "    - [Vytvoření souboru objektu a souboru `.json`]()\n",
    "    - [Načti existující soubor `.json` nebo string]()\n",
    "    - [Zápis s kontextovým manažerem]()\n",
    "5. [Domácí úkol]()"
   ]
  },
  {
   "cell_type": "markdown",
   "metadata": {},
   "source": [
    "<br>\n",
    "\n",
    "### 🧠 CVIČENÍ 0 🧠, Opakování:\n",
    "---"
   ]
  },
  {
   "cell_type": "markdown",
   "metadata": {},
   "source": [
    "- Definuj funkci `rozdel_text`, která splňuje:\n",
    "    - parametr: `vzorek` (string),\n",
    "    - vrací: seznam slov,\n",
    "    - popis: Tato funkce rozdělí textový řetězec na slova a vrátí seznam slov. Pokud vstupní argument není řetězec, vyvolá výjimku.\n",
    "\n",
    "- definuj funkci `analyzuj_text`, která splňuje:\n",
    "    - parametr: `slova` (list),\n",
    "    - vrací: slovník s klíči `'Počet slov'`, `'Nejběžnějších 5'` a `'Průměrná délka'`,\n",
    "    - popis: Tato funkce analyzuje seznam slov a vrací statistiky ve formě slovníku.\n",
    "\n",
    "- definuj funkci `vypis_statistiky`, která splňuje:\n",
    "    - parametr: `statistiky` (dict),\n",
    "    - vrací: nic,\n",
    "    - popis: Tato funkce vypíše statistiky ve formátované podobě."
   ]
  },
  {
   "cell_type": "code",
   "execution_count": 3,
   "metadata": {},
   "outputs": [],
   "source": [
    "from collections import Counter\n",
    "\n",
    "\n",
    "def rozdel_text(vzorek: str) -> list:\n",
    "    if isinstance(vzorek, str):\n",
    "        return vzorek.split()\n",
    "    else:\n",
    "        raise Exception(\"Parametr 'vzorek' nedostal datový typ 'str'\")\n",
    "\n",
    "\n",
    "def analyzuj_text(slova: list) -> dict:\n",
    "    pocet_slov = len(slova)  # ošetřit diakritiku ze zadání\n",
    "    nejcistejsich_pet = Counter(slova).most_common(5)  # (['se', 15], ['a', 10], ...)\n",
    "    return {\n",
    "        'Počet slov': pocet_slov,\n",
    "        'Nejčastějších 5': nejcistejsich_pet\n",
    "    }"
   ]
  },
  {
   "cell_type": "code",
   "execution_count": 6,
   "metadata": {},
   "outputs": [
    {
     "ename": "AssertionError",
     "evalue": "Neočekávaný výstup!",
     "output_type": "error",
     "traceback": [
      "\u001b[0;31m---------------------------------------------------------------------------\u001b[0m",
      "\u001b[0;31mAssertionError\u001b[0m                            Traceback (most recent call last)",
      "Cell \u001b[0;32mIn[6], line 15\u001b[0m\n\u001b[1;32m      7\u001b[0m     testovaci_vzorek_2 \u001b[38;5;241m=\u001b[39m [\u001b[38;5;124m\"\u001b[39m\u001b[38;5;124mse\u001b[39m\u001b[38;5;124m\"\u001b[39m, \u001b[38;5;124m\"\u001b[39m\u001b[38;5;124mani\u001b[39m\u001b[38;5;124m\"\u001b[39m, \u001b[38;5;124m\"\u001b[39m\u001b[38;5;124monak\u001b[39m\u001b[38;5;124m\"\u001b[39m]\n\u001b[1;32m      8\u001b[0m     \u001b[38;5;28;01massert\u001b[39;00m analyzuj_text(testovaci_vzorek_2) \u001b[38;5;241m==\u001b[39m {\n\u001b[1;32m      9\u001b[0m         \u001b[38;5;124m'\u001b[39m\u001b[38;5;124mPočet slov\u001b[39m\u001b[38;5;124m'\u001b[39m: \u001b[38;5;241m3\u001b[39m,\n\u001b[1;32m     10\u001b[0m         \u001b[38;5;124m'\u001b[39m\u001b[38;5;124mNejčastějších 5\u001b[39m\u001b[38;5;124m'\u001b[39m: [(\u001b[38;5;124m'\u001b[39m\u001b[38;5;124mse\u001b[39m\u001b[38;5;124m'\u001b[39m, \u001b[38;5;241m1\u001b[39m), (\u001b[38;5;124m'\u001b[39m\u001b[38;5;124mani\u001b[39m\u001b[38;5;124m'\u001b[39m, \u001b[38;5;241m1\u001b[39m), (\u001b[38;5;124m'\u001b[39m\u001b[38;5;124monak\u001b[39m\u001b[38;5;124m'\u001b[39m, \u001b[38;5;241m1\u001b[39m)]\n\u001b[1;32m     11\u001b[0m         \u001b[38;5;66;03m# 'Průměrná délka': 3\u001b[39;00m\n\u001b[1;32m     12\u001b[0m     }\n\u001b[0;32m---> 15\u001b[0m \u001b[43mtest_rozdeli_fce_text_spravne\u001b[49m\u001b[43m(\u001b[49m\u001b[43m)\u001b[49m\n\u001b[1;32m     16\u001b[0m test_probehne_spravne_analyza_slov()\n",
      "Cell \u001b[0;32mIn[6], line 3\u001b[0m, in \u001b[0;36mtest_rozdeli_fce_text_spravne\u001b[0;34m()\u001b[0m\n\u001b[1;32m      1\u001b[0m \u001b[38;5;28;01mdef\u001b[39;00m \u001b[38;5;21mtest_rozdeli_fce_text_spravne\u001b[39m():\n\u001b[1;32m      2\u001b[0m     testovaci_vzorek_1 \u001b[38;5;241m=\u001b[39m \u001b[38;5;124m\"\u001b[39m\u001b[38;5;124mfoo bar\u001b[39m\u001b[38;5;124m\"\u001b[39m\n\u001b[0;32m----> 3\u001b[0m     \u001b[38;5;28;01massert\u001b[39;00m rozdel_text(testovaci_vzorek_1) \u001b[38;5;241m==\u001b[39m [\u001b[38;5;124m'\u001b[39m\u001b[38;5;124mfoo\u001b[39m\u001b[38;5;124m'\u001b[39m, \u001b[38;5;124m'\u001b[39m\u001b[38;5;124mbar\u001b[39m\u001b[38;5;124m'\u001b[39m, \u001b[38;5;124m'\u001b[39m\u001b[38;5;124mmoo\u001b[39m\u001b[38;5;124m'\u001b[39m], \u001b[38;5;124m\"\u001b[39m\u001b[38;5;124mNeočekávaný výstup!\u001b[39m\u001b[38;5;124m\"\u001b[39m\n",
      "\u001b[0;31mAssertionError\u001b[0m: Neočekávaný výstup!"
     ]
    }
   ],
   "source": [
    "def test_rozdeli_fce_text_spravne():\n",
    "    testovaci_vzorek_1 = \"foo bar\"\n",
    "    assert rozdel_text(testovaci_vzorek_1) == ['foo', 'bar', 'moo'], \"Neočekávaný výstup!\"\n",
    "\n",
    "\n",
    "def test_probehne_spravne_analyza_slov():\n",
    "    testovaci_vzorek_2 = [\"se\", \"ani\", \"onak\"]\n",
    "    assert analyzuj_text(testovaci_vzorek_2) == {\n",
    "        'Počet slov': 3,\n",
    "        'Nejčastějších 5': [('se', 1), ('ani', 1), ('onak', 1)]\n",
    "        # 'Průměrná délka': 3\n",
    "    }\n",
    "        \n",
    "\n",
    "test_rozdeli_fce_text_spravne()\n",
    "test_probehne_spravne_analyza_slov()"
   ]
  },
  {
   "cell_type": "markdown",
   "metadata": {},
   "source": [
    "<details>\n",
    "    <summary>▶️ Řešení</summary>\n",
    "    \n",
    "    ```\n",
    "    from collections import Counter\n",
    "\n",
    "    def rozdel_text(vzorek: str) -> list:\n",
    "        if isinstance(vzorek, str):\n",
    "            return vzorek.split()\n",
    "        else:\n",
    "            raise Exception(f\"Argument 'vzorek' není string!\")\n",
    "    \n",
    "    \n",
    "    def analyzuj_text(slova: list) -> tuple:\n",
    "        rozbor = Counter(slova)\n",
    "        pocet_slov = len(slova)\n",
    "        nejbeznejsich_pet = rozbor.most_common(5)\n",
    "        prumerna_delka = sum(len(slova) for slovo in slova) / len(slova)\n",
    "        return {\n",
    "            'Počet slov': pocet_slov,\n",
    "            'Nejběžnějších 5': nejbeznejsich_pet,\n",
    "            'Průměrná délka': prumerna_delka\n",
    "        }\n",
    "    \n",
    "    \n",
    "    def vypis_statistiky(statistiky: dict) -> None:\n",
    "        pocet_slov, nejbeznejsi_slovo, prumerna_delka = statistiky\n",
    "        for klic, hodnota in statistiky.items():\n",
    "            print(f\"{klic}\\t --> {hodnota}\")\n",
    "    ```\n",
    "</details>"
   ]
  },
  {
   "cell_type": "markdown",
   "metadata": {},
   "source": [
    "<br>\n",
    "\n",
    "<img src=\"https://external-content.duckduckgo.com/iu/?u=https%3A%2F%2Ftse4.mm.bing.net%2Fth%3Fid%3DOIP.BPYuvKj05Xo_oF_oXiL1yAHaHa%26pid%3DApi&f=1\" width=\"250\" style=\"margin-left:auto; margin-right:auto\">\n",
    "\n",
    "\n",
    "## Úvod do IO\n",
    "\n",
    "---\n",
    "\n",
    "Nyní pracuješ pouze s objekty **Pythonu vlastními** nebo **s jeho knihovnami**.\n",
    "\n",
    "Všechny tyto *objekty* jsi vytvoříš a zpracováváš **v rámci paměti RAM** (*random access memory*).\n",
    "\n",
    "<br>\n",
    "\n",
    "*Paměť RAM* je **velmi rychlá**, ale současně náročná a vyžaduje **neustálý zdroj** (není elektřina, ztratíš data).\n",
    "\n",
    "Takový **disk počítače** je o dost **pomalejší** než paměť *RAM*, ale umožňuje ti uchovávat tebou získaná, zpracovaná data.\n",
    "\n",
    "<br>\n",
    "\n",
    "Proto je dobré osvojit si pravidla a postupy v Pythonu, jak vytvořit **persistentní data**.\n",
    "\n",
    "<br>"
   ]
  },
  {
   "cell_type": "code",
   "execution_count": null,
   "metadata": {},
   "outputs": [],
   "source": [
    "# data --> rozdelim --> \"ocistim\" --> pracuji\n",
    "# data --> rozdelim --> znaky v pismenu a-zA-Z --> pracuji (import string)"
   ]
  },
  {
   "cell_type": "markdown",
   "metadata": {},
   "source": [
    "### File Input/Output (~vstupní soubor, výstupní soubor)\n",
    "\n",
    "---\n",
    "\n",
    "Klasickou cestou, jak vytvořit obyčejný soubor je poskládat údaje (bajty) za hlavičkou, tedy **jménem souboru**.\n",
    "\n",
    "<br>\n",
    "\n",
    "Než ale začneš se souborem pracovat, potřebuješ si v Pythonu vytvořit *pomocný objekt*, který jej bude **zastupovat** (nebo se na něj odkazovat):"
   ]
  },
  {
   "cell_type": "markdown",
   "metadata": {},
   "source": [
    "```python\n",
    "muj_soubor = open(jmeno_souboru, pravidla)  # pomocný objekt\n",
    "\n",
    "# ... libovolná ohlášení\n",
    "\n",
    "muj_soubor.close()\n",
    "```"
   ]
  },
  {
   "cell_type": "markdown",
   "metadata": {},
   "source": [
    "1. `muj_soubor`, je **Pythonovský objekt** odkazující na **soubor**,\n",
    "2. `open()`, *zabudovaná funkce*, která **vytváří spojení** (*stream*) mezi objektem a souborem,\n",
    "3. `jmeno_souboru`, jméno souboru (*relativní* cesta/*absolutní* cesta),\n",
    "4. `pravidla`, výběr argumentů upřesňujících, **jak soubor otevřít**,\n",
    "5. `muj_soubor.close`, způsob, kterým **ukončíš spojení** mezi objektem a souborem."
   ]
  },
  {
   "cell_type": "markdown",
   "metadata": {},
   "source": [
    "<br>\n",
    "\n",
    "<img src=\"https://external-content.duckduckgo.com/iu/?u=https%3A%2F%2Ftse2.mm.bing.net%2Fth%3Fid%3DOIP.JhMJc09m94e9V3oKtb_n3AHaHa%26pid%3DApi&f=1\" width=\"200\" style=\"margin-left:auto; margin-right:auto\">\n",
    "\n",
    "## Textové soubory\n",
    "\n",
    "---\n",
    "\n",
    "Nejlepším souborem na začátek bude prostý **textový soubor**.\n",
    "\n",
    "Textovým souborem rozuměj jakýkoliv soubor, který má příponu `.txt`.\n",
    "\n",
    "#### Demo: Ukázka textového souboru"
   ]
  },
  {
   "cell_type": "markdown",
   "metadata": {},
   "source": [
    "<br>\n",
    "\n",
    "### Úvod k souborům\n",
    "\n",
    "---\n",
    "\n",
    "Základními procesy pro práci se soubory obecně jsou:\n",
    "1. **Čtení** souborů,\n",
    "2. **Zápis** do souborů."
   ]
  },
  {
   "cell_type": "markdown",
   "metadata": {},
   "source": [
    "### Čtení souborů\n",
    "\n",
    "---\n",
    "\n",
    "Otevřít a přečíst *textový soubor* pomocí *editorů* jistě ovládáš.\n",
    "\n",
    "Teď se podívej, jak můžeš naučit otevírání a čtení souborů také **interpreta Pythonu**:"
   ]
  },
  {
   "cell_type": "code",
   "execution_count": 12,
   "metadata": {},
   "outputs": [],
   "source": [
    "#help(rozdel_text)"
   ]
  },
  {
   "cell_type": "code",
   "execution_count": 13,
   "metadata": {},
   "outputs": [
    {
     "ename": "NameError",
     "evalue": "name 'demo' is not defined",
     "output_type": "error",
     "traceback": [
      "\u001b[0;31m---------------------------------------------------------------------------\u001b[0m",
      "\u001b[0;31mNameError\u001b[0m                                 Traceback (most recent call last)",
      "Cell \u001b[0;32mIn[13], line 1\u001b[0m\n\u001b[0;32m----> 1\u001b[0m muj_txt_soubor \u001b[38;5;241m=\u001b[39m \u001b[38;5;28mopen\u001b[39m(\u001b[43mdemo\u001b[49m\u001b[38;5;241m.\u001b[39mtxt)\n",
      "\u001b[0;31mNameError\u001b[0m: name 'demo' is not defined"
     ]
    }
   ],
   "source": [
    "muj_txt_soubor = open(demo.txt)"
   ]
  },
  {
   "cell_type": "markdown",
   "metadata": {},
   "source": [
    "<br>\n",
    "\n",
    "Dávej pozor, jakým způsobem **jméno souboru** používáš. Python potřebuje pracovat s takovým datovým typem, který dobře zná."
   ]
  },
  {
   "cell_type": "code",
   "execution_count": 15,
   "metadata": {},
   "outputs": [
    {
     "name": "stdout",
     "output_type": "stream",
     "text": [
      "/home/matous/projects/engeto-python-academy-advanced/shared/notebooks\n"
     ]
    }
   ],
   "source": [
    "!pwd"
   ]
  },
  {
   "cell_type": "code",
   "execution_count": 17,
   "metadata": {},
   "outputs": [
    {
     "name": "stdout",
     "output_type": "stream",
     "text": [
      "total 20\n",
      "-rw-rw-r-- 1 matous matous   38 zář  7 14:13 demo.txt\n",
      "-rw-rw-r-- 1 matous matous  421 zář  7 10:39 logs.txt\n",
      "-rw-rw-r-- 1 matous matous  270 zář  7 10:45 prodeje.csv\n",
      "-rw-rw-r-- 1 matous matous  297 zář  7 11:13 produkty.json\n",
      "-rw-rw-r-- 1 matous matous 3132 zář  7 13:28 txt_sample.py\n"
     ]
    }
   ],
   "source": [
    "!ls -l ../data/"
   ]
  },
  {
   "cell_type": "code",
   "execution_count": 18,
   "metadata": {},
   "outputs": [],
   "source": [
    "muj_txt_soubor = open(\"../data/demo.txt\")"
   ]
  },
  {
   "cell_type": "markdown",
   "metadata": {},
   "source": [
    "Další kolizí může být **umístění** souboru.\n",
    "\n",
    "<br>\n",
    "\n",
    "*Interpret* pracuje v aktuálním umístění. Takže buď soubor přesuneš, nebo na něj odkážeš pomocí:\n",
    "1. **Relativní cesty** (tedy vzhledem k aktuálnímu umístění),\n",
    "2. **absolutní cesty** (celá cesta od *roota* nebo *jména disku*)."
   ]
  },
  {
   "cell_type": "markdown",
   "metadata": {},
   "source": [
    "#### Relativní cesta\n",
    "```\n",
    "\"muj_textovy_soubor.txt\"                # v aktuální složce\n",
    "\"../muj_textovy_soubor.txt\"             # v rodičovské složce\n",
    "\"shared/onsite/muj_textovy_soubor.txt\"  # v dceřinné složce 'shared', v dceřinné složce 'onsite'\n",
    "```\n",
    "\n",
    "#### Absolutní cesta, Windows\n",
    "```\n",
    "\"C:\\users\\admin\\docs\\muj_textovy_soubor.txt\"\n",
    "```\n",
    "\n",
    "#### Absolutní cesta, unix\n",
    "```\n",
    "\"/home/user/project/shared/onsite/muj_textovy_soubor.txt\"\n",
    "```"
   ]
  },
  {
   "cell_type": "code",
   "execution_count": null,
   "metadata": {},
   "outputs": [],
   "source": [
    "muj_txt_soubor = open(\"../onsite/lesson07/muj_textovy_soubor.txt\")"
   ]
  },
  {
   "cell_type": "code",
   "execution_count": 19,
   "metadata": {},
   "outputs": [
    {
     "name": "stdout",
     "output_type": "stream",
     "text": [
      "<_io.TextIOWrapper name='../data/demo.txt' mode='r' encoding='UTF-8'>\n"
     ]
    }
   ],
   "source": [
    "print(muj_txt_soubor)"
   ]
  },
  {
   "cell_type": "code",
   "execution_count": 20,
   "metadata": {},
   "outputs": [
    {
     "name": "stdout",
     "output_type": "stream",
     "text": [
      "<class '_io.TextIOWrapper'>\n"
     ]
    }
   ],
   "source": [
    "print(type(muj_txt_soubor))"
   ]
  },
  {
   "cell_type": "markdown",
   "metadata": {},
   "source": [
    "Metody **pro čtění obsahu** *TextIOWrapper* objektu:\n",
    "\n",
    "1. `read` - přečte celý soubor jako jeden string,\n",
    "2. `readline` - přečte pouze první řádek jako string,\n",
    "3. `readlines` - přečte celý soubor jako list (co řádek, to údaj)\n",
    "\n",
    "<br>"
   ]
  },
  {
   "cell_type": "code",
   "execution_count": 21,
   "metadata": {},
   "outputs": [],
   "source": [
    "obsah_txt = muj_txt_soubor.readlines()"
   ]
  },
  {
   "cell_type": "markdown",
   "metadata": {},
   "source": [
    "Jakmile tvoje práce s textovými souborem skončí, nezapomeň soubor zavřít."
   ]
  },
  {
   "cell_type": "code",
   "execution_count": 22,
   "metadata": {},
   "outputs": [
    {
     "name": "stdout",
     "output_type": "stream",
     "text": [
      "['prvni radek,\\n', 'druhy radek,\\n', 'treti radek.']\n"
     ]
    }
   ],
   "source": [
    "print(obsah_txt)"
   ]
  },
  {
   "cell_type": "code",
   "execution_count": 23,
   "metadata": {},
   "outputs": [],
   "source": [
    "obsah_txt_2 = muj_txt_soubor.readlines()"
   ]
  },
  {
   "cell_type": "code",
   "execution_count": 24,
   "metadata": {},
   "outputs": [
    {
     "name": "stdout",
     "output_type": "stream",
     "text": [
      "[]\n"
     ]
    }
   ],
   "source": [
    "print(obsah_txt_2)"
   ]
  },
  {
   "cell_type": "code",
   "execution_count": null,
   "metadata": {},
   "outputs": [],
   "source": []
  },
  {
   "cell_type": "code",
   "execution_count": 25,
   "metadata": {},
   "outputs": [
    {
     "data": {
      "text/plain": [
       "0"
      ]
     },
     "execution_count": 25,
     "metadata": {},
     "output_type": "execute_result"
    }
   ],
   "source": [
    "muj_txt_soubor.seek(0)  # dobre vedet!"
   ]
  },
  {
   "cell_type": "code",
   "execution_count": 26,
   "metadata": {},
   "outputs": [],
   "source": [
    "obsah_txt_2 = muj_txt_soubor.read()"
   ]
  },
  {
   "cell_type": "code",
   "execution_count": 27,
   "metadata": {},
   "outputs": [
    {
     "name": "stdout",
     "output_type": "stream",
     "text": [
      "prvni radek,\n",
      "druhy radek,\n",
      "treti radek.\n"
     ]
    }
   ],
   "source": [
    "print(obsah_txt_2)"
   ]
  },
  {
   "cell_type": "code",
   "execution_count": 29,
   "metadata": {},
   "outputs": [
    {
     "data": {
      "text/plain": [
       "False"
      ]
     },
     "execution_count": 29,
     "metadata": {},
     "output_type": "execute_result"
    }
   ],
   "source": [
    "muj_txt_soubor.closed"
   ]
  },
  {
   "cell_type": "code",
   "execution_count": 30,
   "metadata": {},
   "outputs": [],
   "source": [
    "muj_txt_soubor.close()"
   ]
  },
  {
   "cell_type": "code",
   "execution_count": 31,
   "metadata": {},
   "outputs": [
    {
     "data": {
      "text/plain": [
       "True"
      ]
     },
     "execution_count": 31,
     "metadata": {},
     "output_type": "execute_result"
    }
   ],
   "source": [
    "muj_txt_soubor.closed"
   ]
  },
  {
   "cell_type": "markdown",
   "metadata": {},
   "source": [
    "<br>\n",
    "\n",
    "### Zápis do souborů\n",
    "\n",
    "---\n",
    "\n",
    "Pokud všem žádný textový soubor nemáš, nebo jej chceš naopak **vytvořit**, musíš jej prvně **zapsat**:"
   ]
  },
  {
   "cell_type": "code",
   "execution_count": 36,
   "metadata": {},
   "outputs": [],
   "source": [
    "muj_txt = \"Toto je můj nový soubor^.^\""
   ]
  },
  {
   "cell_type": "markdown",
   "metadata": {},
   "source": [
    "*String* `muj_txt` máš aktuálně k dispozici pouze jako nějaký objekt Pythonu.\n",
    "\n",
    "Opět je potřeba nejprve spojit **objekt v Pythonu** se skutečným souborem na disku."
   ]
  },
  {
   "cell_type": "code",
   "execution_count": 34,
   "metadata": {},
   "outputs": [],
   "source": [
    "muj_soubor = open(\"../data/demo_zapis.txt\", mode='w')  # jméno souboru jako \"str\""
   ]
  },
  {
   "cell_type": "code",
   "execution_count": 33,
   "metadata": {},
   "outputs": [
    {
     "name": "stdout",
     "output_type": "stream",
     "text": [
      "total 20\n",
      "-rw-rw-r-- 1 matous matous   38 zář  7 14:13 demo.txt\n",
      "-rw-rw-r-- 1 matous matous  421 zář  7 10:39 logs.txt\n",
      "-rw-rw-r-- 1 matous matous  270 zář  7 10:45 prodeje.csv\n",
      "-rw-rw-r-- 1 matous matous  297 zář  7 11:13 produkty.json\n",
      "-rw-rw-r-- 1 matous matous 3132 zář  7 13:28 txt_sample.py\n"
     ]
    }
   ],
   "source": [
    "!ls -l ../data"
   ]
  },
  {
   "cell_type": "code",
   "execution_count": 37,
   "metadata": {},
   "outputs": [
    {
     "data": {
      "text/plain": [
       "26"
      ]
     },
     "execution_count": 37,
     "metadata": {},
     "output_type": "execute_result"
    }
   ],
   "source": [
    "muj_soubor.write(muj_txt)"
   ]
  },
  {
   "cell_type": "code",
   "execution_count": 38,
   "metadata": {},
   "outputs": [],
   "source": [
    "muj_soubor.close()"
   ]
  },
  {
   "cell_type": "code",
   "execution_count": null,
   "metadata": {},
   "outputs": [],
   "source": [
    "muj_soubor = open(\"../onsite/lesson07/muj_textovy_soubor.txt\", mode=\"w\")  # vybrat vhodný režim"
   ]
  },
  {
   "cell_type": "code",
   "execution_count": null,
   "metadata": {},
   "outputs": [],
   "source": [
    "muj_soubor.write(muj_txt)"
   ]
  },
  {
   "cell_type": "code",
   "execution_count": null,
   "metadata": {},
   "outputs": [],
   "source": [
    "muj_soubor.closed"
   ]
  },
  {
   "cell_type": "code",
   "execution_count": null,
   "metadata": {},
   "outputs": [],
   "source": [
    "muj_soubor.close()"
   ]
  },
  {
   "cell_type": "markdown",
   "metadata": {},
   "source": [
    "Soubor si následně můžeš otevřít, ale zjistíš, že je **v tento moment prázdný**.\n",
    "\n",
    "Funkce `open` pouze vytvoří (*~iniciuje*) nový objekt `muj_novy_soubor`.\n",
    "\n",
    "Příslušný text teprve musíme zapsat, pomocí vhodné *funkce* `write`:"
   ]
  },
  {
   "cell_type": "code",
   "execution_count": null,
   "metadata": {},
   "outputs": [],
   "source": [
    "muj_soubor = open(\"muj_novy_soubor.txt\", mode=\"w\")  # vybrat vhodný režim"
   ]
  },
  {
   "cell_type": "code",
   "execution_count": null,
   "metadata": {},
   "outputs": [],
   "source": [
    "help(muj_soubor.write)"
   ]
  },
  {
   "cell_type": "code",
   "execution_count": null,
   "metadata": {},
   "outputs": [],
   "source": [
    "muj_soubor.write(obsah_souboru)"
   ]
  },
  {
   "cell_type": "markdown",
   "metadata": {},
   "source": [
    "Pokud si budeš chtít nyní prohlédnout **zapsaný soubor na disku**, zjistíš, že je stále prázdný.\n",
    "\n",
    "Protože *stále není ukončený*, nedovedeš s ním nijak manipulovat.\n",
    "\n",
    "Pokud zjistíš, že není ukončený, ukončíš jej pomocí metody `close`."
   ]
  },
  {
   "cell_type": "code",
   "execution_count": null,
   "metadata": {},
   "outputs": [],
   "source": [
    "muj_soubor.close()"
   ]
  },
  {
   "cell_type": "markdown",
   "metadata": {},
   "source": [
    "Teprve po ukončení *streamu* (nebo také zápisu) objektu, můžeš soubor `muj_novy_soubor.txt` prozkoumat."
   ]
  },
  {
   "cell_type": "markdown",
   "metadata": {},
   "source": [
    "### Opakovaný zápis do souboru\n",
    "\n",
    "---\n",
    "\n",
    "Máš situaci, kdy tebou vytvořený soubor existuje a ty jej chceš znovu otevřít a rozšířit:"
   ]
  },
  {
   "cell_type": "code",
   "execution_count": 39,
   "metadata": {},
   "outputs": [],
   "source": [
    "dalsi_text = \"\\nRád čtu a hraji na klavír\""
   ]
  },
  {
   "cell_type": "markdown",
   "metadata": {},
   "source": [
    "Opět potřebuješ inicializovat **pomocný objekt**, jako v předchozích scénářích:"
   ]
  },
  {
   "cell_type": "code",
   "execution_count": 40,
   "metadata": {},
   "outputs": [],
   "source": [
    "muj_soubor = open(\"../data/demo_zapis.txt\", mode=\"w\")\n",
    "muj_soubor.write(dalsi_text)\n",
    "muj_soubor.close()"
   ]
  },
  {
   "cell_type": "code",
   "execution_count": null,
   "metadata": {},
   "outputs": [],
   "source": [
    "help(muj_soubor.writelines)"
   ]
  },
  {
   "cell_type": "markdown",
   "metadata": {},
   "source": [
    "Když zkontroluješ, jak vypadá **nově přidaný text**, bude vypadat zmateně.\n",
    "\n",
    "<br>\n",
    "\n",
    "Pokud opětovně načteš **stejný soubor** v režimu `w`, přesuneš \"zapisovač\" (*představ si jej jako blikající kurzor v editoru*) opět **na začátek souboru**.\n",
    "\n",
    "*Interpret* zapisuje od místa, kde se zapisovač nachází, takže dojde **k přepsání původního obsahu**.\n",
    "\n",
    "<br>\n",
    "\n",
    "Pokud chceš automaticky zapisovat **od konce souboru**, otevři soubor s argumentem `mode=\"a\"`, tedy v režimu `append`."
   ]
  },
  {
   "cell_type": "code",
   "execution_count": 42,
   "metadata": {},
   "outputs": [],
   "source": [
    "prvni_radek = \"Ahoj, ja jsem Matous (:\"\n",
    "dalsi_txt = \"\\nRad ctu, hraji na klavir\""
   ]
  },
  {
   "cell_type": "code",
   "execution_count": 43,
   "metadata": {},
   "outputs": [],
   "source": [
    "muj_soubor = open(\"../data/demo_zapis.txt\", mode=\"w\")\n",
    "muj_soubor.write(prvni_radek)\n",
    "muj_soubor.close()"
   ]
  },
  {
   "cell_type": "code",
   "execution_count": 44,
   "metadata": {},
   "outputs": [],
   "source": [
    "muj_soubor = open(\"../data/demo_zapis.txt\", mode=\"\")\n",
    "muj_soubor.write(dalsi_txt)\n",
    "muj_soubor.close()"
   ]
  },
  {
   "cell_type": "markdown",
   "metadata": {},
   "source": [
    "Pokud budeš někdy pracovat se stejným souborem tak, že jej budeš současně:\n",
    "1. **číst** soubor,\n",
    "2. **zapisovat** do něj.\n",
    "    \n",
    "Vyzkoušej režim `r+`."
   ]
  },
  {
   "cell_type": "code",
   "execution_count": null,
   "metadata": {},
   "outputs": [],
   "source": []
  },
  {
   "cell_type": "markdown",
   "metadata": {},
   "source": [
    "<br>\n",
    "\n",
    "### 🧠 CVIČENÍ 1 🧠, práce s textovými souborem:\n",
    "---"
   ]
  },
  {
   "cell_type": "markdown",
   "metadata": {},
   "source": [
    "- Definuj funkci `precti_logy`, která splňuje:\n",
    "    - parametr: `soubor` (string),\n",
    "    - vrací: seznam záznamů z logovacího souboru,\n",
    "    - popis: Tato funkce přečte obsah logovacích souboru. Kde každý řádek bude oddělený údaj sekvence.\n",
    "\n",
    "- definuj funkci `vyber_pouze_typ`, která splňuje:\n",
    "    - parametr: `obsah_souboru` (list),\n",
    "    - vrací: tuple,\n",
    "    - popis: Tato funkce ze zadaného seznamu logů rozdělí každý řádek a uloží pouze typ logovací zprávy (`INFO`, `WARN`, ...). Výsledný údaj vrať jako `tuple`."
   ]
  },
  {
   "cell_type": "code",
   "execution_count": null,
   "metadata": {},
   "outputs": [],
   "source": [
    "INFO 2023-07-26 10:30:22 Aplikace úspěšně spuštěna\n",
    "INFO 2023-07-26 10:31:12 Uživatel přihlášen\n",
    "WARN 2023-07-26 10:35:05 Nedostatek místa na disku\n",
    "INFO 2023-07-26 10:36:17 Data úspěšně uložena\n",
    "ERROR 2023-07-26 10:40:44 Připojení k databázi selhalo\n",
    "WARN 2023-07-26 10:45:30 Možná chyba v konfiguraci\n",
    "ERROR 2023-07-26 10:50:01 Nelze odeslat e-mail\n",
    "INFO 2023-07-26 10:55:12 Aplikace úspěšně ukončena"
   ]
  },
  {
   "cell_type": "code",
   "execution_count": null,
   "metadata": {},
   "outputs": [],
   "source": [
    "!ls ../data"
   ]
  },
  {
   "cell_type": "code",
   "execution_count": 45,
   "metadata": {},
   "outputs": [],
   "source": [
    "def precti_logy(soubor: str) -> list:\n",
    "    if isinstance(soubor, str):\n",
    "        muj_soubor = open(soubor, mode=\"r\", encoding='utf-8')\n",
    "        obsah = muj_soubor.readlines()\n",
    "        muj_soubor.close()\n",
    "        return obsah\n",
    "    else:\n",
    "        raise Exception(\"soubor should be string!\")"
   ]
  },
  {
   "cell_type": "code",
   "execution_count": 47,
   "metadata": {},
   "outputs": [],
   "source": [
    "r = precti_logy('../data/logs.txt')"
   ]
  },
  {
   "cell_type": "code",
   "execution_count": 52,
   "metadata": {},
   "outputs": [
    {
     "data": {
      "text/plain": [
       "'INFO'"
      ]
     },
     "execution_count": 52,
     "metadata": {},
     "output_type": "execute_result"
    }
   ],
   "source": [
    "r[0].split(\" \")[0]"
   ]
  },
  {
   "cell_type": "markdown",
   "metadata": {},
   "source": [
    "<details>\n",
    "    <summary>▶️ Řešení</summary>\n",
    "    \n",
    "    ```\n",
    "    def precti_logy(soubor: str) -> list:\n",
    "        with open(soubor) as txt_soubor:\n",
    "            return txt_soubor.readlines()\n",
    "\n",
    "    def vyber_pouze_typ(obsah_souboru: list) -> tuple:\n",
    "        return tuple(\n",
    "            [log.split()[0] for log in obsah_souboru if len(log) > 3]\n",
    "        )\n",
    "    ```\n",
    "</details>"
   ]
  },
  {
   "cell_type": "markdown",
   "metadata": {},
   "source": [
    "<br>\n",
    "\n",
    "<img src=\"https://external-content.duckduckgo.com/iu/?u=https%3A%2F%2Ftse1.mm.bing.net%2Fth%3Fid%3DOIP.LKBKt07b_VB9u7U7EaEBgQHaHa%26pid%3DApi&f=1\" width=\"200\" style=\"margin-left:auto; margin-right:auto\">\n",
    "\n",
    "## Tabulkové soubory\n",
    "\n",
    "---\n"
   ]
  },
  {
   "cell_type": "markdown",
   "metadata": {},
   "source": [
    "**CSV soubor** (*Comma Separated Values*) ukládá *tabulková data*, podobně jako například soubory **.xlsx** (*MS Excel* nebo *LibreOffice*), které pravděpodobně znáš.\n",
    "\n",
    "Rozdíl spočívá v tom, že soubor **CSV** je ukládá v **textové podobě**.\n",
    "\n",
    "**CSV soubor** je tedy mnohem univerzálnější, můžeš ho normálně otevřít v tabulkových procesorech (jako je například *MS Excel*), v textových editorech jako je *Notepad* nebo *Poznámkový blok* a navíc se s ním dobře pracuje v Pythonu.\n",
    "\n",
    "<br>"
   ]
  },
  {
   "cell_type": "markdown",
   "metadata": {},
   "source": [
    "Přesto, že v různých softwarových řešeních najdeš data úhledně graficky naformátovaná do:\n",
    "1.  **řádků** *(na obrázku 1, 2, 3)*,\n",
    "2.  **a sloupců** *(na obrázku A, B, C, D)*."
   ]
  },
  {
   "cell_type": "markdown",
   "metadata": {},
   "source": [
    "<a href=\"https://imgur.com/3zomtvk\"><img src=\"https://i.imgur.com/3zomtvk.png\" title=\"source: imgur.com\" width=\"600\" /></a>"
   ]
  },
  {
   "cell_type": "markdown",
   "metadata": {},
   "source": [
    ".., reprezentované hodnoty **v jednoduchém editoru** vypadají jinak:\n",
    "```\n",
    "jmeno;prijmeni;email;projekt\n",
    "Matous;Holinka;m.holinka@firma.cz;hr\n",
    "Petr;Svetr;p.svetr@firma.cz;devops\n",
    "```"
   ]
  },
  {
   "cell_type": "markdown",
   "metadata": {},
   "source": [
    "Aby měl takový **CSV** konzistentní vzhled a formát, potřebuje zadaný **dialekt**.\n",
    "\n",
    "<br>\n",
    "\n",
    "### Dialekt CSV souborů\n",
    "\n",
    "---\n",
    "Dialektem rozuměj nějaký **formátovací pravidla**, podle kterých je tvůj **CSV** soubor zadaný.\n",
    "\n",
    "**Dialekt** udává jakými znaky jsou:\n",
    "1. oddělované **jednotlivé buňky** (na obrázku výše středník `;`),\n",
    "2. oddělované **řádky** (na obrázku není vybraný žádný symbol).\n",
    "\n",
    "Další možnosti **upřesnění dialektu** jako výběr *escape znaků*, použití uvozovek, aj. můžeš najít <a href=\"https://docs.python.org/3/library/csv.html#dialects-and-formatting-parameters\" target=\"_blank\">zde</a>.\n",
    "\n",
    "<br>"
   ]
  },
  {
   "cell_type": "markdown",
   "metadata": {},
   "source": [
    "Ať už konkrétně typ souboru **.csv** nebo jeho příbuzní **.xls** nebo **.xlsx** aj., pracuje tento typ souboru výborně pro ukládání jednotlivých záznámů řádek po řádku.\n",
    "\n",
    "<br>"
   ]
  },
  {
   "cell_type": "markdown",
   "metadata": {},
   "source": [
    "Protože se u **CSV souborů** nejedná o nativní formát Pythonu, jako takový jej nemůžeš v Pythonu napsat.\n",
    "\n",
    "Opět platí, že pokud budeš chtít pracovat **s CSV soubory** v Pythonu, musíš *nahrát* k tomu určenou **built-in knihovnu**."
   ]
  },
  {
   "cell_type": "code",
   "execution_count": 53,
   "metadata": {},
   "outputs": [],
   "source": [
    "import csv  # nahrajeme knihovnu"
   ]
  },
  {
   "cell_type": "code",
   "execution_count": null,
   "metadata": {},
   "outputs": [],
   "source": [
    "# help(csv)   # nápověda knihovny"
   ]
  },
  {
   "cell_type": "code",
   "execution_count": null,
   "metadata": {},
   "outputs": [],
   "source": [
    "# dir(csv)    # objekty knihovny"
   ]
  },
  {
   "cell_type": "markdown",
   "metadata": {},
   "source": [
    "#### Vyzkoušíme si následující\n",
    "\n",
    "---\n",
    "\n",
    "| jméno objektu | účel metody |\n",
    "| :-| :- |\n",
    "| `csv.reader(m)` | funkce vrátí iterovatelný objekt (co cyklus, to řádek) |\n",
    "| `csv.writer(m)` | funkce zapíše objekt do souboru (+ `writerows`)|\n",
    "| `csv.DictWriter(m)` | třída pro zápis slovníku do souboru |\n",
    "| `csv.DictReader(m)` | třída pro čtení souboru do slovníku |\n",
    "\n",
    "<br>\n",
    "\n",
    "\n",
    "*pozn* `m` je objekt (proměnná)\n",
    "\n",
    "<br>\n",
    "\n",
    "Základní dva procesy, které budeme provádět jsou:\n",
    "1. __čtení__ souboru `csv`\n",
    "2. __zápis__ do souboru `csv`\n",
    "\n",
    "<br>"
   ]
  },
  {
   "cell_type": "markdown",
   "metadata": {},
   "source": [
    "### Vytvoříš soubor s příp. `.csv`"
   ]
  },
  {
   "cell_type": "code",
   "execution_count": 54,
   "metadata": {},
   "outputs": [],
   "source": [
    "import csv"
   ]
  },
  {
   "cell_type": "code",
   "execution_count": 55,
   "metadata": {},
   "outputs": [],
   "source": [
    "hlavicka = [\"jmeno\", \"prijmeni\", \"vek\"]\n",
    "osoba_1 = [\"Matous\", \"Holinka\", \"28\"]\n",
    "osoba_2 = [\"Petr\", \"Svetr\", \"27\"]"
   ]
  },
  {
   "cell_type": "code",
   "execution_count": 56,
   "metadata": {},
   "outputs": [],
   "source": [
    "zapis_csv = open(\n",
    "    \"../data/zamestnanci.csv\",\n",
    "    mode=\"w\",\n",
    "    newline=\"\"\n",
    ")"
   ]
  },
  {
   "cell_type": "code",
   "execution_count": 57,
   "metadata": {},
   "outputs": [
    {
     "name": "stdout",
     "output_type": "stream",
     "text": [
      "<_io.TextIOWrapper name='../data/zamestnanci.csv' mode='w' encoding='UTF-8'>\n"
     ]
    }
   ],
   "source": [
    "print(zapis_csv)"
   ]
  },
  {
   "cell_type": "code",
   "execution_count": null,
   "metadata": {},
   "outputs": [],
   "source": [
    "# help(csv.writer)"
   ]
  },
  {
   "cell_type": "code",
   "execution_count": 59,
   "metadata": {},
   "outputs": [],
   "source": [
    "zapisovac = csv.writer(zapis_csv, delimiter=\",\")"
   ]
  },
  {
   "cell_type": "code",
   "execution_count": 62,
   "metadata": {},
   "outputs": [
    {
     "data": {
      "text/plain": [
       "15"
      ]
     },
     "execution_count": 62,
     "metadata": {},
     "output_type": "execute_result"
    }
   ],
   "source": [
    "zapisovac.writerow(hlavicka)\n",
    "zapisovac.writerow(osoba_1)\n",
    "zapisovac.writerow(osoba_2)"
   ]
  },
  {
   "cell_type": "code",
   "execution_count": null,
   "metadata": {},
   "outputs": [],
   "source": [
    "#zapisovac.writerows((hlavicka, osoba_1, osoba_2))"
   ]
  },
  {
   "cell_type": "code",
   "execution_count": 63,
   "metadata": {},
   "outputs": [],
   "source": [
    "zapis_csv.close()"
   ]
  },
  {
   "cell_type": "markdown",
   "metadata": {},
   "source": [
    "### DictWriter"
   ]
  },
  {
   "cell_type": "code",
   "execution_count": 66,
   "metadata": {},
   "outputs": [],
   "source": [
    "osoba_1 = {\"jmeno\": \"Matous\", \"prijmeni\": \"Pokoj\", \"vek\": \"28\"}\n",
    "osoba_2 = {\"jmeno\": \"Petr\", \"prijmeni\": \"Svetr\", \"vek\": \"27\"}"
   ]
  },
  {
   "cell_type": "code",
   "execution_count": 64,
   "metadata": {},
   "outputs": [],
   "source": [
    "nove_csv = open(\n",
    "    \"../data/zamestnanci_nove.csv\",\n",
    "    mode=\"w\",\n",
    "    newline=\"\"\n",
    ")"
   ]
  },
  {
   "cell_type": "code",
   "execution_count": 67,
   "metadata": {},
   "outputs": [],
   "source": [
    "zapisovac = csv.DictWriter(\n",
    "    nove_csv,\n",
    "    fieldnames=osoba_1.keys()  # ['jmeno', 'prijmeni', 'vek']\n",
    ")"
   ]
  },
  {
   "cell_type": "code",
   "execution_count": 68,
   "metadata": {},
   "outputs": [
    {
     "data": {
      "text/plain": [
       "15"
      ]
     },
     "execution_count": 68,
     "metadata": {},
     "output_type": "execute_result"
    }
   ],
   "source": [
    "zapisovac.writeheader()\n",
    "zapisovac.writerow(osoba_1)\n",
    "zapisovac.writerow(osoba_2)"
   ]
  },
  {
   "cell_type": "code",
   "execution_count": null,
   "metadata": {},
   "outputs": [],
   "source": [
    "# zapisovac.writerows(#iterable)"
   ]
  },
  {
   "cell_type": "code",
   "execution_count": 69,
   "metadata": {},
   "outputs": [],
   "source": [
    "nove_csv.close()"
   ]
  },
  {
   "cell_type": "markdown",
   "metadata": {},
   "source": [
    "### Přečti obsah souboru `.csv`"
   ]
  },
  {
   "cell_type": "code",
   "execution_count": null,
   "metadata": {},
   "outputs": [],
   "source": [
    "import csv"
   ]
  },
  {
   "cell_type": "code",
   "execution_count": 70,
   "metadata": {},
   "outputs": [],
   "source": [
    "cteni_csv = open(\n",
    "    \"../data/zamestnanci.csv\",\n",
    "    mode='r',\n",
    "    encoding=\"utf-8\"\n",
    ")"
   ]
  },
  {
   "cell_type": "code",
   "execution_count": 71,
   "metadata": {},
   "outputs": [],
   "source": [
    "nacteny_obsah = csv.reader(cteni_csv)"
   ]
  },
  {
   "cell_type": "code",
   "execution_count": 72,
   "metadata": {},
   "outputs": [
    {
     "name": "stdout",
     "output_type": "stream",
     "text": [
      "<_csv.reader object at 0x7fc9c0c276d0>\n"
     ]
    }
   ],
   "source": [
    "print(nacteny_obsah)"
   ]
  },
  {
   "cell_type": "code",
   "execution_count": 73,
   "metadata": {},
   "outputs": [
    {
     "data": {
      "text/plain": [
       "(['jmeno', 'prijmeni', 'vek'],\n",
       " ['Matous', 'Holinka', '28'],\n",
       " ['Petr', 'Svetr', '27'])"
      ]
     },
     "execution_count": 73,
     "metadata": {},
     "output_type": "execute_result"
    }
   ],
   "source": [
    "tuple(nacteny_obsah)"
   ]
  },
  {
   "cell_type": "code",
   "execution_count": null,
   "metadata": {},
   "outputs": [],
   "source": [
    "for radek in nacteny_obsah:\n",
    "    print(radek)"
   ]
  },
  {
   "cell_type": "code",
   "execution_count": 74,
   "metadata": {},
   "outputs": [],
   "source": [
    "cteni_csv.close()"
   ]
  },
  {
   "cell_type": "markdown",
   "metadata": {},
   "source": [
    "### DictReader"
   ]
  },
  {
   "cell_type": "code",
   "execution_count": null,
   "metadata": {},
   "outputs": [],
   "source": [
    "import csv"
   ]
  },
  {
   "cell_type": "code",
   "execution_count": null,
   "metadata": {},
   "outputs": [],
   "source": [
    "moje_csv = open(\n",
    "    \"../data/lesson07/zamestnanci.csv\",\n",
    "    mode=\"r\",\n",
    "    encoding=\"utf-8\"\n",
    ")"
   ]
  },
  {
   "cell_type": "code",
   "execution_count": null,
   "metadata": {},
   "outputs": [],
   "source": [
    "obsah = csv.DictReader(moje_csv)"
   ]
  },
  {
   "cell_type": "code",
   "execution_count": null,
   "metadata": {},
   "outputs": [],
   "source": [
    "print(tuple(obsah))"
   ]
  },
  {
   "cell_type": "code",
   "execution_count": null,
   "metadata": {},
   "outputs": [],
   "source": [
    "moje_csv.close()"
   ]
  },
  {
   "cell_type": "markdown",
   "metadata": {},
   "source": [
    "<br>\n",
    "\n",
    "### 🧠 CVIČENÍ 2 🧠, práce s tabulkovým souborem:\n",
    "---"
   ]
  },
  {
   "cell_type": "markdown",
   "metadata": {},
   "source": [
    "- Definuj funkci `precti_csv`, která splňuje:\n",
    "    - parametr: `soubor` (string), `pocitadlo` (funkce),\n",
    "    - vrací: dict,\n",
    "    - popis: Tato funkce přečte obsah csv souboru. Dále zavolá další uživatelskou funkci, která vypočítá maximální denní obrat, pro každý den.\n",
    "\n",
    "- definuj funkci `napocitej_denni_prodeje`, která splňuje:\n",
    "    - parametr: `reader` (list),\n",
    "    - vrací: dict,\n",
    "    - popis: Tato funkce ze zadaného objektu `reader` přeskočí první záznam (záhlaví) a postupně načítá hodnoty prodeje po dni pro všechna poskytnutá data."
   ]
  },
  {
   "cell_type": "code",
   "execution_count": null,
   "metadata": {},
   "outputs": [],
   "source": [
    "datum,produkt,cena,množství\n",
    "2023-07-01,batoh,500,3\n",
    "2023-07-01,taška,300,5\n",
    "2023-07-02,batoh,500,7\n",
    "2023-07-02,penál,150,10\n",
    "2023-07-03,notýsek,50,20\n",
    "2023-07-03,pero,30,50\n",
    "2023-07-04,penál,150,8\n",
    "2023-07-04,taška,300,4\n",
    "2023-07-05,batoh,500,6\n",
    "2023-07-05,notýsek,50,30"
   ]
  },
  {
   "cell_type": "markdown",
   "metadata": {},
   "source": [
    "<details>\n",
    "    <summary>▶️ Řešení</summary>\n",
    "    \n",
    "    ```\n",
    "    import csv\n",
    "\n",
    "    def precti_csv(jmeno_souboru: str, pocitadlo: callable) -> csv.reader:\n",
    "        with open(jmeno_souboru, 'r') as f:\n",
    "            obrat = pocitadlo(csv.reader(f))\n",
    "            return obrat\n",
    "    \n",
    "    \n",
    "    def napocitej_denni_prodeje(reader: csv.reader):\n",
    "        obrat_na_den = dict()\n",
    "        \n",
    "        for index, radek in enumerate(reader):\n",
    "            if not index:\n",
    "                continue\n",
    "            datum, _, cena, mnozstvi = radek\n",
    "            obrat_na_den[datum] = int(obrat_na_den.get(datum, 0)) + (int(cena) * int(mnozstvi))\n",
    "    \n",
    "        else:\n",
    "            return obrat_na_den\n",
    "    ```\n",
    "</details>"
   ]
  },
  {
   "cell_type": "markdown",
   "metadata": {},
   "source": [
    "<br>\n",
    "\n",
    "<img src=\"https://external-content.duckduckgo.com/iu/?u=https%3A%2F%2Ftse4.mm.bing.net%2Fth%3Fid%3DOIP.knlvD9puLdhcleGXAbzgIwHaD4%26pid%3DApi&f=1\" width=\"400\" style=\"margin-left:auto; margin-right:auto\">\n",
    "\n",
    "## JSON soubory\n",
    "\n",
    "---\n"
   ]
  },
  {
   "cell_type": "markdown",
   "metadata": {},
   "source": [
    "Tento typ souboru možná ještě neznáš. Jedná se o příponu u souborů **.json**.\n",
    "\n",
    "Celé jméno souboru může vypadat třeba jako `uzivatele.json`.\n",
    "\n",
    "**JSON** si můžeš představit následovně:\n",
    "```python\n",
    "{\n",
    "    \"jmeno\": \"Chuck Norris\",\n",
    "    \"neuspech\": null,\n",
    "    \"kliky\": \"vsechny\",\n",
    "    \"konkurence\": false,\n",
    "}\n",
    "```"
   ]
  },
  {
   "cell_type": "markdown",
   "metadata": {},
   "source": [
    "Na první pohled můžeš říct, že se hodně podobá **Pythonovskému slovníku**.\n",
    "\n",
    "Nicméně má svoji vlastní charakteristickou **sadu pravidel** pro převod datových typů.\n",
    "\n",
    "Níže jsou uvedená některá pravidla, která se týkají ukázky výše (všechna pravidla najdeš [zde](https://docs.python.org/3/library/json.html#encoders-and-decoders)):\n",
    "\n",
    "\n",
    "| JSON | Python |\n",
    "| :-: | :-: |\n",
    "| string | str |\n",
    "| true | True |\n",
    "| false | False |\n",
    "| null | None |"
   ]
  },
  {
   "cell_type": "markdown",
   "metadata": {},
   "source": [
    "Účelem tohoto souboru je zejména **přenos dat** (*JavaScript Object Notation*).\n",
    "\n",
    "Jde o záměrně zjednodušený formát, který **není standardním datovým typem pro Python**."
   ]
  },
  {
   "cell_type": "markdown",
   "metadata": {},
   "source": [
    "Poměrně často se s ním setkáš u **webových aplikací** různých *eshopů*, které ti vykresují nabídku na základě informací získaných z databází."
   ]
  },
  {
   "cell_type": "markdown",
   "metadata": {},
   "source": [
    "Protože **JSON** není standardním datovým typem, jako takový jej nemůžeš v Pythonu použít.\n",
    "\n",
    "Pokud budeš chtít pracovat s JSON v Pythonu, musíš *nahrát* k tomu určenou **built-in knihovnu**."
   ]
  },
  {
   "cell_type": "markdown",
   "metadata": {},
   "source": [
    "V rámci <a href=\"https://docs.python.org/3/library/index.html\" target=\"_blank\">seznamu dokumentace Pythonu</a>  najdeš knihovnu `json`.\n",
    "\n",
    "Právě tato knihovna ti umožní pomocí *interpretu* Pythonu *vytvořit* nebo *načíst* JSON."
   ]
  },
  {
   "cell_type": "code",
   "execution_count": 75,
   "metadata": {},
   "outputs": [],
   "source": [
    "import json  # nahrátí knihovny"
   ]
  },
  {
   "cell_type": "code",
   "execution_count": null,
   "metadata": {},
   "outputs": [],
   "source": [
    "# help(json)   # nápověda"
   ]
  },
  {
   "cell_type": "code",
   "execution_count": null,
   "metadata": {},
   "outputs": [],
   "source": [
    "# dir(json)    # seznam všech metod"
   ]
  },
  {
   "cell_type": "code",
   "execution_count": null,
   "metadata": {},
   "outputs": [],
   "source": [
    "# tuple(       # bez magických metod\n",
    "#     object\n",
    "#     for object in dir(json)\n",
    "#     if not object.startswith(\"__\")\n",
    "# )"
   ]
  },
  {
   "cell_type": "markdown",
   "metadata": {},
   "source": [
    "<br>\n",
    "\n",
    "V rámci **základní manipulace** se zaměř hlavně na tyto funkce:\n",
    "\n",
    "| Funkce | Účel |\n",
    "| :- | :- |\n",
    "| `json.dump(m, n)` | zapíše objekt do souboru JSON |\n",
    "| `json.dumps(m)` | zapíše objekt do `str` |\n",
    "| `json.load(m)` | načte JSON data ze souboru |\n",
    "| `json.loads(m)` | načte JSON data ze `str` |\n",
    "\n",
    "Detail tabulky:\n",
    "- `m` představuje jméno objektu,\n",
    "- `n` představuje jméno souboru."
   ]
  },
  {
   "cell_type": "markdown",
   "metadata": {},
   "source": [
    "### Vytvoření souboru objektu a souboru `.json`\n",
    "\n",
    "Obecně se při práci se soubory typu `json` mluví o procesech *serialization* a *deserialization* (tedy čtení a zápis), ke kterým patří příslušné funkce uvedené výše v tabulce."
   ]
  },
  {
   "cell_type": "code",
   "execution_count": 76,
   "metadata": {},
   "outputs": [],
   "source": [
    "chuckuv_slovnik = {\n",
    "    \"jmeno\": \"Chuck Norris\",\n",
    "    \"neuspech\": None,\n",
    "    \"kliky\": \"vsechny\",\n",
    "    \"konkurence\": False,\n",
    "    \"doplneni\": \"Łukasz\",\n",
    "}"
   ]
  },
  {
   "cell_type": "code",
   "execution_count": 77,
   "metadata": {},
   "outputs": [
    {
     "name": "stdout",
     "output_type": "stream",
     "text": [
      "<class 'dict'>\n"
     ]
    }
   ],
   "source": [
    "print(type(chuckuv_slovnik))"
   ]
  },
  {
   "cell_type": "code",
   "execution_count": 78,
   "metadata": {},
   "outputs": [],
   "source": [
    "vypis_json = json.dumps(chuckuv_slovnik)  # výstup pouze jako str"
   ]
  },
  {
   "cell_type": "code",
   "execution_count": 79,
   "metadata": {},
   "outputs": [
    {
     "name": "stdout",
     "output_type": "stream",
     "text": [
      "{\"jmeno\": \"Chuck Norris\", \"neuspech\": null, \"kliky\": \"vsechny\", \"konkurence\": false, \"doplneni\": \"\\u0141ukasz\"}\n"
     ]
    }
   ],
   "source": [
    "print(vypis_json)"
   ]
  },
  {
   "cell_type": "markdown",
   "metadata": {},
   "source": [
    "Jakmile se podíváš na výstup, všimni si následujícího:\n",
    "1. `null`, klíč `neuspech` už neobsahuje `None`,\n",
    "2. `false`, klíč `konkurence` už neobsahuje `False`,\n",
    "3. `\"\\u0141ukasz\"`, klíč `fanousek` se nějak zkomolil.\n",
    "\n",
    "Důvodem pro výše **zdůrazněné změny** je právě změna *Python objektů* na *JSON objekty*.\n",
    "\n",
    "<br>\n",
    "\n",
    "V klíči `fanousek` dostaneš string `\"\\u0141ukasz\"`, jak je to možné?\n",
    "\n",
    "Defaultně totiž funkce `dump` všechny *non-ASCII* znaky (které nenajdeš v ASCII tabulce) převede na znaky doplněné **zpětným lomítkem** (tedy `Ł` na `\\u0141`)."
   ]
  },
  {
   "cell_type": "code",
   "execution_count": null,
   "metadata": {},
   "outputs": [],
   "source": [
    "print(vypis_json)"
   ]
  },
  {
   "cell_type": "code",
   "execution_count": null,
   "metadata": {},
   "outputs": [],
   "source": [
    "print(type(vypis_json))"
   ]
  },
  {
   "cell_type": "code",
   "execution_count": 80,
   "metadata": {},
   "outputs": [],
   "source": [
    "json_soubor = open(\n",
    "    \"../data/prvni_json.json\",\n",
    "    mode=\"w\",\n",
    "    encoding=\"utf-8\"\n",
    ")"
   ]
  },
  {
   "cell_type": "code",
   "execution_count": 81,
   "metadata": {},
   "outputs": [],
   "source": [
    "json.dump(chuckuv_slovnik, json_soubor)"
   ]
  },
  {
   "cell_type": "code",
   "execution_count": 82,
   "metadata": {},
   "outputs": [],
   "source": [
    "json_soubor.close()"
   ]
  },
  {
   "cell_type": "markdown",
   "metadata": {},
   "source": [
    "### Načti existující soubor `.json` nebo string\n"
   ]
  },
  {
   "cell_type": "code",
   "execution_count": 83,
   "metadata": {},
   "outputs": [],
   "source": [
    "existujici_json = open(\n",
    "    \"../data/prvni_json.json\",\n",
    "    mode=\"r\",\n",
    "    encoding=\"utf-8\"\n",
    ")"
   ]
  },
  {
   "cell_type": "code",
   "execution_count": null,
   "metadata": {},
   "outputs": [],
   "source": [
    "print(existujici_json)"
   ]
  },
  {
   "cell_type": "code",
   "execution_count": 84,
   "metadata": {},
   "outputs": [],
   "source": [
    "obsah_json = json.load(existujici_json)"
   ]
  },
  {
   "cell_type": "code",
   "execution_count": 85,
   "metadata": {},
   "outputs": [
    {
     "name": "stdout",
     "output_type": "stream",
     "text": [
      "{'jmeno': 'Chuck Norris', 'neuspech': None, 'kliky': 'vsechny', 'konkurence': False, 'doplneni': 'Łukasz'}\n"
     ]
    }
   ],
   "source": [
    "print(obsah_json)"
   ]
  },
  {
   "cell_type": "code",
   "execution_count": 86,
   "metadata": {},
   "outputs": [],
   "source": [
    "existujici_json.close()"
   ]
  },
  {
   "cell_type": "code",
   "execution_count": 87,
   "metadata": {},
   "outputs": [
    {
     "name": "stdout",
     "output_type": "stream",
     "text": [
      "<class 'dict'>\n"
     ]
    }
   ],
   "source": [
    "print(type(obsah_json))"
   ]
  },
  {
   "cell_type": "code",
   "execution_count": 90,
   "metadata": {},
   "outputs": [],
   "source": [
    "# json.dumps?"
   ]
  },
  {
   "cell_type": "code",
   "execution_count": 91,
   "metadata": {},
   "outputs": [],
   "source": [
    "string_json = json.dumps(obsah_json, indent=4, ensure_ascii=False)"
   ]
  },
  {
   "cell_type": "code",
   "execution_count": 92,
   "metadata": {},
   "outputs": [
    {
     "name": "stdout",
     "output_type": "stream",
     "text": [
      "<class 'str'>\n"
     ]
    }
   ],
   "source": [
    "print(type(string_json))"
   ]
  },
  {
   "cell_type": "code",
   "execution_count": 93,
   "metadata": {},
   "outputs": [
    {
     "name": "stdout",
     "output_type": "stream",
     "text": [
      "{\n",
      "    \"jmeno\": \"Chuck Norris\",\n",
      "    \"neuspech\": null,\n",
      "    \"kliky\": \"vsechny\",\n",
      "    \"konkurence\": false,\n",
      "    \"doplneni\": \"Łukasz\"\n",
      "}\n"
     ]
    }
   ],
   "source": [
    "print(string_json)"
   ]
  },
  {
   "cell_type": "code",
   "execution_count": null,
   "metadata": {},
   "outputs": [],
   "source": [
    "chuck_sl = {\n",
    "    \"jmeno\": \"Chuck Norris\",\n",
    "    \"neuspech\": \"null\",\n",
    "    \"kliky\": \"vsechny\",\n",
    "    \"konkurence\": \"false\",\n",
    "    \"doplneni\": \"\\u0141ukasz\"\n",
    "}"
   ]
  },
  {
   "cell_type": "markdown",
   "metadata": {},
   "source": [
    "##### Doplňující argumenty:\n",
    "1. `indent=4` - odsadí zapsaný `json` o 4 mezery\n",
    "2. `sort_keys` - seřadí klíče (`True`/`False`)\n",
    "3. `ensure_ascii` - `False` zapíše původní znak, `True` zapíše reprezentaci znaku pomocí lomítek."
   ]
  },
  {
   "cell_type": "code",
   "execution_count": null,
   "metadata": {},
   "outputs": [],
   "source": [
    "json_z_str = json.dumps(\n",
    "    chuck_sl,\n",
    "    ensure_ascii=False,\n",
    "    indent=4,\n",
    "    sort_keys=True\n",
    ")"
   ]
  },
  {
   "cell_type": "code",
   "execution_count": null,
   "metadata": {},
   "outputs": [],
   "source": [
    "print(json_z_str)"
   ]
  },
  {
   "cell_type": "markdown",
   "metadata": {},
   "source": [
    "### Zápis s kontextovým manažerem\n",
    "\n",
    "Nejenom *textové soubory*, ale i JSON můžeš zapsat pomocí **kontextového manažeru** a klíčového slova `with`:"
   ]
  },
  {
   "cell_type": "code",
   "execution_count": 94,
   "metadata": {},
   "outputs": [
    {
     "name": "stdout",
     "output_type": "stream",
     "text": [
      "['prvni radek,\\n', 'druhy radek,\\n', 'treti radek.']\n"
     ]
    }
   ],
   "source": [
    "muj_soubor = open(\"../data/demo.txt\", mode=\"r\")  # open\n",
    "print(muj_soubor.readlines())                    # processe\n",
    "muj_soubor.close()                               # close"
   ]
  },
  {
   "cell_type": "code",
   "execution_count": 94,
   "metadata": {},
   "outputs": [
    {
     "name": "stdout",
     "output_type": "stream",
     "text": [
      "['prvni radek,\\n', 'druhy radek,\\n', 'treti radek.']\n"
     ]
    }
   ],
   "source": [
    "with open(\"../data/demo.txt\", mode=\"r\") as muj_soubor:  # open\n",
    "    print(muj_soubor.readlines())                       # process + close\n",
    "print()"
   ]
  },
  {
   "cell_type": "code",
   "execution_count": null,
   "metadata": {},
   "outputs": [],
   "source": [
    "# bez knihovny nemůžeš pracovat s JSON objekty\n",
    "import json"
   ]
  },
  {
   "cell_type": "code",
   "execution_count": null,
   "metadata": {},
   "outputs": [],
   "source": [
    "chuckuv_slovnik = {\n",
    "    \"jmeno\": \"Chuck Norris\",\n",
    "    \"neuspech\": None,\n",
    "    \"kliky\": \"vsechny\",\n",
    "    \"konkurence\": False,\n",
    "    \"fanousek\": \"Łukasz\"\n",
    "}"
   ]
  },
  {
   "cell_type": "code",
   "execution_count": null,
   "metadata": {},
   "outputs": [],
   "source": [
    "with open(\"../onsite/lesson07/druhy_json.json\", mode=\"w\") as json_soubor:\n",
    "    json.dump(\n",
    "        chuckuv_slovnik,\n",
    "        json_soubor,\n",
    "        ensure_ascii=False,\n",
    "        indent=4,\n",
    "        sort_keys=True\n",
    "    )"
   ]
  },
  {
   "cell_type": "code",
   "execution_count": null,
   "metadata": {},
   "outputs": [],
   "source": [
    "json_soubor.closed"
   ]
  },
  {
   "cell_type": "markdown",
   "metadata": {},
   "source": [
    "<br>\n",
    "\n",
    "#### 🧠 CVIČENÍ 3 🧠, práce s JSON souborem:\n",
    "---"
   ]
  },
  {
   "cell_type": "markdown",
   "metadata": {},
   "source": [
    "- Definuj funkci `nacti_JSON_soubor`, která splňuje:\n",
    "    - parametr: `soubor` (string),\n",
    "    - vrací: list,\n",
    "    - popis: Tato funkce přečte obsah JSON souboru. Následně tento obsah vrací.\n",
    "\n",
    "- definuj funkci `ziskej_minimum`, která splňuje:\n",
    "    - parametr: `produkty` (list),\n",
    "    - vrací: tuple,\n",
    "    - popis: Tato funkce ze zadaného parametru najde produkt s nejmenší hodnotou množství. Vrací jak minimální hodnotu, tak produkt s minimální hodnotou."
   ]
  },
  {
   "cell_type": "code",
   "execution_count": null,
   "metadata": {},
   "outputs": [],
   "source": [
    "[\n",
    "    {\"název\": \"Produkt1\", \"cena\": 200, \"množství\": 10},\n",
    "    {\"název\": \"Produkt2\", \"cena\": 300, \"množství\": 15},\n",
    "    {\"název\": \"Produkt3\", \"cena\": 150, \"množství\": 20},\n",
    "    {\"název\": \"Produkt4\", \"cena\": 250, \"množství\": 5},\n",
    "    {\"název\": \"Produkt5\", \"cena\": 100, \"množství\": 30}\n",
    "]"
   ]
  },
  {
   "cell_type": "markdown",
   "metadata": {},
   "source": [
    "<details>\n",
    "    <summary>▶️ Řešení</summary>\n",
    "    \n",
    "    ```\n",
    "    import json\n",
    "\n",
    "\n",
    "    def nacti_JSON_soubor(soubor: str) -> dict:\n",
    "        with open(soubor, 'r') as f:\n",
    "            return json.load(f)\n",
    "    \n",
    "    \n",
    "    def ziskej_minimum(produkty: dict) -> tuple:\n",
    "        minimum = 100\n",
    "    \n",
    "        for produkt in produkty:\n",
    "            if produkt['množství'] < minimum:\n",
    "                minimum = produkt['množství']\n",
    "                min_detail = produkt\n",
    "\n",
    "        return minimum, min_detail\n",
    "    ```\n",
    "</details>"
   ]
  },
  {
   "cell_type": "markdown",
   "metadata": {},
   "source": [
    "\n",
    "<img src=\"https://external-content.duckduckgo.com/iu/?u=https%3A%2F%2Ftse1.mm.bing.net%2Fth%3Fid%3DOIP.GMJvJ-GG0YS8H5JmHR3CbwHaHm%26pid%3DApi&f=1\" width=\"200\" style=\"margin-left:auto; margin-right:auto\" />\n",
    "\n",
    "\n",
    "## Domácí úkol\n",
    "\n",
    "---"
   ]
  },
  {
   "cell_type": "markdown",
   "metadata": {},
   "source": [
    "Napiš *skript*, který:\n",
    "\n",
    "1. Načte soubor typu `JSON`,\n",
    "2. rozdělí obsah **podle klíčů**,\n",
    "3. zapíšeš rozdělená data do sloupečků **v CSV souboru**.\n",
    "\n",
    "Vstupní **JSON** soubor:\n",
    "    "
   ]
  },
  {
   "cell_type": "markdown",
   "metadata": {},
   "source": [
    "```\n",
    "    {\n",
    "        \"id\": 1,\n",
    "        \"first_name\": \"Dorri\",\n",
    "        \"last_name\": \"Di Bernardo\",\n",
    "        \"email\": \"ddibernardo0@nba.com\",\n",
    "        \"gender\": \"Female\",\n",
    "        \"ip_address\": \"158.223.131.8\"\n",
    "    },\n",
    "    {\n",
    "        \"id\": 2,\n",
    "        \"first_name\": \"Nisse\",\n",
    "        \"last_name\": \"Noye\",\n",
    "        \"email\": \"nnoye1@theatlantic.com\",\n",
    "        \"gender\": \"Female\",\n",
    "        \"ip_address\": \"252.57.218.72\"\n",
    "    },\n",
    "    ...\n",
    "```"
   ]
  },
  {
   "cell_type": "markdown",
   "metadata": {},
   "source": [
    "Výstupní **CSV**:\n",
    "```\n",
    "[\"id\", \"first_name\", \"last_name\", \"email\", \"gender\", \"ip_address\"],\n",
    "[\"1\", \"Dorri\", \"Di Bernardo\", \"ddibernardo0@nba.com\", \"Female\", \"158.223.131.8\"],\n",
    "[\"2\", \"Nisse\", \"Noye\", \"nnoye1@theatlantic.com\", \"Female\", \"252.57.218.72\"],\n",
    "...\n",
    "```"
   ]
  },
  {
   "cell_type": "markdown",
   "metadata": {},
   "source": [
    "---"
   ]
  }
 ],
 "metadata": {
  "kernelspec": {
   "display_name": "Python 3 (ipykernel)",
   "language": "python",
   "name": "python3"
  },
  "language_info": {
   "codemirror_mode": {
    "name": "ipython",
    "version": 3
   },
   "file_extension": ".py",
   "mimetype": "text/x-python",
   "name": "python",
   "nbconvert_exporter": "python",
   "pygments_lexer": "ipython3",
   "version": "3.8.10"
  }
 },
 "nbformat": 4,
 "nbformat_minor": 4
}
