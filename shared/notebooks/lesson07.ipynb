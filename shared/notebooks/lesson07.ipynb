{
 "cells": [
  {
   "cell_type": "markdown",
   "metadata": {},
   "source": [
    "# Python akademie, pokročilí"
   ]
  },
  {
   "cell_type": "markdown",
   "metadata": {},
   "source": [
    "<br>\n",
    "\n",
    "## Obsah\n",
    "\n",
    "---\n",
    "\n",
    "1. [Prezentace](https://docs.google.com/presentation/d/1qjP9jFeUioAePlyRv9c7spgyQhSh7-KPJvF4HDvwG2M)\n",
    "1. [Úvod do IO]()\n",
    "2. [Textové soubory]()\n",
    "    - [Úvod k souborům]()\n",
    "    - [Čtení souborů]()\n",
    "    - [Zápis do souborů]()\n",
    "    - [Opakovaný zápis do souboru]()\n",
    "3. [Tabulkové soubory]()\n",
    "    - [Dialekt CSV souborů]()\n",
    "    - [Vytvoříš soubor s příp. `.csv`]()\n",
    "    - [DictWriter]()\n",
    "    - [Přečti obsah souboru `.csv`]()\n",
    "    - [DictReader]()\n",
    "4. [JSON soubory]()\n",
    "    - [Vytvoření souboru objektu a souboru `.json`]()\n",
    "    - [Načti existující soubor `.json` nebo string]()\n",
    "    - [Zápis s kontextovým manažerem]()\n",
    "5. [Domácí úkol]()"
   ]
  },
  {
   "cell_type": "markdown",
   "metadata": {},
   "source": [
    "<br>\n",
    "\n",
    "### 🧠 CVIČENÍ 0 🧠, Opakování:\n",
    "---"
   ]
  },
  {
   "cell_type": "markdown",
   "metadata": {},
   "source": [
    "- Definuj funkci `rozdel_text`, která splňuje:\n",
    "    - parametr: `vzorek` (string),\n",
    "    - vrací: seznam slov,\n",
    "    - popis: Tato funkce rozdělí textový řetězec na slova a vrátí seznam slov. Pokud vstupní argument není řetězec, vyvolá výjimku.\n",
    "\n",
    "- definuj funkci `analyzuj_text`, která splňuje:\n",
    "    - parametr: `slova` (list),\n",
    "    - vrací: slovník s klíči `'Počet slov'`, `'Nejběžnějších 5'` a `'Průměrná délka'`,\n",
    "    - popis: Tato funkce analyzuje seznam slov a vrací statistiky ve formě slovníku.\n",
    "\n",
    "- definuj funkci `vypis_statistiky`, která splňuje:\n",
    "    - parametr: `statistiky` (dict),\n",
    "    - vrací: nic,\n",
    "    - popis: Tato funkce vypíše statistiky ve formátované podobě."
   ]
  },
  {
   "cell_type": "code",
   "execution_count": 32,
   "metadata": {},
   "outputs": [],
   "source": [
    "sample = \"\"\"\\\n",
    "Je totiž tak lesklá, že za světla se v ní odráží nebe a za tmy zase není vidět vůbec.\n",
    "Když svítí slunce tak silně jako nyní, tak se stuha třpytí jako kapka rosy a jen\n",
    "málokdo vydrží dívat se na ni přímo déle než pár chvil. Jak vlastně vypadají ony\n",
    "balónky?. Ptají se často lidé. Inu jak by vypadaly - jako běžné pouťové balónky\n",
    "střední velikosti, tak akorát nafouknuté. Červený se vedle modrého a zeleného zdá\n",
    "trochu menší, ale to je nejspíš jen optický klam, a i kdyby byl skutečně o něco málo\n",
    "menší, tak vážně jen o trošičku. Vítr skoro nefouká a tak by se na první pohled mohlo\n",
    "zdát, že se balónky snad vůbec nepohybují. Jenom tak klidně levitují ve vzduchu.\n",
    "Jelikož slunce jasně září a na obloze byste od východu k západu hledali mráček marně,\n",
    "balónky působí jako jakási fata morgána uprostřed pouště. Zkrátka široko daleko nikde\n",
    "nic, jen zelenkavá tráva, jasně modrá obloha a tři křiklavě barevné pouťové balónky,\n",
    "které se téměř nepozorovatelně pohupují ani ne moc vysoko, ani moc nízko nad zemí.\n",
    "Kdyby pod balónky nebyla sytě zelenkavá tráva, ale třeba suchá silnice či beton,\n",
    "možná by bylo vidět jejich barevné stíny - to jak přes poloprůsvitné barevné balónky\n",
    "prochází ostré sluneční paprsky. Jenže kvůli všudy přítomné trávě jsou stíny balónků\n",
    "sotva vidět, natož aby šlo rozeznat, jakou barvu tyto stíny mají. Uvidět tak balónky\n",
    "náhodný kolemjdoucí, jistě by si pomyslel, že už tu takhle poletují snad tisíc let.\n",
    "Stále si víceméně drží výšku a ani do stran se příliš nepohybují. Proti slunci to\n",
    "vypadá, že se slunce pohybuje k západu rychleji než balónky, a možná to tak skutečně\n",
    "je. Nejeden filozof by mohl tvrdit, že balónky se sluncem závodí, ale fyzikové by to\n",
    "jistě vyvrátili. Z fyzikálního pohledu totiž balónky působí zcela nezajímavě. Nejvíc\n",
    "bezpochyby zaujmou děti - jedna malá holčička zrovna včera div nebrečela, že by snad\n",
    "balónky mohly prasknout. A co teprve ta stuha. Stuha, kterou je každý z trojice balónků\n",
    "uvázán, aby se nevypustil. Očividně je uvázaná dostatečně pevně, protože balónky skutečně\n",
    "neucházejí. To ale není nic zvláštního. Překvapit by však mohl fakt, že nikdo, snad krom\n",
    "toho, kdo balónky k obloze vypustil, netuší, jakou má ona stuha barvu. Je totiž tak\n",
    "lesklá, že za světla se v ní odráží nebe a za tmy zase není vidět vůbec. Když svítí\n",
    "slunce tak silně jako nyní, tak se stuha třpytí jako kapka rosy a jen málokdo vydrží\n",
    "dívat se na ni přímo déle než pár chvil. Jak vlastně vypadají ony balónky?. Ptají se\n",
    "často lidé. Inu jak by vypadaly - jako běžné pouťové balónky střední velikosti, tak akorát\n",
    "nafouknuté. Červený se vedle modrého a zeleného zdá trochu menší, ale to je nejspíš jen\n",
    "optický klam, a i kdyby byl skutečně o něco málo menší, tak vážně jen o trošičku. Vítr\n",
    "skoro nefouká a tak by se na první pohled mohlo zdát, že se balónky snad vůbec nepohybují.\n",
    "\"\"\""
   ]
  },
  {
   "cell_type": "code",
   "execution_count": 33,
   "metadata": {},
   "outputs": [],
   "source": [
    "def test_rozdeli_fce_text_spravne():\n",
    "    testovaci_vzorek_1 = \"foo bar\"\n",
    "    assert rozdel_text(testovaci_vzorek_1) == ['foo', 'bar']\n",
    "\n",
    "\n",
    "def test_probehne_spravne_analyza_slov():\n",
    "    testovaci_vzorek_2 = [\"se\", \"ani\", \"onak\"]\n",
    "    assert analyzuj_text(testovaci_vzorek_2) == {\n",
    "        'Počet slov': 3,\n",
    "        'Nejběžnějších 5': [('se', 1), ('ani', 1), ('onak', 1)],\n",
    "        'Průměrná délka': 3\n",
    "    }\n",
    "        \n",
    "\n",
    "test_rozdeli_fce_text_spravne()\n",
    "test_probehne_spravne_analyza_slov()"
   ]
  },
  {
   "cell_type": "markdown",
   "metadata": {},
   "source": [
    "<details>\n",
    "    <summary>▶️ Řešení</summary>\n",
    "    \n",
    "    ```\n",
    "    from collections import Counter\n",
    "\n",
    "    def rozdel_text(vzorek: str) -> list:\n",
    "        if isinstance(vzorek, str):\n",
    "            return vzorek.split()\n",
    "        else:\n",
    "            raise Exception(f\"Argument 'vzorek' není string!\")\n",
    "    \n",
    "    \n",
    "    def analyzuj_text(slova: list) -> tuple:\n",
    "        rozbor = Counter(slova)\n",
    "        pocet_slov = len(slova)\n",
    "        nejbeznejsich_pet = rozbor.most_common(5)\n",
    "        prumerna_delka = sum(len(slova) for slovo in slova) / len(slova)\n",
    "        return {\n",
    "            'Počet slov': pocet_slov,\n",
    "            'Nejběžnějších 5': nejbeznejsich_pet,\n",
    "            'Průměrná délka': prumerna_delka\n",
    "        }\n",
    "    \n",
    "    \n",
    "    def vypis_statistiky(statistiky: dict) -> None:\n",
    "        pocet_slov, nejbeznejsi_slovo, prumerna_delka = statistiky\n",
    "        for klic, hodnota in statistiky.items():\n",
    "            print(f\"{klic}\\t --> {hodnota}\")\n",
    "    ```\n",
    "</details>"
   ]
  },
  {
   "cell_type": "markdown",
   "metadata": {},
   "source": [
    "<br>\n",
    "\n",
    "<img src=\"https://external-content.duckduckgo.com/iu/?u=https%3A%2F%2Ftse4.mm.bing.net%2Fth%3Fid%3DOIP.BPYuvKj05Xo_oF_oXiL1yAHaHa%26pid%3DApi&f=1\" width=\"250\" style=\"margin-left:auto; margin-right:auto\">\n",
    "\n",
    "\n",
    "## Úvod do IO\n",
    "\n",
    "---\n",
    "\n",
    "Nyní pracuješ pouze s objekty **Pythonu vlastními** nebo **s jeho knihovnami**.\n",
    "\n",
    "Všechny tyto *objekty* jsi vytvoříš a zpracováváš **v rámci paměti RAM** (*random access memory*).\n",
    "\n",
    "<br>\n",
    "\n",
    "*Paměť RAM* je **velmi rychlá**, ale současně náročná a vyžaduje **neustálý zdroj** (není elektřina, ztratíš data).\n",
    "\n",
    "Takový **disk počítače** je o dost **pomalejší** než paměť *RAM*, ale umožňuje ti uchovávat tebou získaná, zpracovaná data.\n",
    "\n",
    "<br>\n",
    "\n",
    "Proto je dobré osvojit si pravidla a postupy v Pythonu, jak vytvořit **persistentní data**.\n",
    "\n",
    "<br>"
   ]
  },
  {
   "cell_type": "markdown",
   "metadata": {},
   "source": [
    "### File Input/Output (~vstupní soubor, výstupní soubor)\n",
    "\n",
    "---\n",
    "\n",
    "Klasickou cestou, jak vytvořit obyčejný soubor je poskládat údaje (bajty) za hlavičkou, tedy **jménem souboru**.\n",
    "\n",
    "<br>\n",
    "\n",
    "Než ale začneš se souborem pracovat, potřebuješ si v Pythonu vytvořit *pomocný objekt*, který jej bude **zastupovat** (nebo se na něj odkazovat):"
   ]
  },
  {
   "cell_type": "markdown",
   "metadata": {},
   "source": [
    "```python\n",
    "muj_soubor = open(jmeno_souboru, pravidla)  # pomocný objekt\n",
    "\n",
    "# ... libovolná ohlášení\n",
    "\n",
    "muj_soubor.close()\n",
    "```"
   ]
  },
  {
   "cell_type": "markdown",
   "metadata": {},
   "source": [
    "1. `muj_soubor`, je **Pythonovský objekt** odkazující na **soubor**,\n",
    "2. `open()`, *zabudovaná funkce*, která **vytváří spojení** (*stream*) mezi objektem a souborem,\n",
    "3. `jmeno_souboru`, jméno souboru (*relativní* cesta/*absolutní* cesta),\n",
    "4. `pravidla`, výběr argumentů upřesňujících, **jak soubor otevřít**,\n",
    "5. `muj_soubor.close`, způsob, kterým **ukončíš spojení** mezi objektem a souborem."
   ]
  },
  {
   "cell_type": "markdown",
   "metadata": {},
   "source": [
    "<br>\n",
    "\n",
    "<img src=\"https://external-content.duckduckgo.com/iu/?u=https%3A%2F%2Ftse2.mm.bing.net%2Fth%3Fid%3DOIP.JhMJc09m94e9V3oKtb_n3AHaHa%26pid%3DApi&f=1\" width=\"200\" style=\"margin-left:auto; margin-right:auto\">\n",
    "\n",
    "## Textové soubory\n",
    "\n",
    "---\n",
    "\n",
    "Nejlepším souborem na začátek bude prostý **textový soubor**.\n",
    "\n",
    "Textovým souborem rozuměj jakýkoliv soubor, který má příponu `.txt`.\n",
    "\n",
    "#### Demo: Ukázka textového souboru"
   ]
  },
  {
   "cell_type": "markdown",
   "metadata": {},
   "source": [
    "<br>\n",
    "\n",
    "### Úvod k souborům\n",
    "\n",
    "---\n",
    "\n",
    "Základními procesy pro práci se soubory obecně jsou:\n",
    "1. **Čtení** souborů,\n",
    "2. **Zápis** do souborů."
   ]
  },
  {
   "cell_type": "markdown",
   "metadata": {},
   "source": [
    "### Čtení souborů\n",
    "\n",
    "---\n",
    "\n",
    "Otevřít a přečíst *textový soubor* pomocí *editorů* jistě ovládáš.\n",
    "\n",
    "Teď se podívej, jak můžeš naučit otevírání a čtení souborů také **interpreta Pythonu**:"
   ]
  },
  {
   "cell_type": "code",
   "execution_count": null,
   "metadata": {},
   "outputs": [],
   "source": [
    "# help(open)"
   ]
  },
  {
   "cell_type": "code",
   "execution_count": null,
   "metadata": {},
   "outputs": [],
   "source": [
    "muj_txt_soubor = open(muj_textovy_soubor.txt)"
   ]
  },
  {
   "cell_type": "markdown",
   "metadata": {},
   "source": [
    "<br>\n",
    "\n",
    "Dávej pozor, jakým způsobem **jméno souboru** používáš. Python potřebuje pracovat s takovým datovým typem, který dobře zná."
   ]
  },
  {
   "cell_type": "code",
   "execution_count": null,
   "metadata": {},
   "outputs": [],
   "source": [
    "muj_txt_soubor = open(\"muj_textovy_soubor.txt\")"
   ]
  },
  {
   "cell_type": "code",
   "execution_count": 1,
   "metadata": {},
   "outputs": [
    {
     "name": "stdout",
     "output_type": "stream",
     "text": [
      "ls: cannot access '../data/': No such file or directory\n"
     ]
    }
   ],
   "source": [
    "!ls -l ../data/"
   ]
  },
  {
   "cell_type": "markdown",
   "metadata": {},
   "source": [
    "Další kolizí může být **umístění** souboru.\n",
    "\n",
    "<br>\n",
    "\n",
    "*Interpret* pracuje v aktuálním umístění. Takže buď soubor přesuneš, nebo na něj odkážeš pomocí:\n",
    "1. **Relativní cesty** (tedy vzhledem k aktuálnímu umístění),\n",
    "2. **absolutní cesty** (celá cesta od *roota* nebo *jména disku*)."
   ]
  },
  {
   "cell_type": "markdown",
   "metadata": {},
   "source": [
    "#### Relativní cesta\n",
    "```\n",
    "\"muj_textovy_soubor.txt\"                # v aktuální složce\n",
    "\"../muj_textovy_soubor.txt\"             # v rodičovské složce\n",
    "\"shared/onsite/muj_textovy_soubor.txt\"  # v dceřinné složce 'shared', v dceřinné složce 'onsite'\n",
    "```\n",
    "\n",
    "#### Absolutní cesta, Windows\n",
    "```\n",
    "\"C:\\users\\admin\\docs\\muj_textovy_soubor.txt\"\n",
    "```\n",
    "\n",
    "#### Absolutní cesta, unix\n",
    "```\n",
    "\"/home/user/project/shared/onsite/muj_textovy_soubor.txt\"\n",
    "```"
   ]
  },
  {
   "cell_type": "code",
   "execution_count": null,
   "metadata": {},
   "outputs": [],
   "source": [
    "muj_txt_soubor = open(\"../onsite/lesson07/muj_textovy_soubor.txt\")"
   ]
  },
  {
   "cell_type": "code",
   "execution_count": null,
   "metadata": {},
   "outputs": [],
   "source": [
    "print(muj_txt_soubor)"
   ]
  },
  {
   "cell_type": "code",
   "execution_count": null,
   "metadata": {},
   "outputs": [],
   "source": [
    "print(type(muj_txt_soubor))"
   ]
  },
  {
   "cell_type": "markdown",
   "metadata": {},
   "source": [
    "Metody **pro čtění obsahu** *TextIOWrapper* objektu:\n",
    "\n",
    "1. `read` - přečte celý soubor jako jeden string\n",
    "2. `readline` - přečte pouze první řádek jako string\n",
    "3. `readlines` - přečte celý soubor jako list (co řádek, to údaj)\n",
    "\n",
    "<br>"
   ]
  },
  {
   "cell_type": "code",
   "execution_count": null,
   "metadata": {},
   "outputs": [],
   "source": [
    "obsah_txt = muj_txt_soubor.readlines()"
   ]
  },
  {
   "cell_type": "markdown",
   "metadata": {},
   "source": [
    "Jakmile tvoje práce s textovými souborem skončí, nezapomeň soubor zavřít."
   ]
  },
  {
   "cell_type": "code",
   "execution_count": null,
   "metadata": {},
   "outputs": [],
   "source": [
    "print(obsah_txt)"
   ]
  },
  {
   "cell_type": "code",
   "execution_count": null,
   "metadata": {},
   "outputs": [],
   "source": [
    "print(obsah_txt)"
   ]
  },
  {
   "cell_type": "code",
   "execution_count": null,
   "metadata": {},
   "outputs": [],
   "source": [
    "obsah_txt_2 = muj_txt_soubor.readlines()"
   ]
  },
  {
   "cell_type": "code",
   "execution_count": null,
   "metadata": {},
   "outputs": [],
   "source": [
    "print(obsah_txt_2)"
   ]
  },
  {
   "cell_type": "code",
   "execution_count": null,
   "metadata": {},
   "outputs": [],
   "source": [
    "muj_txt_soubor.seek(0)  # dobre vedet!"
   ]
  },
  {
   "cell_type": "code",
   "execution_count": null,
   "metadata": {},
   "outputs": [],
   "source": [
    "obsah_txt_2 = muj_txt_soubor.read()"
   ]
  },
  {
   "cell_type": "code",
   "execution_count": null,
   "metadata": {},
   "outputs": [],
   "source": [
    "print(obsah_txt_2)"
   ]
  },
  {
   "cell_type": "code",
   "execution_count": null,
   "metadata": {},
   "outputs": [],
   "source": [
    "muj_txt_soubor.close()"
   ]
  },
  {
   "cell_type": "markdown",
   "metadata": {},
   "source": [
    "<br>\n",
    "\n",
    "### Zápis do souborů\n",
    "\n",
    "---\n",
    "\n",
    "Pokud všem žádný textový soubor nemáš, nebo jej chceš naopak **vytvořit**, musíš jej prvně **zapsat**:"
   ]
  },
  {
   "cell_type": "code",
   "execution_count": null,
   "metadata": {},
   "outputs": [],
   "source": [
    "muj_txt = \"Toto je můj nový soubor^.^\""
   ]
  },
  {
   "cell_type": "markdown",
   "metadata": {},
   "source": [
    "*String* `muj_txt` máš aktuálně k dispozici pouze jako nějaký objekt Pythonu.\n",
    "\n",
    "Opět je potřeba nejprve spojit **objekt v Pythonu** se skutečným souborem na disku."
   ]
  },
  {
   "cell_type": "code",
   "execution_count": null,
   "metadata": {},
   "outputs": [],
   "source": [
    "muj_soubor = open(\"../onsite/lesson07/muj_textovy_soubor.txt\")  # jméno souboru jako \"str\""
   ]
  },
  {
   "cell_type": "code",
   "execution_count": null,
   "metadata": {},
   "outputs": [],
   "source": [
    "muj_soubor.write(muj_txt)"
   ]
  },
  {
   "cell_type": "code",
   "execution_count": null,
   "metadata": {},
   "outputs": [],
   "source": [
    "muj_soubor.close()"
   ]
  },
  {
   "cell_type": "code",
   "execution_count": null,
   "metadata": {},
   "outputs": [],
   "source": [
    "# help(open)"
   ]
  },
  {
   "cell_type": "code",
   "execution_count": null,
   "metadata": {},
   "outputs": [],
   "source": [
    "muj_soubor = open(\"../onsite/lesson07/muj_textovy_soubor.txt\", mode=\"w\")  # vybrat vhodný režim"
   ]
  },
  {
   "cell_type": "code",
   "execution_count": null,
   "metadata": {},
   "outputs": [],
   "source": [
    "muj_soubor.write(muj_txt)"
   ]
  },
  {
   "cell_type": "code",
   "execution_count": null,
   "metadata": {},
   "outputs": [],
   "source": [
    "muj_soubor.closed"
   ]
  },
  {
   "cell_type": "code",
   "execution_count": null,
   "metadata": {},
   "outputs": [],
   "source": [
    "muj_soubor.close()"
   ]
  },
  {
   "cell_type": "markdown",
   "metadata": {},
   "source": [
    "Soubor si následně můžeš otevřít, ale zjistíš, že je **v tento moment prázdný**.\n",
    "\n",
    "Funkce `open` pouze vytvoří (*~iniciuje*) nový objekt `muj_novy_soubor`.\n",
    "\n",
    "Příslušný text teprve musíme zapsat, pomocí vhodné *funkce* `write`:"
   ]
  },
  {
   "cell_type": "code",
   "execution_count": null,
   "metadata": {},
   "outputs": [],
   "source": [
    "muj_soubor = open(\"muj_novy_soubor.txt\", mode=\"w\")  # vybrat vhodný režim"
   ]
  },
  {
   "cell_type": "code",
   "execution_count": null,
   "metadata": {},
   "outputs": [],
   "source": [
    "help(muj_soubor.write)"
   ]
  },
  {
   "cell_type": "code",
   "execution_count": null,
   "metadata": {},
   "outputs": [],
   "source": [
    "muj_soubor.write(obsah_souboru)"
   ]
  },
  {
   "cell_type": "markdown",
   "metadata": {},
   "source": [
    "Pokud si budeš chtít nyní prohlédnout **zapsaný soubor na disku**, zjistíš, že je stále prázdný.\n",
    "\n",
    "Protože *stále není ukončený*, nedovedeš s ním nijak manipulovat.\n",
    "\n",
    "Pokud zjistíš, že není ukončený, ukončíš jej pomocí metody `close`."
   ]
  },
  {
   "cell_type": "code",
   "execution_count": null,
   "metadata": {},
   "outputs": [],
   "source": [
    "muj_soubor.close()"
   ]
  },
  {
   "cell_type": "markdown",
   "metadata": {},
   "source": [
    "Teprve po ukončení *streamu* (nebo také zápisu) objektu, můžeš soubor `muj_novy_soubor.txt` prozkoumat."
   ]
  },
  {
   "cell_type": "markdown",
   "metadata": {},
   "source": [
    "### Opakovaný zápis do souboru\n",
    "\n",
    "---\n",
    "\n",
    "Máš situaci, kdy tebou vytvořený soubor existuje a ty jej chceš znovu otevřít a rozšířit:"
   ]
  },
  {
   "cell_type": "code",
   "execution_count": null,
   "metadata": {},
   "outputs": [],
   "source": [
    "dalsi_text = \"\\nRád čtu a hraji na klavír\""
   ]
  },
  {
   "cell_type": "markdown",
   "metadata": {},
   "source": [
    "Opět potřebuješ inicializovat **pomocný objekt**, jako v předchozích scénářích:"
   ]
  },
  {
   "cell_type": "code",
   "execution_count": null,
   "metadata": {},
   "outputs": [],
   "source": [
    "muj_soubor = open(\"../onsite/lesson07/muj_textovy_soubor.txt\", mode=\"a\")\n",
    "muj_soubor.write(f\"\\n{dalsi_text}\")\n",
    "muj_soubor.close()"
   ]
  },
  {
   "cell_type": "code",
   "execution_count": null,
   "metadata": {},
   "outputs": [],
   "source": [
    "help(muj_soubor.writelines)"
   ]
  },
  {
   "cell_type": "markdown",
   "metadata": {},
   "source": [
    "Když zkontroluješ, jak vypadá **nově přidaný text**, bude vypadat zmateně.\n",
    "\n",
    "<br>\n",
    "\n",
    "Pokud opětovně načteš **stejný soubor** v režimu `w`, přesuneš \"zapisovač\" (*představ si jej jako blikající kurzor v editoru*) opět **na začátek souboru**.\n",
    "\n",
    "*Interpret* zapisuje od místa, kde se zapisovač nachází, takže dojde **k přepsání původního obsahu**.\n",
    "\n",
    "<br>\n",
    "\n",
    "Pokud chceš automaticky zapisovat **od konce souboru**, otevři soubor s argumentem `mode=\"a\"`, tedy v režimu `append`."
   ]
  },
  {
   "cell_type": "code",
   "execution_count": null,
   "metadata": {},
   "outputs": [],
   "source": [
    "dalsi_txt = (\"Ahoj, ja jsem Matous (:\\n\", \"Rad ctu, hraji na klavir\\n\")"
   ]
  },
  {
   "cell_type": "code",
   "execution_count": null,
   "metadata": {},
   "outputs": [],
   "source": [
    "muj_soubor = open(\"../onsite/lesson07/muj_textovy_soubor.txt\", mode=\"a\")\n",
    "muj_soubor.writelines(dalsi_txt)\n",
    "muj_soubor.close()"
   ]
  },
  {
   "cell_type": "markdown",
   "metadata": {},
   "source": [
    "Pokud budeš někdy pracovat se stejným souborem tak, že jej budeš současně:\n",
    "1. **číst** soubor,\n",
    "2. **zapisovat** do něj.\n",
    "    \n",
    "Vyzkoušej režim `r+`."
   ]
  },
  {
   "cell_type": "code",
   "execution_count": null,
   "metadata": {},
   "outputs": [],
   "source": []
  },
  {
   "cell_type": "markdown",
   "metadata": {},
   "source": [
    "<br>\n",
    "\n",
    "### 🧠 CVIČENÍ 1 🧠, práce s textovými souborem:\n",
    "---"
   ]
  },
  {
   "cell_type": "markdown",
   "metadata": {},
   "source": [
    "- Definuj funkci `precti_logy`, která splňuje:\n",
    "    - parametr: `soubor` (string),\n",
    "    - vrací: seznam záznamů z logovacího souboru,\n",
    "    - popis: Tato funkce přečte obsah logovacích souboru. Kde každý řádek bude oddělený údaj sekvence.\n",
    "\n",
    "- definuj funkci `vyber_pouze_typ`, která splňuje:\n",
    "    - parametr: `obsah_souboru` (list),\n",
    "    - vrací: tuple,\n",
    "    - popis: Tato funkce ze zadaného seznamu logů rozdělí každý řádek a uloží pouze typ logovací zprávy (`INFO`, `WARN`, ...). Výsledný údaj vrať jako `tuple`."
   ]
  },
  {
   "cell_type": "code",
   "execution_count": null,
   "metadata": {},
   "outputs": [],
   "source": [
    "INFO 2023-07-26 10:30:22 Aplikace úspěšně spuštěna\n",
    "INFO 2023-07-26 10:31:12 Uživatel přihlášen\n",
    "WARN 2023-07-26 10:35:05 Nedostatek místa na disku\n",
    "INFO 2023-07-26 10:36:17 Data úspěšně uložena\n",
    "ERROR 2023-07-26 10:40:44 Připojení k databázi selhalo\n",
    "WARN 2023-07-26 10:45:30 Možná chyba v konfiguraci\n",
    "ERROR 2023-07-26 10:50:01 Nelze odeslat e-mail\n",
    "INFO 2023-07-26 10:55:12 Aplikace úspěšně ukončena"
   ]
  },
  {
   "cell_type": "code",
   "execution_count": 40,
   "metadata": {},
   "outputs": [
    {
     "name": "stdout",
     "output_type": "stream",
     "text": [
      "logs.txt\n"
     ]
    }
   ],
   "source": [
    "!ls ../data"
   ]
  },
  {
   "cell_type": "markdown",
   "metadata": {},
   "source": [
    "<details>\n",
    "    <summary>▶️ Řešení</summary>\n",
    "    \n",
    "    ```\n",
    "    def precti_logy(soubor: str) -> list:\n",
    "        with open(soubor) as txt_soubor:\n",
    "            return txt_soubor.readlines()\n",
    "\n",
    "    def vyber_pouze_typ(obsah_souboru: list) -> tuple:\n",
    "        return tuple(\n",
    "            [log.split()[0] for log in obsah_souboru if len(log) > 3]\n",
    "        )\n",
    "    ```\n",
    "</details>"
   ]
  },
  {
   "cell_type": "markdown",
   "metadata": {},
   "source": [
    "<br>\n",
    "\n",
    "<img src=\"https://external-content.duckduckgo.com/iu/?u=https%3A%2F%2Ftse1.mm.bing.net%2Fth%3Fid%3DOIP.LKBKt07b_VB9u7U7EaEBgQHaHa%26pid%3DApi&f=1\" width=\"200\" style=\"margin-left:auto; margin-right:auto\">\n",
    "\n",
    "## Tabulkové soubory\n",
    "\n",
    "---\n"
   ]
  },
  {
   "cell_type": "markdown",
   "metadata": {},
   "source": [
    "**CSV soubor** (*Comma Separated Values*) ukládá *tabulková data*, podobně jako například soubory **.xlsx** (*MS Excel* nebo *LibreOffice*), které pravděpodobně znáš.\n",
    "\n",
    "Rozdíl spočívá v tom, že soubor **CSV** je ukládá v **textové podobě**.\n",
    "\n",
    "**CSV soubor** je tedy mnohem univerzálnější, můžeš ho normálně otevřít v tabulkových procesorech (jako je například *MS Excel*), v textových editorech jako je *Notepad* nebo *Poznámkový blok* a navíc se s ním dobře pracuje v Pythonu.\n",
    "\n",
    "<br>"
   ]
  },
  {
   "cell_type": "markdown",
   "metadata": {},
   "source": [
    "Přesto, že v různých softwarových řešeních najdeš data úhledně graficky naformátovaná do:\n",
    "1.  **řádků** *(na obrázku 1, 2, 3)*,\n",
    "2.  **a sloupců** *(na obrázku A, B, C, D)*."
   ]
  },
  {
   "cell_type": "markdown",
   "metadata": {},
   "source": [
    "<a href=\"https://imgur.com/3zomtvk\"><img src=\"https://i.imgur.com/3zomtvk.png\" title=\"source: imgur.com\" width=\"600\" /></a>"
   ]
  },
  {
   "cell_type": "markdown",
   "metadata": {},
   "source": [
    ".., reprezentované hodnoty **v jednoduchém editoru** vypadají jinak:\n",
    "```\n",
    "jmeno;prijmeni;email;projekt\n",
    "Matous;Holinka;m.holinka@firma.cz;hr\n",
    "Petr;Svetr;p.svetr@firma.cz;devops\n",
    "```"
   ]
  },
  {
   "cell_type": "markdown",
   "metadata": {},
   "source": [
    "Aby měl takový **CSV** konzistentní vzhled a formát, potřebuje zadaný **dialekt**.\n",
    "\n",
    "<br>\n",
    "\n",
    "### Dialekt CSV souborů\n",
    "\n",
    "---\n",
    "Dialektem rozuměj nějaký **formátovací pravidla**, podle kterých je tvůj **CSV** soubor zadaný.\n",
    "\n",
    "**Dialekt** udává jakými znaky jsou:\n",
    "1. oddělované **jednotlivé buňky** (na obrázku výše středník `;`),\n",
    "2. oddělované **řádky** (na obrázku není vybraný žádný symbol).\n",
    "\n",
    "Další možnosti **upřesnění dialektu** jako výběr *escape znaků*, použití uvozovek, aj. můžeš najít <a href=\"https://docs.python.org/3/library/csv.html#dialects-and-formatting-parameters\" target=\"_blank\">zde</a>.\n",
    "\n",
    "<br>"
   ]
  },
  {
   "cell_type": "markdown",
   "metadata": {},
   "source": [
    "Ať už konkrétně typ souboru **.csv** nebo jeho příbuzní **.xls** nebo **.xlsx** aj., pracuje tento typ souboru výborně pro ukládání jednotlivých záznámů řádek po řádku.\n",
    "\n",
    "<br>"
   ]
  },
  {
   "cell_type": "markdown",
   "metadata": {},
   "source": [
    "Protože se u **CSV souborů** nejedná o nativní formát Pythonu, jako takový jej nemůžeš v Pythonu napsat.\n",
    "\n",
    "Opět platí, že pokud budeš chtít pracovat **s CSV soubory** v Pythonu, musíš *nahrát* k tomu určenou **built-in knihovnu**."
   ]
  },
  {
   "cell_type": "code",
   "execution_count": null,
   "metadata": {},
   "outputs": [],
   "source": [
    "import csv  # nahrajeme knihovnu"
   ]
  },
  {
   "cell_type": "code",
   "execution_count": null,
   "metadata": {},
   "outputs": [],
   "source": [
    "# help(csv)   # nápověda knihovny"
   ]
  },
  {
   "cell_type": "code",
   "execution_count": null,
   "metadata": {},
   "outputs": [],
   "source": [
    "# dir(csv)    # objekty knihovny"
   ]
  },
  {
   "cell_type": "markdown",
   "metadata": {},
   "source": [
    "#### Vyzkoušíme si následující\n",
    "\n",
    "---\n",
    "\n",
    "| jméno objektu | účel metody |\n",
    "| :-| :- |\n",
    "| `csv.reader(m)` | funkce vrátí iterovatelný objekt (co cyklus, to řádek) |\n",
    "| `csv.writer(m)` | funkce zapíše objekt do souboru (+ `writerows`)|\n",
    "| `csv.DictWriter(m)` | třída pro zápis slovníku do souboru |\n",
    "| `csv.DictReader(m)` | třída pro čtení souboru do slovníku |\n",
    "\n",
    "<br>\n",
    "\n",
    "\n",
    "*pozn* `m` je objekt (proměnná)\n",
    "\n",
    "<br>\n",
    "\n",
    "Základní dva procesy, které budeme provádět jsou:\n",
    "1. __čtení__ souboru `csv`\n",
    "2. __zápis__ do souboru `csv`\n",
    "\n",
    "<br>"
   ]
  },
  {
   "cell_type": "markdown",
   "metadata": {},
   "source": [
    "### Vytvoříš soubor s příp. `.csv`"
   ]
  },
  {
   "cell_type": "code",
   "execution_count": null,
   "metadata": {},
   "outputs": [],
   "source": [
    "import csv"
   ]
  },
  {
   "cell_type": "code",
   "execution_count": null,
   "metadata": {},
   "outputs": [],
   "source": [
    "hlavicka = [\"jmeno\", \"prijmeni\", \"vek\"]\n",
    "osoba_1 = [\"Matous\", \"Holinka\", \"28\"]\n",
    "osoba_2 = [\"Petr\", \"Svetr\", \"27\"]"
   ]
  },
  {
   "cell_type": "code",
   "execution_count": null,
   "metadata": {},
   "outputs": [],
   "source": [
    "zapis_csv = open(\n",
    "    \"../onsite/lesson07/prvni_tabulka.csv\",\n",
    "    mode=\"w\",\n",
    "    newline=\"\"\n",
    ")"
   ]
  },
  {
   "cell_type": "code",
   "execution_count": null,
   "metadata": {},
   "outputs": [],
   "source": [
    "print(zapis_csv)"
   ]
  },
  {
   "cell_type": "code",
   "execution_count": null,
   "metadata": {},
   "outputs": [],
   "source": [
    "# help(csv.writer)"
   ]
  },
  {
   "cell_type": "code",
   "execution_count": null,
   "metadata": {},
   "outputs": [],
   "source": [
    "zapis = csv.writer(zapis_csv, delimiter=\";\")"
   ]
  },
  {
   "cell_type": "code",
   "execution_count": null,
   "metadata": {},
   "outputs": [],
   "source": [
    "zapis.writerow(hlavicka)\n",
    "zapis.writerow(osoba_1)\n",
    "zapis.writerow(osoba_2)"
   ]
  },
  {
   "cell_type": "code",
   "execution_count": null,
   "metadata": {},
   "outputs": [],
   "source": [
    "zapis_csv.close()"
   ]
  },
  {
   "cell_type": "markdown",
   "metadata": {},
   "source": [
    "### DictWriter"
   ]
  },
  {
   "cell_type": "code",
   "execution_count": null,
   "metadata": {},
   "outputs": [],
   "source": [
    "osoba_1 = {\"jmeno\": \"Matous\", \"prijmeni\": \"Pokoj\", \"vek\": \"28\"}\n",
    "osoba_2 = {\"jmeno\": \"Petr\", \"prijmeni\": \"Svetr\", \"vek\": \"27\"}"
   ]
  },
  {
   "cell_type": "code",
   "execution_count": null,
   "metadata": {},
   "outputs": [],
   "source": [
    "nove_csv = open(\n",
    "    \"../onsite/lesson07/druhy_tabulkovy_soubor.csv\",\n",
    "    mode=\"w\"\n",
    ")"
   ]
  },
  {
   "cell_type": "code",
   "execution_count": null,
   "metadata": {},
   "outputs": [],
   "source": [
    "zapisovac = csv.DictWriter(\n",
    "    nove_csv,\n",
    "    fieldnames=osoba_1.keys()\n",
    ")\n",
    "\n",
    "zapisovac.writeheader()\n",
    "zapisovac.writerow(osoba_1)\n",
    "zapisovac.writerow(osoba_2)\n",
    "# zapisovac.writerows(#iterable)"
   ]
  },
  {
   "cell_type": "code",
   "execution_count": null,
   "metadata": {},
   "outputs": [],
   "source": [
    "nove_csv.close()"
   ]
  },
  {
   "cell_type": "markdown",
   "metadata": {},
   "source": [
    "### Přečti obsah souboru `.csv`"
   ]
  },
  {
   "cell_type": "code",
   "execution_count": 3,
   "metadata": {},
   "outputs": [],
   "source": [
    "import csv"
   ]
  },
  {
   "cell_type": "code",
   "execution_count": 9,
   "metadata": {},
   "outputs": [],
   "source": [
    "cteni_csv = open(\n",
    "    \"../onsite/lesson07/druhy_tabulkovy_soubor.csv\",\n",
    "    encoding=\"utf-8\"\n",
    ")"
   ]
  },
  {
   "cell_type": "code",
   "execution_count": 10,
   "metadata": {},
   "outputs": [],
   "source": [
    "cteni = csv.reader(cteni_csv)"
   ]
  },
  {
   "cell_type": "code",
   "execution_count": 6,
   "metadata": {},
   "outputs": [
    {
     "data": {
      "text/plain": [
       "(['jmeno', 'prijmeni', 'vek'],\n",
       " ['Matous', 'Pokoj', '28'],\n",
       " ['Petr', 'Svetr', '27'])"
      ]
     },
     "execution_count": 6,
     "metadata": {},
     "output_type": "execute_result"
    }
   ],
   "source": [
    "tuple(cteni)"
   ]
  },
  {
   "cell_type": "code",
   "execution_count": 11,
   "metadata": {},
   "outputs": [
    {
     "name": "stdout",
     "output_type": "stream",
     "text": [
      "['jmeno', 'prijmeni', 'vek']\n",
      "['Matous', 'Pokoj', '28']\n",
      "['Petr', 'Svetr', '27']\n"
     ]
    }
   ],
   "source": [
    "for radek in cteni:\n",
    "    print(radek)"
   ]
  },
  {
   "cell_type": "code",
   "execution_count": 12,
   "metadata": {},
   "outputs": [],
   "source": [
    "cteni_csv.close()"
   ]
  },
  {
   "cell_type": "markdown",
   "metadata": {},
   "source": [
    "### DictReader"
   ]
  },
  {
   "cell_type": "code",
   "execution_count": null,
   "metadata": {},
   "outputs": [],
   "source": [
    "import csv"
   ]
  },
  {
   "cell_type": "code",
   "execution_count": 13,
   "metadata": {},
   "outputs": [
    {
     "name": "stdout",
     "output_type": "stream",
     "text": [
      "({'jmeno': 'Matous', 'prijmeni': 'Pokoj', 'vek': '28'}, {'jmeno': 'Petr', 'prijmeni': 'Svetr', 'vek': '27'})\n"
     ]
    }
   ],
   "source": [
    "moje_csv = open(\n",
    "    \"../onsite/lesson07/druhy_tabulkovy_soubor.csv\",\n",
    "    mode=\"r\",\n",
    "    encoding=\"utf-8\"\n",
    ")\n",
    "obsah = csv.DictReader(moje_csv)\n",
    "print(tuple(obsah))"
   ]
  },
  {
   "cell_type": "code",
   "execution_count": 15,
   "metadata": {},
   "outputs": [],
   "source": [
    "moje_csv.close()"
   ]
  },
  {
   "cell_type": "markdown",
   "metadata": {},
   "source": [
    "<br>\n",
    "\n",
    "### 🧠 CVIČENÍ 2 🧠, práce s tabulkovým souborem:\n",
    "---"
   ]
  },
  {
   "cell_type": "markdown",
   "metadata": {},
   "source": [
    "- Definuj funkci `precti_csv`, která splňuje:\n",
    "    - parametr: `soubor` (string), `pocitadlo` (funkce),\n",
    "    - vrací: dict,\n",
    "    - popis: Tato funkce přečte obsah csv souboru. Dále zavolá další uživatelskou funkci, která vypočítá maximální denní obrat, pro každý den.\n",
    "\n",
    "- definuj funkci `napocitej_denni_prodeje`, která splňuje:\n",
    "    - parametr: `reader` (list),\n",
    "    - vrací: dict,\n",
    "    - popis: Tato funkce ze zadaného objektu `reader` přeskočí první záznam (záhlaví) a postupně načítá hodnoty prodeje po dni pro všechna poskytnutá data."
   ]
  },
  {
   "cell_type": "code",
   "execution_count": null,
   "metadata": {},
   "outputs": [],
   "source": [
    "datum,produkt,cena,množství\n",
    "2023-07-01,batoh,500,3\n",
    "2023-07-01,taška,300,5\n",
    "2023-07-02,batoh,500,7\n",
    "2023-07-02,penál,150,10\n",
    "2023-07-03,notýsek,50,20\n",
    "2023-07-03,pero,30,50\n",
    "2023-07-04,penál,150,8\n",
    "2023-07-04,taška,300,4\n",
    "2023-07-05,batoh,500,6\n",
    "2023-07-05,notýsek,50,30"
   ]
  },
  {
   "cell_type": "markdown",
   "metadata": {},
   "source": [
    "<details>\n",
    "    <summary>▶️ Řešení</summary>\n",
    "    \n",
    "    ```\n",
    "    import csv\n",
    "\n",
    "    def precti_csv(jmeno_souboru: str, pocitadlo: callable) -> csv.reader:\n",
    "        with open(jmeno_souboru, 'r') as f:\n",
    "            obrat = pocitadlo(csv.reader(f))\n",
    "            return obrat\n",
    "    \n",
    "    \n",
    "    def napocitej_denni_prodeje(reader: csv.reader):\n",
    "        obrat_na_den = dict()\n",
    "        \n",
    "        for index, radek in enumerate(reader):\n",
    "            if not index:\n",
    "                continue\n",
    "            datum, _, cena, mnozstvi = radek\n",
    "            obrat_na_den[datum] = int(obrat_na_den.get(datum, 0)) + (int(cena) * int(mnozstvi))\n",
    "    \n",
    "        else:\n",
    "            return obrat_na_den\n",
    "    ```\n",
    "</details>"
   ]
  },
  {
   "cell_type": "markdown",
   "metadata": {},
   "source": [
    "<br>\n",
    "\n",
    "<img src=\"https://external-content.duckduckgo.com/iu/?u=https%3A%2F%2Ftse4.mm.bing.net%2Fth%3Fid%3DOIP.knlvD9puLdhcleGXAbzgIwHaD4%26pid%3DApi&f=1\" width=\"400\" style=\"margin-left:auto; margin-right:auto\">\n",
    "\n",
    "## JSON soubory\n",
    "\n",
    "---\n"
   ]
  },
  {
   "cell_type": "markdown",
   "metadata": {},
   "source": [
    "Tento typ souboru možná ještě neznáš. Jedná se o příponu u souborů **.json**.\n",
    "\n",
    "Celé jméno souboru může vypadat třeba jako `uzivatele.json`.\n",
    "\n",
    "**JSON** si můžeš představit následovně:\n",
    "```python\n",
    "{\n",
    "    \"jmeno\": \"Chuck Norris\",\n",
    "    \"neuspech\": null,\n",
    "    \"kliky\": \"vsechny\",\n",
    "    \"konkurence\": false,\n",
    "}\n",
    "```"
   ]
  },
  {
   "cell_type": "markdown",
   "metadata": {},
   "source": [
    "Na první pohled můžeš říct, že se hodně podobá **Pythonovskému slovníku**.\n",
    "\n",
    "Nicméně má svoji vlastní charakteristickou **sadu pravidel** pro převod datových typů.\n",
    "\n",
    "Níže jsou uvedená některá pravidla, která se týkají ukázky výše (všechna pravidla najdeš [zde](https://docs.python.org/3/library/json.html#encoders-and-decoders)):\n",
    "\n",
    "\n",
    "| JSON | Python |\n",
    "| :-: | :-: |\n",
    "| string | str |\n",
    "| true | True |\n",
    "| false | False |\n",
    "| null | None |"
   ]
  },
  {
   "cell_type": "markdown",
   "metadata": {},
   "source": [
    "Účelem tohoto souboru je zejména **přenos dat** (*JavaScript Object Notation*).\n",
    "\n",
    "Jde o záměrně zjednodušený formát, který **není standartním datovým typem pro Python**."
   ]
  },
  {
   "cell_type": "markdown",
   "metadata": {},
   "source": [
    "Poměrně často se s ním setkáš u **webových aplikací** různých *eshopů*, které ti vykresují nabídku na základě informací získaných z databází."
   ]
  },
  {
   "cell_type": "markdown",
   "metadata": {},
   "source": [
    "Protože **JSON** není standartním datovým typem, jako takový jej nemůžeš v Pythonu použít.\n",
    "\n",
    "Pokud budeš chtít pracovat s JSON v Pythonu, musíš *nahrát* k tomu určenou **built-in knihovnu**."
   ]
  },
  {
   "cell_type": "markdown",
   "metadata": {},
   "source": [
    "V rámci <a href=\"https://docs.python.org/3/library/index.html\" target=\"_blank\">seznamu dokumentace Pythonu</a>  najdeš knihovnu `json`.\n",
    "\n",
    "Právě tato knihovna ti umožní pomocí *interpretu* Pythonu *vytvořit* nebo *načíst* JSON."
   ]
  },
  {
   "cell_type": "code",
   "execution_count": 16,
   "metadata": {},
   "outputs": [],
   "source": [
    "import json  # nahrátí knihovny"
   ]
  },
  {
   "cell_type": "code",
   "execution_count": null,
   "metadata": {},
   "outputs": [],
   "source": [
    "help(json)   # nápověda"
   ]
  },
  {
   "cell_type": "code",
   "execution_count": null,
   "metadata": {},
   "outputs": [],
   "source": [
    "dir(json)    # seznam všech metod"
   ]
  },
  {
   "cell_type": "code",
   "execution_count": null,
   "metadata": {},
   "outputs": [],
   "source": [
    "tuple(       # bez magických metod\n",
    "    object\n",
    "    for object in dir(json)\n",
    "    if not object.startswith(\"__\")\n",
    ")"
   ]
  },
  {
   "cell_type": "markdown",
   "metadata": {},
   "source": [
    "<br>\n",
    "\n",
    "V rámci **základní manipulace** se zaměř hlavně na tyto funkce:\n",
    "\n",
    "| Funkce | Účel |\n",
    "| :- | :- |\n",
    "| `json.dump(m, n)` | zapíše objekt do souboru JSON |\n",
    "| `json.dumps(m)` | zapíše objekt do `str` |\n",
    "| `json.load(m)` | načte JSON data ze souboru |\n",
    "| `json.loads(m)` | načte JSON data ze `str` |\n",
    "\n",
    "Detail tabulky:\n",
    "- `m` představuje jméno objektu,\n",
    "- `n` představuje jméno souboru."
   ]
  },
  {
   "cell_type": "markdown",
   "metadata": {},
   "source": [
    "### Vytvoření souboru objektu a souboru `.json`\n",
    "\n",
    "Obecně se při práci se soubory typu `json` mluví o procesech *serialization* a *deserialization* (tedy čtení a zápis), ke kterým patří příslušné funkce uvedené výše v tabulce."
   ]
  },
  {
   "cell_type": "code",
   "execution_count": 17,
   "metadata": {},
   "outputs": [],
   "source": [
    "chuckuv_slovnik = {\n",
    "    \"jmeno\": \"Chuck Norris\",\n",
    "    \"neuspech\": None,\n",
    "    \"kliky\": \"vsechny\",\n",
    "    \"konkurence\": False,\n",
    "    \"doplneni\": \"Łukasz\",\n",
    "}"
   ]
  },
  {
   "cell_type": "code",
   "execution_count": 18,
   "metadata": {},
   "outputs": [
    {
     "name": "stdout",
     "output_type": "stream",
     "text": [
      "<class 'dict'>\n"
     ]
    }
   ],
   "source": [
    "print(type(chuckuv_slovnik))"
   ]
  },
  {
   "cell_type": "code",
   "execution_count": 19,
   "metadata": {},
   "outputs": [],
   "source": [
    "vypis_json = json.dumps(chuckuv_slovnik)  # výstup pouze jako str"
   ]
  },
  {
   "cell_type": "code",
   "execution_count": 22,
   "metadata": {},
   "outputs": [
    {
     "name": "stdout",
     "output_type": "stream",
     "text": [
      "{\"jmeno\": \"Chuck Norris\", \"neuspech\": null, \"kliky\": \"vsechny\", \"konkurence\": false, \"doplneni\": \"\\u0141ukasz\"}\n"
     ]
    }
   ],
   "source": [
    "print(vypis_json)"
   ]
  },
  {
   "cell_type": "markdown",
   "metadata": {},
   "source": [
    "Jakmile se podíváš na výstup, všimni si následujícího:\n",
    "1. `null`, klíč `neuspech` už neobsahuje `None`,\n",
    "2. `false`, klíč `konkurence` už neobsahuje `False`,\n",
    "3. `\"\\u0141ukasz\"`, klíč `fanousek` se nějak zkomolil.\n",
    "\n",
    "Důvodem pro výše **zdůrazněné změny** je právě změna *Python objektů* na *JSON objekty*.\n",
    "\n",
    "<br>\n",
    "\n",
    "V klíči `fanousek` dostaneš string `\"\\u0141ukasz\"`, jak je to možné?\n",
    "\n",
    "Defaultně totiž funkce `dump` všechny *non-ASCII* znaky (které nenajdeš v ASCII tabulce) převede na znaky doplněné **zpětným lomítkem** (tedy `Ł` na `\\u0141`)."
   ]
  },
  {
   "cell_type": "code",
   "execution_count": null,
   "metadata": {},
   "outputs": [],
   "source": [
    "print(vypis_json)"
   ]
  },
  {
   "cell_type": "code",
   "execution_count": null,
   "metadata": {},
   "outputs": [],
   "source": [
    "print(type(vypis_json))"
   ]
  },
  {
   "cell_type": "code",
   "execution_count": 26,
   "metadata": {},
   "outputs": [],
   "source": [
    "json_soubor = open(\n",
    "    \"../onsite/lesson07/prvni_json.json\",\n",
    "    mode=\"w\",\n",
    "    encoding=\"utf-8\"\n",
    ")"
   ]
  },
  {
   "cell_type": "code",
   "execution_count": 27,
   "metadata": {},
   "outputs": [],
   "source": [
    "json.dump(chuckuv_slovnik, json_soubor)"
   ]
  },
  {
   "cell_type": "code",
   "execution_count": 28,
   "metadata": {},
   "outputs": [],
   "source": [
    "json_soubor.close()"
   ]
  },
  {
   "cell_type": "markdown",
   "metadata": {},
   "source": [
    "### Načti existující soubor `.json` nebo string\n"
   ]
  },
  {
   "cell_type": "code",
   "execution_count": 29,
   "metadata": {},
   "outputs": [],
   "source": [
    "existujici_json = open(\n",
    "    \"../onsite/lesson07/prvni_json.json\",\n",
    "    mode=\"r\",\n",
    "    encoding=\"utf-8\"\n",
    ")"
   ]
  },
  {
   "cell_type": "code",
   "execution_count": null,
   "metadata": {},
   "outputs": [],
   "source": [
    "print(existujici_json)"
   ]
  },
  {
   "cell_type": "code",
   "execution_count": 30,
   "metadata": {},
   "outputs": [],
   "source": [
    "obsah_json = json.load(existujici_json)"
   ]
  },
  {
   "cell_type": "code",
   "execution_count": 31,
   "metadata": {},
   "outputs": [
    {
     "name": "stdout",
     "output_type": "stream",
     "text": [
      "{'jmeno': 'Chuck Norris', 'neuspech': None, 'kliky': 'vsechny', 'konkurence': False, 'doplneni': 'Łukasz'}\n"
     ]
    }
   ],
   "source": [
    "print(obsah_json)"
   ]
  },
  {
   "cell_type": "code",
   "execution_count": 32,
   "metadata": {},
   "outputs": [],
   "source": [
    "existujici_json.close()"
   ]
  },
  {
   "cell_type": "code",
   "execution_count": null,
   "metadata": {},
   "outputs": [],
   "source": [
    "print(type(obsah_json))"
   ]
  },
  {
   "cell_type": "code",
   "execution_count": 34,
   "metadata": {},
   "outputs": [],
   "source": [
    "chuck_sl = {\n",
    "    \"jmeno\": \"Chuck Norris\",\n",
    "    \"neuspech\": \"null\",\n",
    "    \"kliky\": \"vsechny\",\n",
    "    \"konkurence\": \"false\",\n",
    "    \"doplneni\": \"\\u0141ukasz\"\n",
    "}"
   ]
  },
  {
   "cell_type": "markdown",
   "metadata": {},
   "source": [
    "##### Doplňující argumenty:\n",
    "1. `indent=4` - odsadí zapsaný `json` o 4 mezery\n",
    "2. `sort_keys` - seřadí klíče (`True`/`False`)\n",
    "3. `ensure_ascii` - `False` zapíše původní znak, `True` zapíše reprezentaci znaku pomocí lomítek."
   ]
  },
  {
   "cell_type": "code",
   "execution_count": 35,
   "metadata": {},
   "outputs": [],
   "source": [
    "json_z_str = json.dumps(\n",
    "    chuck_sl,\n",
    "    ensure_ascii=False,\n",
    "    indent=4,\n",
    "    sort_keys=True\n",
    ")"
   ]
  },
  {
   "cell_type": "code",
   "execution_count": 36,
   "metadata": {},
   "outputs": [
    {
     "name": "stdout",
     "output_type": "stream",
     "text": [
      "{\n",
      "    \"doplneni\": \"Łukasz\",\n",
      "    \"jmeno\": \"Chuck Norris\",\n",
      "    \"kliky\": \"vsechny\",\n",
      "    \"konkurence\": \"false\",\n",
      "    \"neuspech\": \"null\"\n",
      "}\n"
     ]
    }
   ],
   "source": [
    "print(json_z_str)"
   ]
  },
  {
   "cell_type": "markdown",
   "metadata": {},
   "source": [
    "### Zápis s kontextovým manažerem\n",
    "\n",
    "Nejenom *textové soubory*, ale i JSON můžeš zapsat pomocí **kontextového manažeru** a klíčového slova `with`:"
   ]
  },
  {
   "cell_type": "code",
   "execution_count": null,
   "metadata": {},
   "outputs": [],
   "source": [
    "muj_soubor = open(\"../onsite/lesson07/muj_textovy_soubor.txt\", mode=\"a\")\n",
    "muj_soubor.write(f\"\\n{dalsi_text}\")\n",
    "muj_soubor.close()"
   ]
  },
  {
   "cell_type": "code",
   "execution_count": 39,
   "metadata": {},
   "outputs": [],
   "source": [
    "# bez knihovny nemůžeš pracovat s JSON objekty\n",
    "import json"
   ]
  },
  {
   "cell_type": "code",
   "execution_count": 40,
   "metadata": {},
   "outputs": [],
   "source": [
    "chuckuv_slovnik = {\n",
    "    \"jmeno\": \"Chuck Norris\",\n",
    "    \"neuspech\": None,\n",
    "    \"kliky\": \"vsechny\",\n",
    "    \"konkurence\": False,\n",
    "    \"fanousek\": \"Łukasz\"\n",
    "}"
   ]
  },
  {
   "cell_type": "code",
   "execution_count": 41,
   "metadata": {},
   "outputs": [],
   "source": [
    "with open(\"../onsite/lesson07/druhy_json.json\", mode=\"w\") as json_soubor:\n",
    "    json.dump(\n",
    "        chuckuv_slovnik,\n",
    "        json_soubor,\n",
    "        ensure_ascii=False,\n",
    "        indent=4,\n",
    "        sort_keys=True\n",
    "    )"
   ]
  },
  {
   "cell_type": "code",
   "execution_count": 42,
   "metadata": {},
   "outputs": [
    {
     "data": {
      "text/plain": [
       "True"
      ]
     },
     "execution_count": 42,
     "metadata": {},
     "output_type": "execute_result"
    }
   ],
   "source": [
    "json_soubor.closed"
   ]
  },
  {
   "cell_type": "markdown",
   "metadata": {},
   "source": [
    "<br>\n",
    "\n",
    "#### 🧠 CVIČENÍ 3 🧠, práce s JSON souborem:\n",
    "---"
   ]
  },
  {
   "cell_type": "markdown",
   "metadata": {},
   "source": [
    "- Definuj funkci `nacti_JSON_soubor`, která splňuje:\n",
    "    - parametr: `soubor` (string),\n",
    "    - vrací: list,\n",
    "    - popis: Tato funkce přečte obsah JSON souboru. Následně tento obsah vrací.\n",
    "\n",
    "- definuj funkci `ziskej_minimum`, která splňuje:\n",
    "    - parametr: `produkty` (list),\n",
    "    - vrací: tuple,\n",
    "    - popis: Tato funkce ze zadaného parametru najde produkt s nejmenší hodnotou množství. Vrací jak minimální hodnotu, tak produkt s minimální hodnotou."
   ]
  },
  {
   "cell_type": "code",
   "execution_count": 105,
   "metadata": {},
   "outputs": [
    {
     "name": "stdout",
     "output_type": "stream",
     "text": [
      "Writing ../data/produkty.json\n"
     ]
    }
   ],
   "source": [
    "[\n",
    "    {\"název\": \"Produkt1\", \"cena\": 200, \"množství\": 10},\n",
    "    {\"název\": \"Produkt2\", \"cena\": 300, \"množství\": 15},\n",
    "    {\"název\": \"Produkt3\", \"cena\": 150, \"množství\": 20},\n",
    "    {\"název\": \"Produkt4\", \"cena\": 250, \"množství\": 5},\n",
    "    {\"název\": \"Produkt5\", \"cena\": 100, \"množství\": 30}\n",
    "]"
   ]
  },
  {
   "cell_type": "markdown",
   "metadata": {},
   "source": [
    "<details>\n",
    "    <summary>▶️ Řešení</summary>\n",
    "    \n",
    "    ```\n",
    "    import json\n",
    "\n",
    "\n",
    "    def nacti_JSON_soubor(soubor: str) -> dict:\n",
    "        with open(soubor, 'r') as f:\n",
    "            return json.load(f)\n",
    "    \n",
    "    \n",
    "    def ziskej_minimum(produkty: dict) -> tuple:\n",
    "        minimum = 100\n",
    "    \n",
    "        for produkt in produkty:\n",
    "            if produkt['množství'] < minimum:\n",
    "                minimum = produkt['množství']\n",
    "                min_detail = produkt\n",
    "\n",
    "        return minimum, min_detail\n",
    "    ```\n",
    "</details>"
   ]
  },
  {
   "cell_type": "markdown",
   "metadata": {},
   "source": [
    "\n",
    "<img src=\"https://external-content.duckduckgo.com/iu/?u=https%3A%2F%2Ftse1.mm.bing.net%2Fth%3Fid%3DOIP.GMJvJ-GG0YS8H5JmHR3CbwHaHm%26pid%3DApi&f=1\" width=\"200\" style=\"margin-left:auto; margin-right:auto\" />\n",
    "\n",
    "\n",
    "## Domácí úkol\n",
    "\n",
    "---"
   ]
  },
  {
   "cell_type": "markdown",
   "metadata": {},
   "source": [
    "Napiš *skript*, který:\n",
    "\n",
    "1. Načte soubor typu `JSON`,\n",
    "2. rozdělí obsah **podle klíčů**,\n",
    "3. zapíšeš rozdělená data do sloupečků **v CSV souboru**.\n",
    "\n",
    "Vstupní **JSON** soubor:\n",
    "    "
   ]
  },
  {
   "cell_type": "markdown",
   "metadata": {},
   "source": [
    "```\n",
    "    {\n",
    "        \"id\": 1,\n",
    "        \"first_name\": \"Dorri\",\n",
    "        \"last_name\": \"Di Bernardo\",\n",
    "        \"email\": \"ddibernardo0@nba.com\",\n",
    "        \"gender\": \"Female\",\n",
    "        \"ip_address\": \"158.223.131.8\"\n",
    "    },\n",
    "    {\n",
    "        \"id\": 2,\n",
    "        \"first_name\": \"Nisse\",\n",
    "        \"last_name\": \"Noye\",\n",
    "        \"email\": \"nnoye1@theatlantic.com\",\n",
    "        \"gender\": \"Female\",\n",
    "        \"ip_address\": \"252.57.218.72\"\n",
    "    },\n",
    "    ...\n",
    "```"
   ]
  },
  {
   "cell_type": "markdown",
   "metadata": {},
   "source": [
    "Výstupní **CSV**:\n",
    "```\n",
    "[\"id\", \"first_name\", \"last_name\", \"email\", \"gender\", \"ip_address\"],\n",
    "[\"1\", \"Dorri\", \"Di Bernardo\", \"ddibernardo0@nba.com\", \"Female\", \"158.223.131.8\"],\n",
    "[\"2\", \"Nisse\", \"Noye\", \"nnoye1@theatlantic.com\", \"Female\", \"252.57.218.72\"],\n",
    "...\n",
    "```"
   ]
  },
  {
   "cell_type": "markdown",
   "metadata": {},
   "source": [
    "---"
   ]
  }
 ],
 "metadata": {
  "kernelspec": {
   "display_name": "Python 3 (ipykernel)",
   "language": "python",
   "name": "python3"
  },
  "language_info": {
   "codemirror_mode": {
    "name": "ipython",
    "version": 3
   },
   "file_extension": ".py",
   "mimetype": "text/x-python",
   "name": "python",
   "nbconvert_exporter": "python",
   "pygments_lexer": "ipython3",
   "version": "3.8.10"
  }
 },
 "nbformat": 4,
 "nbformat_minor": 4
}
