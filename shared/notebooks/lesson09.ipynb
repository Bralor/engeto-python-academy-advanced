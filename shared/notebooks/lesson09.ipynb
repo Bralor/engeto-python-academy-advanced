{
 "cells": [
  {
   "cell_type": "markdown",
   "metadata": {},
   "source": [
    "# Python akademie, pokročilí"
   ]
  },
  {
   "attachments": {},
   "cell_type": "markdown",
   "metadata": {},
   "source": [
    "<br>\n",
    "\n",
    "## Obsah\n",
    "\n",
    "---\n",
    "1. [Úvod do Flasku](),\n",
    "2. [Instalace projektu](),\n",
    "3. [První spuštění, minimální aplikace](),\n",
    "4. [Templates](),\n",
    "5. [Templatovací kód](),\n",
    "6. [Data, data, data](),\n",
    "7. [Dynamické routy](),\n",
    "8. [Stylování HTML souborů]().\n",
    "---"
   ]
  },
  {
   "cell_type": "markdown",
   "metadata": {},
   "source": [
    "<br>\n",
    "\n",
    "<img src=\"https://external-content.duckduckgo.com/iu/?u=https%3A%2F%2Ftse1.mm.bing.net%2Fth%3Fid%3DOIP.Lp10uZIQWwxti0EOqpQkjgAAAA%26pid%3DApi&f=1&ipt=f6e8f2f2c4793ede876027e7cd07ef47dd14a5bd21ca26e7d0d3cbcaf81bdcb1&ipo=images\" width=\"200\" style=\"margin-left:auto; margin-right:auto\">"
   ]
  },
  {
   "cell_type": "markdown",
   "metadata": {},
   "source": [
    "## Úvod do Flasku\n",
    "\n",
    "---"
   ]
  },
  {
   "cell_type": "markdown",
   "metadata": {},
   "source": [
    "<br>\n",
    "\n",
    "### Proč vyhledat Flask\n",
    "\n",
    "---"
   ]
  },
  {
   "cell_type": "markdown",
   "metadata": {},
   "source": [
    "Představ si, že disponuješ daty, které potřebuješ **někde vystavit**.\n",
    "\n",
    "Pro svůj projekt, svoje kolegy, nebo kamarády, atd.\n",
    "\n",
    "K tomu budeš potřebovat vlastní **webovou aplikaci**.\n",
    "\n",
    "<br>\n",
    "\n",
    "Webovou aplikaci si nachystáš pomocí tzv. **webových frameworků**.\n",
    "\n",
    "Je jejich určitě spousta, je z čeho vybrat (*Django*, *Flask* a *FastApi*).\n",
    "\n",
    "Rozhodně jde o skvělé knihovny, ale většina z nich má problém.\n",
    "\n",
    "Nabízí toho totiž víc, než často doopravdy (na začátek) potřebuješ.\n",
    "\n",
    "Takový problém ovšem *frameworkem* **Flask** nemá.\n",
    "\n",
    "<br>"
   ]
  },
  {
   "cell_type": "markdown",
   "metadata": {},
   "source": [
    "### Co je Flask\n",
    "\n",
    "---\n",
    "\n",
    "**Flask** je tzv. *microframework*.\n",
    "\n",
    "Je to v podstatě *balíček*, který člověk použije, pokud potřebuje vytvořit vlastní **webovou aplikaci**.\n",
    "\n",
    "Nabízí jednoduché řešení pro drobné projekty, až pro komplexní řešení.\n",
    "\n",
    "<br>\n",
    "\n",
    "Jeho rozhraní se skládá ze **tří hlavních dílů**:\n",
    "1. `Werkzeug`, routování, redirektování, debuggování a další utilitky z *WSGI* (*web server gateway interface*),\n",
    "2. `jinja2`, poskytuje podporu pro templaty projektu (konfigurace, glob. proměnné, práce s cestami),\n",
    "3. `click`, nabízí jednoduchou a přehlednou dekoraci funkcí, option a argumentů v *CLI*."
   ]
  },
  {
   "cell_type": "markdown",
   "metadata": {},
   "source": [
    "<br>\n",
    "\n",
    "### Co není Flask\n",
    "\n",
    "---\n",
    "\n",
    "Jako takový, Flask **sám nenabízí**:\n",
    "1. podporu pro dotazování **databázových systémů**,\n",
    "2. **validaci formulářů**,\n",
    "3. **ověřování** uživatelů,\n",
    "4. další *vysoko-úrovňové* úkoly.\n",
    "\n",
    "Nicméně, tyto úkoly, které jiné služby běžně poskytují, je možné doplnit **pomocí Flaskových rozšíření**.\n",
    "\n",
    "Stal se totiž u komunity tak oblíbený, že pro něj existuje velké množství rozšíření a doplňků (*extensions*) typu:\n",
    "* `Flask-sqlalchemy`,\n",
    "* `Flask-WTF`,\n",
    "* `Flask-Login`,\n",
    "* `Flask-Debugtoolbar`."
   ]
  },
  {
   "cell_type": "markdown",
   "metadata": {},
   "source": [
    "<br>\n",
    "\n",
    "<img src=\"https://external-content.duckduckgo.com/iu/?u=https%3A%2F%2Ftse1.mm.bing.net%2Fth%3Fid%3DOIP.X8vq1QzxWiGmRggmqN9NIAHaHa%26pid%3DApi&f=1&ipt=f15694b72821feedf546bd9ba38f21cb7f6ca332684c5f433114ed05a3e304c9&ipo=images\" width=\"200\" style=\"margin-left:auto; margin-right:auto\">"
   ]
  },
  {
   "cell_type": "markdown",
   "metadata": {},
   "source": [
    "## Instalace projektu\n",
    "\n",
    "---"
   ]
  },
  {
   "cell_type": "markdown",
   "metadata": {},
   "source": [
    "Než se oficiálně pustíš do práce s mikroframeworkem **Flask**, musíš jej **stáhnout a nainstalovat**."
   ]
  },
  {
   "cell_type": "markdown",
   "metadata": {},
   "source": [
    "### Nachystej nový projekt\n",
    "\n",
    "---"
   ]
  },
  {
   "cell_type": "markdown",
   "metadata": {},
   "source": [
    "Nejprve si tedy nachystej **nové virtuální prostředí**, pro nový projekt:\n",
    "\n",
    "**MacOS/Linux**:\n",
    "```\n",
    "$ mkdir muj_projekt && cd muj_projekt\n",
    "$ python -m venv env\n",
    "$ source env/bin/activate\n",
    "```\n",
    "\n",
    "**Windows**:\n",
    "```\n",
    "> mkdir myproject\n",
    "> cd myproject\n",
    "> python -m venv env\n",
    "> env\\Scripts\\activate\n",
    "```\n",
    "\n",
    "Nezapomeň nakonec nově nachystané prostředí **aktivovat**.\n",
    "\n",
    "<br>"
   ]
  },
  {
   "cell_type": "markdown",
   "metadata": {},
   "source": [
    "### Najdi, stáhni, instaluj\n",
    "\n",
    "---"
   ]
  },
  {
   "cell_type": "markdown",
   "metadata": {},
   "source": [
    "Po aktivaci *virtuálního prostředí*, můžeš začít stahovat a následně instalovat.\n",
    "\n",
    "Pro instalování *frameworku* pomocí manažeru **pip**:\n",
    "```\n",
    "pip install Flask\n",
    "```"
   ]
  },
  {
   "cell_type": "markdown",
   "metadata": {},
   "source": [
    "#### Demo #1: Nastavení projektu"
   ]
  },
  {
   "cell_type": "markdown",
   "metadata": {},
   "source": [
    "<br>\n",
    "\n",
    "<img src=\"https://external-content.duckduckgo.com/iu/?u=https%3A%2F%2Ftse1.mm.bing.net%2Fth%3Fid%3DOIP.5TH7jPyHY4wP566gVpeH1AHaHq%26pid%3DApi&f=1&ipt=ffbdee5f80cb55c0bb21e6946f1505460b28f126fb09650b1fb027d7c538be3d&ipo=images\" width=\"220\" style=\"margin-left:auto; margin-right:auto\">"
   ]
  },
  {
   "cell_type": "markdown",
   "metadata": {},
   "source": [
    "## První spuštění, minimální aplikace\n",
    "\n",
    "---"
   ]
  },
  {
   "cell_type": "markdown",
   "metadata": {},
   "source": [
    "Jde úplně o **nejjednodušší variantu** ke spuštění.\n",
    "\n",
    "Zde je vidět jednoduchost nastavení a spuštění:"
   ]
  },
  {
   "cell_type": "code",
   "execution_count": null,
   "metadata": {},
   "outputs": [],
   "source": [
    "# filename: app.py\n",
    "from flask import Flask\n",
    "\n",
    "app = Flask(__name__)\n",
    "\n",
    "@app.route(\"/\")\n",
    "def zobraz_pozdrav():\n",
    "    return \"<p>Ahoj, ze třetí lekce!</p>\" "
   ]
  },
  {
   "cell_type": "markdown",
   "metadata": {},
   "source": [
    "Jednotlivé řádky v tomto modulu znamenají následující:"
   ]
  },
  {
   "cell_type": "markdown",
   "metadata": {},
   "source": [
    "1. Nejprve nahraješ *objekt* `Flask` a podle jeho vzoru nachystáš pro tebe specifickou <a href='https://en.wikipedia.org/wiki/Web_Server_Gateway_Interface' target='blank'>(WSGI)</a> **aplikaci** (webový server),\n",
    "2. jméno `app` je jméno tvojí *instance*, která bude na web odkazovat,\n",
    "3. *argument* `__name__` pojmenuje tvoji aplikaci **podle jména souboru**,\n",
    "4. *dekorátor* `@app.route` říká, že funkci *vrátí* na cestě `localhost:5000`, bez specifikátoru,\n",
    "5. funkce `zobraz_pozdrav` vrací pouze HTML element `<p></p>` se stringem `Ahoj, z desáté lekce!`,"
   ]
  },
  {
   "cell_type": "markdown",
   "metadata": {},
   "source": [
    "<br>\n",
    "\n",
    "### Spuštění\n",
    "\n",
    "---\n",
    "\n",
    "Tvůj spouštěcí modul si můžeš pojmenovat jak potřebuješ. Obvykle však `app.py` (`wsgi.py`).\n",
    "\n",
    "Jedinné jméno, kterému se chceš vyhnout je `flask.py`, protože takové jméno souboru by tě stavilo do konfliktu **s vlastním jménem frameworku**."
   ]
  },
  {
   "cell_type": "markdown",
   "metadata": {},
   "source": [
    "Pokud si pojmenuješ soubor `app.py`, interpret jej sám vyhledá:\n",
    "```\n",
    "python -m flask run\n",
    "```\n",
    "\n",
    "<br>\n",
    "\n",
    "Pokud potřebuješ jiné jméno, **stačí příkaz doplnit**:\n",
    "```\n",
    "python -m flask -A <tvuj_soubor> run\n",
    "```\n",
    "...nebo:\n",
    "```\n",
    "python -m flask --app <tvuj_soubor> run\n",
    "```"
   ]
  },
  {
   "cell_type": "markdown",
   "metadata": {},
   "source": [
    "### Výstup\n",
    "\n",
    "---\n",
    "\n",
    "Následně můžeš vidět podobný výstup (podle verze *frameworku*):\n",
    "```\n",
    " * Serving Flask app 'app.py'\n",
    " * Debug mode: off\n",
    "WARNING: This is a development server. Do not use it in a production deployment. Use a production WSGI server instead.\n",
    " * Running on http://127.0.0.1:5000\n",
    "Press CTRL+C to quit\n",
    "```"
   ]
  },
  {
   "cell_type": "markdown",
   "metadata": {},
   "source": [
    "### Číslo portu\n",
    "\n",
    "---"
   ]
  },
  {
   "cell_type": "markdown",
   "metadata": {},
   "source": [
    "Pokud dostaneš výjimku `OSError: [Errno 98]` nebo `OSError: [WinError 10013]` znamená to, že na tebou **zvoleném portu** již něco běží.\n",
    "\n",
    "Proto je potřeba **zvolit jiný port ručně**:\n",
    "```\n",
    "python3 -m flask run -p 8000\n",
    "```\n",
    "\n",
    "Přepínač `-p` ti umožní vyber jiné číslo portu."
   ]
  },
  {
   "cell_type": "markdown",
   "metadata": {},
   "source": [
    "Opatrně, **nelze přepsat číslo portu** v rámci tvého souboru jako:\n",
    "```python\n",
    "# filename: app.py\n",
    "from flask import Flask\n",
    "\n",
    "app = Flask(__name__)\n",
    "\n",
    "\n",
    "@app.route(\"/\")\n",
    "def zobraz_pozdrav():\n",
    "    return \"<p>Ahoj, ze třetí lekce!</p>\" \n",
    "\n",
    "\n",
    "if __name__ == '__main__':  # dnes již není podporované\n",
    "    app.run(port=3000)\n",
    "```"
   ]
  },
  {
   "cell_type": "markdown",
   "metadata": {},
   "source": [
    "<br>\n",
    "\n",
    "Příkaz `python -m flask` nevidí funkci `app.flask.run`.\n",
    "\n",
    "Nevidí aplikaci ani její konfiguraci.\n",
    "\n",
    "V dřívějších verzích se aplikace spouštěla tímto způsobem."
   ]
  },
  {
   "cell_type": "markdown",
   "metadata": {},
   "source": [
    "### Debug režim\n",
    "\n",
    "---"
   ]
  },
  {
   "cell_type": "markdown",
   "metadata": {},
   "source": [
    "V rámci hledání chyb a stopování problémů můžeš přidat dalším argumentem:\n",
    "```\n",
    "python3 -m flask run -p 8000 --debug\n",
    "```"
   ]
  },
  {
   "cell_type": "markdown",
   "metadata": {},
   "source": [
    "Projekt se potom mírně rozšíří do takovéto podoby:\n",
    "```\n",
    "muj_flask_projekt/\n",
    "   └─app.py/\n",
    "```"
   ]
  },
  {
   "cell_type": "markdown",
   "metadata": {},
   "source": [
    "#### Demo 2: První spuštění Flask aplikace\n",
    "\n",
    "Vyzkoušej si spuštění vlastní webové aplikace s vypsaným stringem: `\"Ahoj ze třetí lekce, tady <tvoje_jmeno>\"`."
   ]
  },
  {
   "cell_type": "markdown",
   "metadata": {},
   "source": [
    "<img src=\"https://external-content.duckduckgo.com/iu/?u=https%3A%2F%2Ftse1.mm.bing.net%2Fth%3Fid%3DOIP.pCng-t3XzMuvtWVHCk5--wHaHa%26pid%3DApi&f=1&ipt=3bed073fec987022e1a9b0ae6d3d87ad294bf4b5f27aa9842084f1e5b8cf126f&ipo=images\" width=\"250\" style=\"margin-left:auto; margin-right:auto\">"
   ]
  },
  {
   "cell_type": "markdown",
   "metadata": {},
   "source": [
    "## Templates\n",
    "\n",
    "---"
   ]
  },
  {
   "cell_type": "markdown",
   "metadata": {},
   "source": [
    "Při další práci s tvojí aplikaci ve *Flasku*, můžeš chtít doplnit **další stránku**.\n",
    "\n",
    "Případně přidat dokonce několik další stránek:"
   ]
  },
  {
   "cell_type": "markdown",
   "metadata": {},
   "source": [
    "```python\n",
    "# filename: app.py\n",
    "from flask import Flask\n",
    "\n",
    "app = Flask(__name__)\n",
    "\n",
    "\n",
    "@app.route(\"/\")\n",
    "def zobraz_uvodni_stranku():  # --> uvod.html\n",
    "    return \"<p>Ahoj, ze třetí lekce!</p>\"\n",
    "\n",
    "\n",
    "@app.route(\"/clanky/\")\n",
    "def zobraz_clanky():         # --> clanky.html\n",
    "    return \"<p>Aktuální články:</p>\"\n",
    "```"
   ]
  },
  {
   "cell_type": "markdown",
   "metadata": {},
   "source": [
    "Ovšem zpracovávat všechen **HTML** obsah v rámci zdrojového kódu je přítěž.\n",
    "\n",
    "Jak na vyhledávání, tak **na pozdější duplicity**.\n",
    "\n",
    "<br>"
   ]
  },
  {
   "cell_type": "markdown",
   "metadata": {},
   "source": [
    "Proto první zásadní změnou, pro takovou aplikaci, bude rozřazení zdrojových souborů tam, **kam patří**.\n",
    "\n",
    "Tedy pryč **ze zdrojového souboru** a spíše do vlastního **HTML souboru**.\n",
    "\n",
    "<br>\n",
    "\n",
    "Další související úpravou, bude nahrátí funkce `render_template`, která ti jednotlivé soubory *vyrendruje* (vykreslí):\n",
    "```python\n",
    "from flask import Flask, render_template\n",
    "\n",
    "app = Flask(__name__)\n",
    "\n",
    "\n",
    "@app.route(\"/\")\n",
    "def zobraz_uvodni_stranku():\n",
    "    return render_template(\"index.html\")\n",
    "\n",
    "\n",
    "@app.route(\"/clanky\")\n",
    "def zobraz_clanky():\n",
    "    return render_template(\"topics.html\")\n",
    "\n",
    "```"
   ]
  },
  {
   "cell_type": "markdown",
   "metadata": {},
   "source": [
    "Tato funkce dovolí knihovně `Jinja2` manipulovat se zdrojovými **HTML** soubory.\n",
    "\n",
    "Tím pádem můžeš pro každou cestu tvé aplikace oddělit nový zdrojový soubor.\n",
    "\n",
    "Finálně potom tvůj kód zůstane stručnější, přehlednější a každou stránku budeš **upravovat zvlášť**.\n",
    "\n",
    "<br>"
   ]
  },
  {
   "cell_type": "markdown",
   "metadata": {},
   "source": [
    "Projekt se potom mírně rozšíří do takovéto podoby:\n",
    "```\n",
    "muj_flask_projekt/\n",
    "   ├─app.py/\n",
    "   └─templates/\n",
    "       ├─index.html\n",
    "       └─topics.html\n",
    "\n",
    "```"
   ]
  },
  {
   "cell_type": "markdown",
   "metadata": {},
   "source": [
    "`templates` je tedy skutečně jenom adresář, který nese soubory pro tvoji *webovou aplikaci*.\n",
    "\n",
    "Pomocí funkce `render_template` vezme zdrojové HTML nebo snippet (útržek HTMLka) a pomocí Pythonních kódu jej:\n",
    "1. najde,\n",
    "2. interpretuje,\n",
    "3. prezentuje uživateli."
   ]
  },
  {
   "cell_type": "markdown",
   "metadata": {},
   "source": [
    "#### Demo 3: Ukázka pro dvě stránky jako HTML soubory"
   ]
  },
  {
   "cell_type": "markdown",
   "metadata": {},
   "source": [
    "<img src=\"https://external-content.duckduckgo.com/iu/?u=https%3A%2F%2Ftse1.mm.bing.net%2Fth%3Fid%3DOIP.4Mi9xPc7w-jO94GTu3oaAQHaHa%26pid%3DApi&f=1&ipt=e81df17909a0515f4757ea5a254111ed04846c81aa2e7e56ee8bbee6a40be15d&ipo=images\" width=\"200\" style=\"margin-left:auto; margin-right:auto\">\n",
    "\n",
    "## Templatovací kód\n",
    "\n",
    "---"
   ]
  },
  {
   "cell_type": "markdown",
   "metadata": {},
   "source": [
    "Pokud ti vzhled webových stránek není úplně cizí, občas si všimneš **opakujících se prvků**:\n",
    "1. Záhlaví,\n",
    "2. zápatí,\n",
    "3. navigační pole,\n",
    "4. a další.\n",
    "\n",
    "Pokud však musíš upravit každý `html` soubor, když budeš chtít takový prvek přidat, je to dost práce.\n",
    "Dopustíš se mnoha nekonzistencí a jakékoliv rozšíření ti přidá spousty startostí.\n",
    "\n",
    "<br>\n",
    "\n",
    "Naštěstí můžeš využít tzv. *templatovací kód*, který máš díky knihovně `Jinja2` k dispozici."
   ]
  },
  {
   "cell_type": "markdown",
   "metadata": {},
   "source": [
    "Díky tomu si **můžeš předpřipravit šablonu**, kterou můžeš následně použít, kde potřebuješ:\n",
    "```html\n",
    "<!-- templates/layout.html -->\n",
    "<!doctype html>\n",
    "<html>\n",
    " <head>\n",
    "   <title>Flask aplikace - {{ jmeno_stranky }}</title>\n",
    " </head>\n",
    " <body>\n",
    "   {% include 'nav.html' %}\n",
    "   {% block content %}{% endblock %}\n",
    " </body>\n",
    "</html>\n",
    "```"
   ]
  },
  {
   "cell_type": "markdown",
   "metadata": {},
   "source": [
    "Cokoliv bude mít kolem sebe **složené závorky** naznačuje, že jde o `Jinja2` formát.\n",
    "\n",
    "* `{{ jmeno_stranky }}`, proměnná, bude představovat jméno stránky,\n",
    "* `{% include 'nav.html' %}`, bude pozice pro navigační pole,\n",
    "* `{% block content %}`, bude poskytovat prostor pro konkrétní stránku."
   ]
  },
  {
   "cell_type": "markdown",
   "metadata": {},
   "source": [
    "Například pro naší původní **domácí stránku** (`/`):\n",
    "```html\n",
    " <body>\n",
    "   {% include 'nav.html' %}\n",
    "   {% block content %}\n",
    "\n",
    "   <h1>Ahoj, ze třetí lekce!</h1>\n",
    "\n",
    "   {% endblock %}\n",
    "\n",
    " </body>\n",
    "```"
   ]
  },
  {
   "cell_type": "markdown",
   "metadata": {},
   "source": [
    "### Přidej šablonu\n",
    "\n",
    "---"
   ]
  },
  {
   "cell_type": "markdown",
   "metadata": {},
   "source": [
    "Teď, když máš šablonu nachystanou, můžeš rozšířit obsah `html` souboru `index.html`.\n",
    "\n",
    "To zapříčiní, že vzor tvojí **šablony** se přenese do všech dalších templatových souborů, kde jej uvedeš.\n",
    "\n",
    "<br>\n",
    "\n",
    "Tento soubor vykresluješ na *rootu* tvojí aplikace:\n",
    "```html\n",
    "<!-- templates/index.html -->\n",
    "{% extends 'layout.html' %}\n",
    "{% block content %}\n",
    "\n",
    "<h1>Ahoj, ze třetí lekce!</h1>\n",
    "\n",
    "{% endblock %}\n",
    "```"
   ]
  },
  {
   "cell_type": "markdown",
   "metadata": {},
   "source": [
    "Stejně tak můžeš rozšířit soubor `topics.html`:\n",
    "```html\n",
    "<!-- templates/topics.html -->\n",
    "{% extends 'layout.html' %}\n",
    "{% block content %}\n",
    "\n",
    "<h1>Aktuální články:</h1>\n",
    "\n",
    "{% endblock %}\n",
    "```"
   ]
  },
  {
   "cell_type": "markdown",
   "metadata": {},
   "source": [
    "Použité `Jinja2` prvky:\n",
    "* `{% %}`, symboly procenta zabalují **příkazy** pro **Jinja2** (docela podobné syntaxi Pythonu),\n",
    "* `{{ }}`, symboly zdvojených závorek obalují **proměnné**, jejichž hodnotu můžeš pomocí interpreta předat,\n",
    "* `{# #}`, symboly mřížek slouží jako **komentáře** určené pro vývojářské účely (end-user nevidí).\n",
    "\n",
    "<br>"
   ]
  },
  {
   "cell_type": "markdown",
   "metadata": {},
   "source": [
    "Proklikání pomocí odkazů:"
   ]
  },
  {
   "cell_type": "markdown",
   "metadata": {},
   "source": [
    "```html\n",
    "<!-- templates/nav.html -->\n",
    "<nav>\n",
    "    <hr>\n",
    "        <a href=\"/\">Domů</a> - <a href=\"/clanky\">Články</a>\n",
    "    <hr>\n",
    "</nav>\n",
    "```"
   ]
  },
  {
   "cell_type": "markdown",
   "metadata": {},
   "source": [
    "### Jméno stránky pomocí Jinja proměnné\n",
    "\n",
    "---"
   ]
  },
  {
   "cell_type": "markdown",
   "metadata": {},
   "source": [
    "Nyní můžeš přidat **jméno stránky**, které bude viditelné ve zdrojovém kódu stránky.\n",
    "\n",
    "Toto jméno zadáš pomocí `Jinja2` proměnné, kterou máš nachystanou v souboru `sablona.html`:\n",
    "```python\n",
    "from flask import Flask, render_template\n",
    "\n",
    "app = Flask(__name__)\n",
    "\n",
    "\n",
    "@app.route(\"/\")\n",
    "def root():\n",
    "    return render_template(\"index.html\", jmeno_stranky=\"DOMŮ\")\n",
    "\n",
    "\n",
    "@app.route(\"/clanky\")\n",
    "def topics():\n",
    "    return render_template(\"topics.html\", jmeno_stranky=\"ČLÁNKY\")\n",
    "```"
   ]
  },
  {
   "cell_type": "markdown",
   "metadata": {},
   "source": [
    "```\n",
    "muj_flask_projekt/\n",
    "   ├─app.py/\n",
    "   └─templates/\n",
    "       ├─index.html\n",
    "       ├─nav.html\n",
    "       ├─layout.html\n",
    "       └─topics.html\n",
    "```"
   ]
  },
  {
   "cell_type": "markdown",
   "metadata": {},
   "source": [
    "#### Demo 4: Ukázka pro formátované HTML soubory"
   ]
  },
  {
   "cell_type": "markdown",
   "metadata": {},
   "source": [
    "<img src=\"https://external-content.duckduckgo.com/iu/?u=https%3A%2F%2Ftse4.mm.bing.net%2Fth%3Fid%3DOIP.JdJ3TBzYKdLXPJTIz4vUkQHaHa%26pid%3DApi&f=1&ipt=7cd011b3ac7c921650c9bc7d2419a5dd095dbaa9311e1f3573771439d50603b3&ipo=images\" width=\"250\" style=\"margin-left:auto; margin-right:auto\">"
   ]
  },
  {
   "cell_type": "markdown",
   "metadata": {},
   "source": [
    "## Data, data, data\n",
    "\n",
    "---"
   ]
  },
  {
   "cell_type": "markdown",
   "metadata": {},
   "source": [
    "Pokud pracuješ s daty, potřebuješ je někde uchovávat.\n",
    "\n",
    "*Flask* jako takový snese různé vstupy a data.\n",
    "\n",
    "Pro jednoduchost ti bude stačit načítat data z pomocí souboru typu `csv`.\n",
    "\n",
    "Určitě ale můžeš pracovat s `db` (lokální nebo vzdálenou), `json` soubory, aj.:\n",
    "```\n",
    "muj_flask_projekt/\n",
    "   ├─app.py/\n",
    "   ├─data/\n",
    "   |   └── topics.csv\n",
    "   └─templates/\n",
    "       ├── index.html\n",
    "       ├── nav.html\n",
    "       ├── layout.html\n",
    "       └── topics.html\n",
    "```"
   ]
  },
  {
   "cell_type": "markdown",
   "metadata": {},
   "source": [
    "Tvoje proměnná `topics.csv`, obsahuje články získané z webu (obsahuje datum, typ, text článku a odkaz).\n",
    "\n",
    "Takový soubor je potřeba nejprve načíst:"
   ]
  },
  {
   "cell_type": "code",
   "execution_count": 6,
   "metadata": {},
   "outputs": [],
   "source": [
    "# Procvič si otevírání CSV souboru"
   ]
  },
  {
   "cell_type": "markdown",
   "metadata": {},
   "source": [
    "<details>\n",
    "    <summary>▶️ Řešení</summary>\n",
    "    \n",
    "    ```\n",
    "    import csv\n",
    "\n",
    "    \n",
    "    def precti_clanky(jmeno_souboru: str) -> list:\n",
    "        with open(jmeno_souboru, mode=\"r\", encoding=\"utf-8\") as csv_:\n",
    "            return [\n",
    "                radek\n",
    "                for radek in csv.DictReader(csv_)\n",
    "            ]\n",
    "    ```\n",
    "</details>"
   ]
  },
  {
   "cell_type": "code",
   "execution_count": 7,
   "metadata": {},
   "outputs": [],
   "source": [
    "clanky = precti_clanky(\"cesta/k/souboru/s/daty\")"
   ]
  },
  {
   "cell_type": "markdown",
   "metadata": {},
   "source": [
    "V této části bude účelem vypsat informace o článcích na správné adrese (`/clanky`)\n",
    "\n",
    "<br>\n",
    "\n",
    "Všechny úpravy tedy musíš provést v souboru `templates/topics.html`:\n",
    "```html\n",
    "<!-- templates/topics.html -->\n",
    "{% extends 'sablona.html' %}\n",
    "{% block content %}\n",
    "\n",
    "<h1>Aktuální články:</h1>\n",
    "<table>\n",
    "    <tbody>\n",
    "        {# for loop pomocí Jinja2 je podobný Pythonu #}\n",
    "        {% for clanek in clanky %}\n",
    "            <tr>\n",
    "                <td>{{ clanek[\"Přidáno\"] }}</td>\n",
    "                <td>{{ clanek[\"Typ\"] }}</td>\n",
    "                <td>{{ clanek[\"Popisek\"] }}</td>\n",
    "                <td>\n",
    "                    <a href=\"{{ clanek['Odkaz'] }}\" target=\"blank\">Odkaz</a>\n",
    "                </td>\n",
    "            </tr>\n",
    "        {% endfor %}\n",
    "    </tbody>\n",
    "</table>\n",
    "\n",
    "{% endblock %}\n",
    "```"
   ]
  },
  {
   "cell_type": "markdown",
   "metadata": {},
   "source": [
    "Pár poznámek k minulým úpravám:\n",
    "1. Tabulka `<table>` nebude obsahovat záhlaví. To nám totiž vrátí sama smyčka,\n",
    "2. `{# #}`, komentář slouží k lepšímu popisku,\n",
    "3. `<tr></tr>`, elementy mi utváří jeden řádek,\n",
    "4. `<td></td>`, elementy mi vytvoří samotnou buňku na řádku,\n",
    "5. `{{ clanek[\"name\"] }}`, mapování hodnoty ze klíče probíhá jako v Pythonu,\n",
    "6. `<a href=...>`, element HTML, který s sebou nese adresu,\n",
    "7. `{% endfor %}`, končí příkaz `Jinja2` smyčky."
   ]
  },
  {
   "cell_type": "markdown",
   "metadata": {},
   "source": [
    "<br>\n",
    "\n",
    "Další úpravu potom potřebuje samotná funkce, která se stará o *renderování*:"
   ]
  },
  {
   "cell_type": "code",
   "execution_count": null,
   "metadata": {},
   "outputs": [],
   "source": [
    "@app.route(\"/clanky\")\n",
    "def zobraz_clanky():\n",
    "    topics = precti_clanky(\"clanky.csv\")\n",
    "\n",
    "    return render_template(\n",
    "        \"topics.html\",\n",
    "        jmeno_stranky=\"CLANKY\",\n",
    "        clanky=topics\n",
    "    )"
   ]
  },
  {
   "cell_type": "markdown",
   "metadata": {},
   "source": [
    "Jedinné dvě změny, které ve funkci `topics` nastanou, jsou:\n",
    "1. Spustíš funkci `precti_clanky`, ať dostaneš obsah souboru `csv`,\n",
    "2. získáné články v proměnné `topics` vložíš jako *argument* do funkce `render_template`,\n",
    "3. jméno *argumentu* musí odpovídat jménu v `html` šabloně."
   ]
  },
  {
   "cell_type": "markdown",
   "metadata": {},
   "source": [
    "#### Demo 5: Načítání dat ze souboru"
   ]
  },
  {
   "cell_type": "markdown",
   "metadata": {},
   "source": [
    "<br>\n",
    "\n",
    "<img src=\"https://external-content.duckduckgo.com/iu/?u=https%3A%2F%2Ftse1.mm.bing.net%2Fth%3Fid%3DOIP.WRTP0g-9wStrMOnBMRRjtwHaHa%26pid%3DApi&f=1&ipt=8abc9f4a72f03a799acc091c4d2be605c1e48e8f54a46061f899c9e37d68bc62&ipo=images\" width=\"230\" style=\"margin-left:auto; margin-right:auto\">"
   ]
  },
  {
   "cell_type": "markdown",
   "metadata": {},
   "source": [
    "## Dynamické routy\n",
    "\n",
    "---"
   ]
  },
  {
   "cell_type": "markdown",
   "metadata": {},
   "source": [
    "V naší ukázce, v této situaci, můžeš zatím přistupovat pouze na:\n",
    "1. Úvodní stránku,\n",
    "2. Souhrn článků.\n",
    "\n",
    "<br>\n",
    "\n",
    "Dále ale není na škodu, umožnit uživateli aplikace, přístup k detailům jednotlivých článků.\n",
    "\n",
    "Určitě není pohodlné, tvořit na každý záznam nový `html` soubor.\n",
    "\n",
    "K tomu můžeš využít opět funkce z `Werkzeug` balíčku.\n",
    "\n",
    "Tím pádem můžeš místo 50 různých rout, pro 50 různých šablon **použít jednu**."
   ]
  },
  {
   "cell_type": "code",
   "execution_count": null,
   "metadata": {},
   "outputs": [],
   "source": [
    "from flask import Flask, render_template, abort"
   ]
  },
  {
   "cell_type": "code",
   "execution_count": null,
   "metadata": {},
   "outputs": [],
   "source": [
    "@app.route(\"/clanky/<int:id>\")          # uživatel zadá specifikátor,\n",
    "def zobraz_clanek_dle_id(id):           # specifikátor bude potom argument,\n",
    "    topics = read_topics(\"clanky.csv\")  # načteš články..\n",
    "\n",
    "    for topic in topics:\n",
    "        if topic[\"Id\"] == str(id):      # hledáš odpovídající článek,\n",
    "            result = topic         \n",
    "            break\n",
    "\n",
    "        else:\n",
    "            result = None\n",
    "\n",
    "    if not result:                      # pokud nenajdeš, vracíš status 404,\n",
    "        abort(404)\n",
    "\n",
    "    return render_template(             # rendruješ..\n",
    "        \"topic.html\",\n",
    "        jmeno_stranky=f\"CLANEK {id}\",\n",
    "        clanek=result\n",
    "    )"
   ]
  },
  {
   "cell_type": "markdown",
   "metadata": {},
   "source": [
    "Pomocí stringu `<int:id>` udáváš proměnnou `id` typu `int`.\n",
    "    \n",
    "Pokud se ti nehodí celé číslo, můžeš použít `<string:id>`."
   ]
  },
  {
   "cell_type": "markdown",
   "metadata": {},
   "source": [
    "Pokud uživatel nezadá validní hodnotu proměnné `id`, potom dostane 404 *Not found*.\n",
    "\n",
    "<br>"
   ]
  },
  {
   "cell_type": "markdown",
   "metadata": {},
   "source": [
    "Následně ještě potřebuješ vytvořit novou `html` šablonu:\n",
    "```html\n",
    "<!-- templates/topic.html -->\n",
    "{% extends 'layout.html' %}\n",
    "{% block content %}\n",
    "\n",
    "<h1>Článek {{ clanek[\"Id\"] }}</h1>\n",
    "<table>\n",
    "    <tbody>\n",
    "        <tr>\n",
    "            <td>Přidáno dne:</td>\n",
    "            <td>{{ clanek[\"Přidáno\"] }}</td>\n",
    "        </tr>   \n",
    "        <tr>\n",
    "            <td>Typ článku:</td>\n",
    "            <td>{{ clanek[\"Typ\"] }}</td>\n",
    "        </tr>   \n",
    "        <tr>\n",
    "            <td>Text článku:</td>\n",
    "            <td>{{ clanek[\"Popisek\"] }}</td>\n",
    "        </tr>   \n",
    "        <tr>\n",
    "            <td>Odkaz na článek:</td>\n",
    "            <td>\n",
    "                <a href=\"{{ clanek['Odkaz'] }}\" target=\"blank\">Odkaz</a>\n",
    "            </td>\n",
    "        </tr>   \n",
    "    </tbody>\n",
    "</table>\n",
    "\n",
    "{% endblock %}\n",
    "```"
   ]
  },
  {
   "cell_type": "markdown",
   "metadata": {},
   "source": [
    "Toto je opět šablona, kterou knihovna `Jinja2` zpracuje k obrazu tvému.\n",
    "\n",
    "Samotná šablona obsahuje pouze funkční a proměnné bloky `Jinja2` vzoru."
   ]
  },
  {
   "cell_type": "markdown",
   "metadata": {},
   "source": [
    "```\n",
    "muj_flask_projekt/\n",
    "   ├─app.py/\n",
    "   ├─data/\n",
    "   |   └── topics.csv\n",
    "   └─templates/\n",
    "       ├── index.html\n",
    "       ├── nav.html\n",
    "       ├── layout.html\n",
    "       ├── topic.html\n",
    "       └── topics.html\n",
    "```"
   ]
  },
  {
   "cell_type": "markdown",
   "metadata": {},
   "source": [
    "#### Demo 6: Dynamické routování"
   ]
  },
  {
   "cell_type": "markdown",
   "metadata": {},
   "source": [
    "<br>\n",
    "\n",
    "<img src=\"https://external-content.duckduckgo.com/iu/?u=https%3A%2F%2Ftse3.mm.bing.net%2Fth%3Fid%3DOIP.5OGuDVPGxsox5V-ytKQzOAHaHa%26pid%3DApi&f=1\" width=\"230\" style=\"margin-left:auto; margin-right:auto\">"
   ]
  },
  {
   "cell_type": "markdown",
   "metadata": {},
   "source": [
    "## Stylování HTML souborů\n",
    "\n",
    "---"
   ]
  },
  {
   "cell_type": "markdown",
   "metadata": {},
   "source": [
    "Pokud budeš potřebovat přidat formátování pro tvoje `html` soubory, můžeš doplnit `css` soubory.\n",
    "```\n",
    "muj_flask_projekt/\n",
    "   ├─app.py/\n",
    "   ├─static/\n",
    "   |   └── style.css\n",
    "   ├─templates/\n",
    "   |   ├── index.html\n",
    "   |   ├── nav.html\n",
    "   |   ├── sablona.html\n",
    "   |   ├── topic.html   \n",
    "   |   └── topics.html\n",
    "   └─data\n",
    "       └─topics.csv\n",
    "```"
   ]
  },
  {
   "cell_type": "markdown",
   "metadata": {},
   "source": [
    "Často tím dosáhneš pohlednější provedení a pravidel, která uložíš v rámci souboru `style.css`.\n",
    "\n",
    "Nezapomeň odkázat na soubor pravidel ve tvojí šabloně `templates/sablona.html`:\n",
    "```html\n",
    "<!-- templates/layout.html -->\n",
    "<!doctype html>\n",
    "<html>\n",
    " <head>\n",
    "   <title>Flask projekt - {{ jmeno_stranky }}</title>\n",
    "   \n",
    "   {# Odkaz na soubor s formátovacími pravidly 'style.css' #}\n",
    "   <link rel=\"stylesheet\" href=\"/static/style.css\">\n",
    "\n",
    " </head>\n",
    " <body>\n",
    "   {% include 'nav.html' %}\n",
    "   {% block content %}{% endblock %}\n",
    " </body>\n",
    "</html>\n",
    "\n",
    "```"
   ]
  },
  {
   "cell_type": "markdown",
   "metadata": {},
   "source": [
    "#### Demo 7: Stylování aplikace pomocí CSS"
   ]
  },
  {
   "cell_type": "markdown",
   "metadata": {},
   "source": [
    "---"
   ]
  }
 ],
 "metadata": {
  "kernelspec": {
   "display_name": "Python 3 (ipykernel)",
   "language": "python",
   "name": "python3"
  },
  "language_info": {
   "codemirror_mode": {
    "name": "ipython",
    "version": 3
   },
   "file_extension": ".py",
   "mimetype": "text/x-python",
   "name": "python",
   "nbconvert_exporter": "python",
   "pygments_lexer": "ipython3",
   "version": "3.8.10"
  }
 },
 "nbformat": 4,
 "nbformat_minor": 4
}
