{
 "cells": [
  {
   "cell_type": "markdown",
   "metadata": {},
   "source": [
    "### Úvod\n",
    "\n",
    "---\n",
    "\n",
    "1. [Prezentace](https://docs.google.com/presentation/d/1PONQS4yth1bRy1-9AdYYwiElo89eEnWW9ZtAcV24kQ0/edit?usp=sharing),\n",
    "1. [Úvod do IO](#Úvod-do-IO),\n",
    "2. [Textové soubory](#Textové-soubory),\n",
    "3. [Tabulkové soubory](#Tabulkové-soubory),\n",
    "4. [JSON soubory](#JSON-soubory),\n",
    "5. [Domácí úkol](#Domácí-úkol)."
   ]
  },
  {
   "cell_type": "markdown",
   "metadata": {},
   "source": [
    "<br>\n",
    "\n",
    "<img src=\"https://external-content.duckduckgo.com/iu/?u=https%3A%2F%2Ftse4.mm.bing.net%2Fth%3Fid%3DOIP.BPYuvKj05Xo_oF_oXiL1yAHaHa%26pid%3DApi&f=1\" width=\"250\">\n",
    "\n",
    "\n",
    "## Úvod do IO\n",
    "\n",
    "---"
   ]
  },
  {
   "cell_type": "markdown",
   "metadata": {},
   "source": [
    "Nyní pracuješ pouze s objekty **Pythonu vlastními** nebo **s jeho knihovnami**.\n",
    "\n",
    "Všechny tyto *objekty* jsi vytvoříš a zpracováváš **v rámci paměti RAM** (*random access memory*).\n",
    "\n",
    "*Paměť RAM* je **velmi rychlá**, ale současně náročná a vyžaduje **neustálý zdroj** (není elektřina, ztratíš data).\n",
    "\n",
    "Takový **disk počítače** je o dost **pomalejší** než paměť *RAM*, ale umožňuje ti uchovávat tebou získaná, zpracovaná data.\n",
    "\n",
    "Proto je dobré osvojit si pravidla a postupy v Pythonu, jak vytvořit **persistentní data**.\n",
    "\n",
    "<br>"
   ]
  },
  {
   "cell_type": "markdown",
   "metadata": {},
   "source": [
    "### File Input/Output (~vstupní soubor, výstupní soubor)\n",
    "\n",
    "Klasickou cestou, jak vytvořit obyčejný soubor, (což je v podstatě jen *sekvence bajtů*), je poskládat údaje za nějakým **jménem souboru**.\n",
    "\n",
    "Než ale začneš se souborem pracovat, potřebuješ si v Pythonu vytvořit *pomocný objekt*, který jej bude **zastupovat** (nebo se na něj odkazovat):"
   ]
  },
  {
   "cell_type": "markdown",
   "metadata": {},
   "source": [
    "```python\n",
    "muj_soubor = open(jmeno_souboru, pravidla)  # pomocný objekt\n",
    "\n",
    "# ... libovolná ohlášení\n",
    "\n",
    "muj_soubor.close()\n",
    "```"
   ]
  },
  {
   "cell_type": "markdown",
   "metadata": {},
   "source": [
    "1. `muj_soubor`, je odkaz spojující **soubor** a **Pythonovský objekt**,\n",
    "2. `open()`, *zabudovaná funkce*, která **vytváří spojení** (*stream*) mezi objektem a souborem,\n",
    "3. `jmeno_souboru`, jméno souboru (*relativní* cesta/*absolutní* cesta),\n",
    "4. `pravidla`, výběr argumentů upřesňujících, **jak soubor otevřít**,\n",
    "5. `muj_soubor.close`, způsob, kterým **ukončíš spojení** mezi objektem a souborem."
   ]
  },
  {
   "cell_type": "markdown",
   "metadata": {},
   "source": [
    "<br>\n",
    "\n",
    "<img src=\"https://external-content.duckduckgo.com/iu/?u=https%3A%2F%2Ftse2.mm.bing.net%2Fth%3Fid%3DOIP.JhMJc09m94e9V3oKtb_n3AHaHa%26pid%3DApi&f=1\" width=\"200\">\n",
    "\n",
    "## Textové soubory\n",
    "\n",
    "---\n",
    "\n",
    "Nejlepším souborem na začátek bude prostý **textový soubor**.\n",
    "\n",
    "Textovým souborem rozuměj jakýkoliv soubor, který má příponu `.txt`.\n",
    "\n",
    "##### Demo: Ukázka textového souboru"
   ]
  },
  {
   "cell_type": "code",
   "execution_count": 3,
   "metadata": {},
   "outputs": [
    {
     "name": "stdout",
     "output_type": "stream",
     "text": [
      "Prvni radek,\r\n",
      "druhy radek,\r\n",
      "treti radek.\r\n"
     ]
    }
   ],
   "source": [
    "!echo -e \"Prvni radek,\\ndruhy radek,\\ntreti radek.\" > prvni_soubor.txt\n",
    "!head prvni_soubor.txt"
   ]
  },
  {
   "cell_type": "markdown",
   "metadata": {},
   "source": [
    "### Úvod k souborům\n",
    "\n",
    "Základními procesy pro práci se soubory obecně jsou:\n",
    "1. **Čtení** souborů,\n",
    "2. **Zápis** do souborů."
   ]
  },
  {
   "cell_type": "markdown",
   "metadata": {},
   "source": [
    "### Čtení souborů\n",
    "\n",
    "Otevřít a přečíst *textový soubor* pomocí *editorů* ovládáš.\n",
    "\n",
    "Teď se podívej, jak můžeš naučit otevírání a čtení souborů také **interpreta Pythonu**.\n",
    "\n",
    "Než se pustíš do otevírání, zkus omrknout, jestli **neexistuje nějaká pomůcka**, která ti [práci usnadní](https://docs.python.org/3/library/functions.html):"
   ]
  },
  {
   "cell_type": "code",
   "execution_count": null,
   "metadata": {
    "scrolled": false
   },
   "outputs": [],
   "source": [
    "# omrkni nápovědu k funkci\n",
    "help()"
   ]
  },
  {
   "cell_type": "code",
   "execution_count": null,
   "metadata": {},
   "outputs": [],
   "source": [
    "muj_txt_soubor = open(prvni_soubor.txt)"
   ]
  },
  {
   "cell_type": "markdown",
   "metadata": {},
   "source": [
    "Dávej pozor, jakým způsobem **jméno souboru** používáš. Python potřebuje pracovat s takovým datovým typem, který dobře zná.\n",
    "\n",
    "<br>\n",
    "\n",
    "Proto musíš ze jména vytvořit `string`:"
   ]
  },
  {
   "cell_type": "code",
   "execution_count": 9,
   "metadata": {},
   "outputs": [],
   "source": [
    "muj_txt_soubor = open(\"prvni_soubor.txt\")"
   ]
  },
  {
   "cell_type": "code",
   "execution_count": 8,
   "metadata": {},
   "outputs": [
    {
     "name": "stdout",
     "output_type": "stream",
     "text": [
      "-rw-r--r-- 1 jovyan users     26 Jan 19 15:09 prvni_soubor.txt\r\n"
     ]
    }
   ],
   "source": [
    "!ls -l | grep *.txt"
   ]
  },
  {
   "cell_type": "markdown",
   "metadata": {},
   "source": [
    "Další kolizí může být **umístění souboru**.\n",
    "\n",
    "<br>\n",
    "\n",
    "*Interpret* standardně pracuje **v aktuálním umístění**.\n",
    "\n",
    "Takže buď soubor přesuneš, nebo na něj odkážeš pomocí:\n",
    "1. **Relativní cesty** (kratší zápis, vzhledem k aktuálnímu umístění),\n",
    "2. **absolutní cesty** (delší zápis, celá cesta od *roota* nebo *jména disku*)."
   ]
  },
  {
   "cell_type": "markdown",
   "metadata": {},
   "source": [
    "##### Relativní cesta:\n",
    "```\n",
    "\"prvni_soubor.txt\"                # v aktuální složce\n",
    "\"../prvni_soubor.txt\"             # v rodičovské složce\n",
    "\"shared/onsite/prvni_soubor.txt\"  # v dceřinné složce 'shared', v dceřinné složce 'onsite'\n",
    "```\n",
    "\n",
    "##### Absolutní cesta, Windows:\n",
    "```\n",
    "\"C:\\users\\admin\\docs\\prvni_soubor.txt\"\n",
    "```\n",
    "\n",
    "##### Absolutní cesta, unix:\n",
    "```\n",
    "\"/home/user/project/shared/onsite/prvni_soubor.txt\"\n",
    "```"
   ]
  },
  {
   "cell_type": "code",
   "execution_count": 10,
   "metadata": {},
   "outputs": [
    {
     "name": "stdout",
     "output_type": "stream",
     "text": [
      "<_io.TextIOWrapper name='prvni_soubor.txt' mode='r' encoding='UTF-8'>\n"
     ]
    }
   ],
   "source": [
    "print(muj_txt_soubor)"
   ]
  },
  {
   "cell_type": "code",
   "execution_count": 11,
   "metadata": {},
   "outputs": [
    {
     "name": "stdout",
     "output_type": "stream",
     "text": [
      "<class '_io.TextIOWrapper'>\n"
     ]
    }
   ],
   "source": [
    "print(type(muj_txt_soubor))"
   ]
  },
  {
   "cell_type": "markdown",
   "metadata": {},
   "source": [
    "Metody **pro čtění obsahu** *TextIOWrapper* objektu:\n",
    "\n",
    "1. `read()` - přečte celý soubor jako jeden `string`\n",
    "2. `readline()` - přečte pouze první řádek jako `string`\n",
    "3. `readlines()` - přečte celý soubor jako `list` (co řádek, to údaj)"
   ]
  },
  {
   "cell_type": "code",
   "execution_count": null,
   "metadata": {},
   "outputs": [],
   "source": [
    "obsah_txt = muj_txt_soubor.readlines()"
   ]
  },
  {
   "cell_type": "markdown",
   "metadata": {},
   "source": [
    "Jakmile tvoje práce s textovými souborem skončí, **nezapomeň soubor zavřít**."
   ]
  },
  {
   "cell_type": "code",
   "execution_count": null,
   "metadata": {},
   "outputs": [],
   "source": [
    "muj_txt_soubor.close()"
   ]
  },
  {
   "cell_type": "markdown",
   "metadata": {},
   "source": [
    "Pokud budeš mít pochybnosti, jestli se spojení *interpreta* a **souboru** skutečně ukončené, vyzkoušej:"
   ]
  },
  {
   "cell_type": "code",
   "execution_count": 4,
   "metadata": {},
   "outputs": [
    {
     "ename": "NameError",
     "evalue": "name 'muj_txt_soubor' is not defined",
     "output_type": "error",
     "traceback": [
      "\u001b[0;31m---------------------------------------------------------------------------\u001b[0m",
      "\u001b[0;31mNameError\u001b[0m                                 Traceback (most recent call last)",
      "\u001b[0;32m<ipython-input-4-28787f890ca1>\u001b[0m in \u001b[0;36m<module>\u001b[0;34m\u001b[0m\n\u001b[0;32m----> 1\u001b[0;31m \u001b[0mmuj_txt_soubor\u001b[0m\u001b[0;34m.\u001b[0m\u001b[0mclosed\u001b[0m\u001b[0;34m\u001b[0m\u001b[0;34m\u001b[0m\u001b[0m\n\u001b[0m",
      "\u001b[0;31mNameError\u001b[0m: name 'muj_txt_soubor' is not defined"
     ]
    }
   ],
   "source": [
    "muj_txt_soubor.closed"
   ]
  },
  {
   "cell_type": "markdown",
   "metadata": {},
   "source": [
    "Výstupem ti bude `bool` hodnota, která vrací `True` v případě, že objekt skutečně zanikl. Jinak `False`."
   ]
  },
  {
   "cell_type": "markdown",
   "metadata": {},
   "source": [
    "### Zápis do souborů\n",
    "\n",
    "Pokud ovšem žádný textový soubor nemáš, nebo jej chceš naopak **vytvořit**, musíš jej prvně **zapsat**:"
   ]
  },
  {
   "cell_type": "code",
   "execution_count": null,
   "metadata": {},
   "outputs": [],
   "source": [
    "muj_txt = \"Toto je můj nový soubor^.^\""
   ]
  },
  {
   "cell_type": "markdown",
   "metadata": {},
   "source": [
    "*String* `muj_txt` máš aktuálně k dispozici pouze jako nějaký objekt Pythonu.\n",
    "\n",
    "<br>\n",
    "\n",
    "Opět je potřeba nejprve spojit **objekt v Pythonu** se skutečným souborem na disku."
   ]
  },
  {
   "cell_type": "code",
   "execution_count": null,
   "metadata": {},
   "outputs": [],
   "source": [
    "# help(open)"
   ]
  },
  {
   "cell_type": "code",
   "execution_count": null,
   "metadata": {},
   "outputs": [],
   "source": [
    "muj_soubor = open(\"../onsite/lesson07/muj_textovy_soubor.txt\", mode=\"w\")  # vybrat vhodný režim"
   ]
  },
  {
   "cell_type": "markdown",
   "metadata": {},
   "source": [
    "Soubor si následně můžeš otevřít, ale zjistíš, že je **v tento moment prázdný**.\n",
    "\n",
    "Funkce `open` pouze vytvoří (*~iniciuje*) nový objekt `muj_novy_soubor`.\n",
    "\n",
    "Příslušný text teprve musíme zapsat, pomocí vhodné *funkce* `write`:"
   ]
  },
  {
   "cell_type": "code",
   "execution_count": null,
   "metadata": {},
   "outputs": [],
   "source": [
    "help(muj_soubor.write)"
   ]
  },
  {
   "cell_type": "code",
   "execution_count": null,
   "metadata": {},
   "outputs": [],
   "source": [
    "muj_soubor.write(muj_txt)"
   ]
  },
  {
   "cell_type": "markdown",
   "metadata": {},
   "source": [
    "Pokud si budeš chtít nyní prohlédnout **zapsaný soubor na disku**, zjistíš, že je stále prázdný.\n",
    "\n",
    "Protože *stále není ukončený*, nedovedeš s ním nijak manipulovat.\n",
    "\n",
    "Pokud zjistíš, že není ukončený, ukončíš jej pomocí metody `close`."
   ]
  },
  {
   "cell_type": "code",
   "execution_count": null,
   "metadata": {},
   "outputs": [],
   "source": [
    "muj_soubor.closed"
   ]
  },
  {
   "cell_type": "code",
   "execution_count": null,
   "metadata": {},
   "outputs": [],
   "source": [
    "muj_soubor.close()"
   ]
  },
  {
   "cell_type": "markdown",
   "metadata": {},
   "source": [
    "Teprve po ukončení *streamu* (nebo také zápisu) objektu, můžeš soubor `muj_novy_soubor.txt` prozkoumat."
   ]
  },
  {
   "cell_type": "markdown",
   "metadata": {},
   "source": [
    "### Opakovaný zápis do souboru\n",
    "\n",
    "Máš situaci, kdy tebou vytvořený soubor existuje a ty jej chceš **znovu otevřít** a **rozšířit**:"
   ]
  },
  {
   "cell_type": "code",
   "execution_count": null,
   "metadata": {},
   "outputs": [],
   "source": [
    "dalsi_text = \"\\nRád čtu a hraji na klavír\""
   ]
  },
  {
   "cell_type": "markdown",
   "metadata": {},
   "source": [
    "Opět potřebuješ inicializovat **pomocný objekt**, jako v předchozích scénářích:"
   ]
  },
  {
   "cell_type": "code",
   "execution_count": null,
   "metadata": {},
   "outputs": [],
   "source": [
    "muj_soubor = open(\"../onsite/lesson07/muj_textovy_soubor.txt\", mode=\"w\")\n",
    "muj_soubor.write(dalsi_text)\n",
    "muj_soubor.close()"
   ]
  },
  {
   "cell_type": "markdown",
   "metadata": {},
   "source": [
    "Nyní zkontroluj aktualizovaný **nově přidaný text**. Copak se to stalo?\n",
    "\n",
    "<br>\n",
    "\n",
    "Pokud opětovně načteš **stejný soubor** v režimu `w`, přesuneš \"zapisovač\" (*představ si jej jako blikající kurzor v editoru*) opět **na začátek souboru**.\n",
    "\n",
    "*Interpret* zapisuje od místa, kde se zapisovač nachází, takže dojde **k přepsání původního obsahu**.\n",
    "\n",
    "<br>\n",
    "\n",
    "Pokud chceš automaticky zapisovat **od konce souboru**, otevři soubor s argumentem `mode=\"a\"`, tedy v režimu `append`."
   ]
  },
  {
   "cell_type": "code",
   "execution_count": null,
   "metadata": {},
   "outputs": [],
   "source": [
    "dalsi_txt = (\"Ahoj, ja jsem Matous (:\\n\", \"Rad ctu, hraji na klavir\\n\")"
   ]
  },
  {
   "cell_type": "code",
   "execution_count": null,
   "metadata": {},
   "outputs": [],
   "source": [
    "muj_soubor = open(\"../onsite/lesson07/muj_textovy_soubor.txt\", mode=\"a\")\n",
    "muj_soubor.writelines(dalsi_txt)\n",
    "muj_soubor.close()"
   ]
  },
  {
   "cell_type": "markdown",
   "metadata": {},
   "source": [
    "Pokud budeš někdy pracovat se stejným souborem tak, že jej budeš současně:\n",
    "1. **číst** soubor,\n",
    "2. **zapisovat** do něj.\n",
    "    \n",
    "Vyzkoušej režim `r+`."
   ]
  },
  {
   "cell_type": "markdown",
   "metadata": {},
   "source": [
    "### Kontextový manažer `with`\n",
    "\n",
    "---\n",
    "\n",
    "to-do"
   ]
  },
  {
   "cell_type": "code",
   "execution_count": null,
   "metadata": {},
   "outputs": [],
   "source": []
  },
  {
   "cell_type": "markdown",
   "metadata": {},
   "source": [
    "<br>\n",
    "\n",
    "<img src=\"https://external-content.duckduckgo.com/iu/?u=https%3A%2F%2Ftse4.mm.bing.net%2Fth%3Fid%3DOIP.0iOsXQOxAJaT_DiVOf8zgwHaGy%26pid%3DApi&f=1&ipt=221ea3dac1c977db61c17e64a7f59579c7f2d09c8ff49065302dddb12a84f8b1&ipo=images\" width=\"250\">\n",
    "\n",
    "## Formátování stringů\n",
    "\n",
    "---\n"
   ]
  },
  {
   "cell_type": "markdown",
   "metadata": {},
   "source": [
    "Doposud **formátování stringů** probíhalo většinou pomocí *spojování* (*~concatenation*):"
   ]
  },
  {
   "cell_type": "code",
   "execution_count": 8,
   "metadata": {},
   "outputs": [],
   "source": [
    "zprava = \"Ahoj, jmenuji se \" + jmeno + \" a je mi \" + str(vek) + \" let.\" "
   ]
  },
  {
   "cell_type": "code",
   "execution_count": 9,
   "metadata": {},
   "outputs": [
    {
     "name": "stdout",
     "output_type": "stream",
     "text": [
      "Ahoj, jmenuji se Matouš a je mi 99 let.\n"
     ]
    }
   ],
   "source": [
    "print(zprava)"
   ]
  },
  {
   "cell_type": "markdown",
   "metadata": {},
   "source": [
    "<br>\n",
    "\n",
    "Případně jako **argumenty** pro funkci `print`:"
   ]
  },
  {
   "cell_type": "code",
   "execution_count": 10,
   "metadata": {},
   "outputs": [],
   "source": [
    "jmeno = \"Matouš\"\n",
    "vek = 99"
   ]
  },
  {
   "cell_type": "code",
   "execution_count": 11,
   "metadata": {},
   "outputs": [
    {
     "name": "stdout",
     "output_type": "stream",
     "text": [
      "Ahoj, jmenuji se Matouš a je mi 99 let.\n"
     ]
    }
   ],
   "source": [
    "print(\"Ahoj, jmenuji se\", jmeno, \"a je mi\", vek, \"let.\" )"
   ]
  },
  {
   "cell_type": "markdown",
   "metadata": {},
   "source": [
    "<br>\n",
    "\n",
    "Obecně řečeno, je **formátování stringů** způsob, jakým zkombinuješ:\n",
    "* libovolný neměnný `str`,\n",
    "* hodnoty uchované **v proměnných**."
   ]
  },
  {
   "cell_type": "markdown",
   "metadata": {},
   "source": [
    "Vidíš, že *formátování* je tedy užitečné. Jaké způsoby formátování máš v Pythonu k dispozici:\n",
    "1. Formátovací výraz (`%`-formatting c-style),\n",
    "2. formátovací metoda (`str.format()`),\n",
    "3. formátovaný string (`f\"{}\"`).\n",
    "\n",
    "<br>\n",
    "\n",
    "### Formátovací výraz"
   ]
  },
  {
   "cell_type": "markdown",
   "metadata": {},
   "source": [
    "Jde prakticky o původní způsob formátování stringu v Pythonu už od uplného začátku (od první verze Pythonu):"
   ]
  },
  {
   "cell_type": "code",
   "execution_count": 7,
   "metadata": {},
   "outputs": [
    {
     "name": "stdout",
     "output_type": "stream",
     "text": [
      "Ahoj, jmenuji se Lukas a je mi 27 let\n"
     ]
    }
   ],
   "source": [
    "jmeno = \"Lukas\"\n",
    "vek = 27\n",
    "\n",
    "print(\"Ahoj, jmenuji se %s a je mi %d let\" % (jmeno, vek))"
   ]
  },
  {
   "cell_type": "markdown",
   "metadata": {},
   "source": [
    "Formátování má tři částí:\n",
    "1. Výrazy `%s` a `%d` (někdy také **konverzní operátory**),\n",
    "2. operátor `%`,\n",
    "3. `tuple` proměnných `(jmeno, vek)`."
   ]
  },
  {
   "cell_type": "markdown",
   "metadata": {},
   "source": [
    "Výrazy ti pomohou označit místa, kam se hodnota v proměnné zapíše.\n",
    "\n",
    "Můžeš pracovat s těmito typy:\n",
    "* `%d` výraz formátuješ jako **celé číslo**,\n",
    "* `%f` výraz formátuješ jako **desetinné číslo**,\n",
    "* `%s` výraz formátuješ jako **textový znak**.\n",
    "\n",
    "Nezapomeň na operátor `%`, bez něj ti nebude výraz fungovat.\n",
    "\n",
    "Nakonec přidáš `tuple` proměnných, ze kterých budeš hodnoty do konverzních operátorů předávat."
   ]
  },
  {
   "cell_type": "markdown",
   "metadata": {},
   "source": [
    "Další doplňující možnosti formátování `str`:\n",
    "\n",
    "| typ formátování | ukázka | výstup | popis |\n",
    "| :- | :- | :- | :- |\n",
    "| Šířka | `print(\"\\|%4d\\|\" % (54,))` |`  54`| Při formátování výrazu můžeš zadat pevnou šířku stringu |\n",
    "| výplň | `print('\\|%04d\\|' % (54,))` |`0054`| Výstup o šířce 4 znaků, které jsou vyplněné nulami |\n",
    "| zarovnání vlevo | `print(\"\\|%-5d\\|\" % (54,))` |`54  `| pro zarovnání vlevo |\n",
    "| zarovnání vpravo | `print(\"\"\\|%5d\\|\" % (54,))` |`  54`| pro zarovnání vpravo (defaultně) |\n",
    "| přesnost | `print(\"\\|%.2f\\|\" % (54.653,))` |`54`| Pro zaokrouhlení potřebuješ udat počet platných číslic. Dále je rozdíl zaokrouhlení u celých a desetinných čísel |\n",
    "\n",
    "<br>\n",
    "\n",
    "**Dávej pozor!**\n",
    "Dnes se tento způsob formátování již oficiálně nedoporučuje.\n",
    "\n",
    "Jelikož často selhává, nesprávně zobrazuje datové typy `tuple` nebo `dict` a vypisování není příliš praktické."
   ]
  },
  {
   "cell_type": "markdown",
   "metadata": {},
   "source": [
    "<br>\n",
    "\n",
    "### Formátovací metoda\n",
    "\n",
    "Mladší metodou, je metoda `str`, která se jmenuje `format`.\n",
    "\n",
    "Je dostupná **v Pythonu 2.6<**. Její použití je docela podobné *formátovacímu výrazu*:"
   ]
  },
  {
   "cell_type": "code",
   "execution_count": 15,
   "metadata": {},
   "outputs": [],
   "source": [
    "jmeno = \"Lukáš\"\n",
    "vek = 27"
   ]
  },
  {
   "cell_type": "code",
   "execution_count": 16,
   "metadata": {},
   "outputs": [
    {
     "name": "stdout",
     "output_type": "stream",
     "text": [
      "Ahoj, jmenuji se Lukáš a je mi 27 let\n"
     ]
    }
   ],
   "source": [
    "print(\"Ahoj, jmenuji se {} a je mi {} let.\".format(jmeno, vek))"
   ]
  },
  {
   "cell_type": "markdown",
   "metadata": {},
   "source": [
    "Formátování má nyní tři částí:\n",
    "1. Místo, kam chceš hodnotu umístit `{}` (pomocí složených závorek),\n",
    "2. samotná metoda `format`,\n",
    "3. **argumenty metody**, tedy jsou samotné proměnné."
   ]
  },
  {
   "cell_type": "markdown",
   "metadata": {},
   "source": [
    "**Do složených závorek** můžeš vkládat podle:\n",
    "1. **pořadí argumentů** v závorkách,\n",
    "2. nebo **pomocí indexů**."
   ]
  },
  {
   "cell_type": "code",
   "execution_count": 18,
   "metadata": {},
   "outputs": [
    {
     "name": "stdout",
     "output_type": "stream",
     "text": [
      "Ahoj, jmenuji se Lukáš a je mi 27 let.\n"
     ]
    }
   ],
   "source": [
    "print(\"Ahoj, jmenuji se {} a je mi {} let.\".format(jmeno, vek))  # dle pořadí argumentů"
   ]
  },
  {
   "cell_type": "code",
   "execution_count": 20,
   "metadata": {},
   "outputs": [
    {
     "name": "stdout",
     "output_type": "stream",
     "text": [
      "Ahoj, jmenuji se 27 a je mi Lukáš let.\n"
     ]
    }
   ],
   "source": [
    "print(\"Ahoj, jmenuji se {1} a je mi {0} let.\".format(jmeno, vek))  # dle pořadí argumentů"
   ]
  },
  {
   "cell_type": "markdown",
   "metadata": {},
   "source": [
    "Rozšiřující možnosti formátovací metodou `str`:\n",
    "\n",
    "| účel formátování | ukázka | výstup | popis |\n",
    "| :- | :- | :- | :- |\n",
    "| Šířka | `print(\"\\|{:15}\\|\".format(\"desktop\"))` |`\\|desktop        \\|`| pomocí dvojtečky a celého čísla zadáš, jak dlouhý má výstup být |\n",
    "| zarovnání vlevo | `print(\"\\|{:<15}\\|\".format(\"desktop\"))` |`\\|desktop    \\|`| zarovnání vlevo (defaultní) pomocí dvojtečky, šipky a celého čísla pro šířku pole |\n",
    "| zarovnání na střed | `print(\"\\|{:^15}\\|\".format(\"desktop\"))` |`\\|    desktop    \\|`| zarovnání na střed |\n",
    "| zarovnání vpravo | `print(\"\\|{:>15}\\|\".format(\"desktop\"))` |`\\|        desktop\\|`| pro zarovnání doprava |\n",
    "| Výplň | `print(\"\\|{:#>15}\\|\".format(\"desktop\"))` |`\\|########desktop|\\`| před zapiš znak pro výplň |\n",
    "| Přesnost | `print(\"\\|{:.4}\\|\".format(12.356))` |`\\|12.36\\|`| zaokrouhlení čísel na čtyři platné číslice |\n",
    "| Řádový oddělovač | `print(\"\\|{0:,}\\|\".format(123456789))` |`\\|123,456,789\\|`| oddělovač tisíců pomocí čárky |\n",
    "| Znaménka | `print(\"\\|{0:+}\\|\".format(280))` |`\\|+280\\|`| doplnění znaků `+`, `-` |"
   ]
  },
  {
   "cell_type": "code",
   "execution_count": 24,
   "metadata": {},
   "outputs": [
    {
     "name": "stdout",
     "output_type": "stream",
     "text": [
      "|desktop        |\n"
     ]
    }
   ],
   "source": [
    "print(\"|{:15}|\".format(\"desktop\"))"
   ]
  },
  {
   "cell_type": "markdown",
   "metadata": {},
   "source": [
    "Použití je pořád poměrně upovídané.\n",
    "\n",
    "Dále docela náročné na sledování třeba při zápisu více proměnných.\n",
    "\n",
    "Má ovšem více možností formátování, které se ti můžou hodit."
   ]
  },
  {
   "cell_type": "markdown",
   "metadata": {},
   "source": [
    "<br>\n",
    "\n",
    "### Stringová interpolace a.k.a. f-string\n",
    "\n",
    "Toto složitě znějící jméno je odvozené od úvodního písmene `f`, které předchází výrazům.\n",
    "\n",
    "Je to nejmladší varianta, dostupná od verze **Pythonu 3.6+**.\n",
    "\n",
    "<br>\n",
    "\n",
    "Pokud si vzpomeneš na větu zapsanou v Zenu Pythonu:\n",
    "`There should be one-- and preferably only one --obvious way to do it.`\n",
    "\n",
    "Potom se u formátování stringů zastav hlavně u tohoto způsobu:"
   ]
  },
  {
   "cell_type": "code",
   "execution_count": 26,
   "metadata": {},
   "outputs": [],
   "source": [
    "jmeno = \"Ondřej\"\n",
    "cislo_lekce = 9"
   ]
  },
  {
   "cell_type": "code",
   "execution_count": 27,
   "metadata": {},
   "outputs": [
    {
     "name": "stdout",
     "output_type": "stream",
     "text": [
      "Toto je Ondřej, který vás víta na 9. lekci!\n"
     ]
    }
   ],
   "source": [
    "print(f\"Toto je {jmeno}, který vás víta na {cislo_lekce}. lekci!\")"
   ]
  },
  {
   "cell_type": "markdown",
   "metadata": {},
   "source": [
    "*Stringová interpolace* funguje tak, že *interpret* **rozbije celý string** na:\n",
    "* konstanty (defaultní string),\n",
    "* výrazy (proměnné),\n",
    "\n",
    ".. které ze kterých nasbírá hodnoty a vše spojí dohromady."
   ]
  },
  {
   "cell_type": "markdown",
   "metadata": {},
   "source": [
    "Pokud chceš lépe pochopit, jak to probíhá:\n",
    "```python\n",
    "f\"Toto je {jmeno}, který vás víta na {cislo_lekce}. lekci!\"                   # f-string,\n",
    "\n",
    "\"Toto je \" + jmeno + \", který vás víta na \" + str(cislo_lekce) + \". lekci!\"   # concatenation,\n",
    "```\n",
    "\n",
    "Narozdíl od samotného procesu spojení, f-string na pozadí pracuje s optimalizovanou metodou `BUILD_STRING`, která celý postup [mírně urychluje](https://bugs.python.org/issue27078)."
   ]
  },
  {
   "cell_type": "code",
   "execution_count": 29,
   "metadata": {},
   "outputs": [],
   "source": [
    "import dis"
   ]
  },
  {
   "cell_type": "code",
   "execution_count": 30,
   "metadata": {},
   "outputs": [],
   "source": [
    "def formatovani_f_stringem(jmeno, cislo_lekce):\n",
    "    return f\"Toto je {jmeno}, který vás víta na {cislo_lekce}. lekci!\""
   ]
  },
  {
   "cell_type": "code",
   "execution_count": 31,
   "metadata": {},
   "outputs": [
    {
     "name": "stdout",
     "output_type": "stream",
     "text": [
      "  2           0 LOAD_CONST               1 ('Toto je ')\n",
      "              2 LOAD_FAST                0 (jmeno)\n",
      "              4 FORMAT_VALUE             0\n",
      "              6 LOAD_CONST               2 (', který vás víta na ')\n",
      "              8 LOAD_FAST                1 (cislo_lekce)\n",
      "             10 FORMAT_VALUE             0\n",
      "             12 LOAD_CONST               3 ('. lekci!')\n",
      "             14 BUILD_STRING             5\n",
      "             16 RETURN_VALUE\n"
     ]
    }
   ],
   "source": [
    "dis.dis(formatovani_f_stringem)"
   ]
  },
  {
   "cell_type": "markdown",
   "metadata": {},
   "source": [
    "Navíc podporuje všechny **formátovací úpravy**, které máš dostupné v rámci formátovací metody `.format()`."
   ]
  },
  {
   "cell_type": "markdown",
   "metadata": {},
   "source": [
    "Při práci se slovníkem dávej pozor **na uvozovky**:"
   ]
  },
  {
   "cell_type": "code",
   "execution_count": 33,
   "metadata": {},
   "outputs": [],
   "source": [
    "osoba = {\"jmeno\": \"Filip\", \"telefon\": \"+420777666555\"}"
   ]
  },
  {
   "cell_type": "code",
   "execution_count": 36,
   "metadata": {},
   "outputs": [
    {
     "ename": "SyntaxError",
     "evalue": "invalid syntax (<ipython-input-36-366348715ed3>, line 1)",
     "output_type": "error",
     "traceback": [
      "\u001b[0;36m  File \u001b[0;32m\"<ipython-input-36-366348715ed3>\"\u001b[0;36m, line \u001b[0;32m1\u001b[0m\n\u001b[0;31m    print(f\"Je to {osoba['jmeno']}, s tel. číslem: {osoba[\"telefon\"]}\")\u001b[0m\n\u001b[0m                                                           ^\u001b[0m\n\u001b[0;31mSyntaxError\u001b[0m\u001b[0;31m:\u001b[0m invalid syntax\n"
     ]
    }
   ],
   "source": [
    "print(f\"Je to {osoba['jmeno']}, s tel. číslem: {osoba[\"telefon\"]}\")"
   ]
  },
  {
   "cell_type": "code",
   "execution_count": 37,
   "metadata": {},
   "outputs": [
    {
     "name": "stdout",
     "output_type": "stream",
     "text": [
      "Je to Filip, s tel. číslem: +420777666555\n"
     ]
    }
   ],
   "source": [
    "print(f\"Je to {osoba['jmeno']}, s tel. číslem: {osoba['telefon']}\")"
   ]
  },
  {
   "cell_type": "markdown",
   "metadata": {},
   "source": [
    "Další velkou výhodou je možnost spouštět uživatelské funkce uvnitř stringů.\n",
    "\n",
    "Proměnné je možné psát ihned do složených závorek, takže není nutné sledovat proměnné na konci řádku."
   ]
  },
  {
   "cell_type": "markdown",
   "metadata": {},
   "source": [
    "<br>\n",
    "\n",
    "Další alternativou formátování (např. newslettery uvnitř mailů) jsou stringové šablony:"
   ]
  },
  {
   "cell_type": "code",
   "execution_count": 39,
   "metadata": {},
   "outputs": [],
   "source": [
    "from string import Template"
   ]
  },
  {
   "cell_type": "code",
   "execution_count": 41,
   "metadata": {},
   "outputs": [
    {
     "data": {
      "text/plain": [
       "'Ahoj, Matouš!'"
      ]
     },
     "execution_count": 41,
     "metadata": {},
     "output_type": "execute_result"
    }
   ],
   "source": [
    "sablona = Template('Ahoj, $jmeno!')\n",
    "sablona.substitute(jmeno=\"Matouš\")"
   ]
  },
  {
   "cell_type": "markdown",
   "metadata": {},
   "source": [
    "\n",
    "<img src=\"https://external-content.duckduckgo.com/iu/?u=https%3A%2F%2Ftse1.mm.bing.net%2Fth%3Fid%3DOIP.GMJvJ-GG0YS8H5JmHR3CbwHaHm%26pid%3DApi&f=1\" width=\"200\">\n",
    "\n",
    "\n",
    "## Domácí úkol\n",
    "\n",
    "---"
   ]
  }
 ],
 "metadata": {
  "kernelspec": {
   "display_name": "Python 3",
   "language": "python",
   "name": "python3"
  },
  "language_info": {
   "codemirror_mode": {
    "name": "ipython",
    "version": 3
   },
   "file_extension": ".py",
   "mimetype": "text/x-python",
   "name": "python",
   "nbconvert_exporter": "python",
   "pygments_lexer": "ipython3",
   "version": "3.8.6"
  }
 },
 "nbformat": 4,
 "nbformat_minor": 4
}
